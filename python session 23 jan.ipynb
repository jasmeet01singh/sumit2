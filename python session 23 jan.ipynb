{
 "cells": [
  {
   "cell_type": "code",
   "execution_count": 35,
   "id": "4e444f82",
   "metadata": {},
   "outputs": [],
   "source": [
    "import sqlite3"
   ]
  },
  {
   "cell_type": "markdown",
   "id": "c2032acc",
   "metadata": {},
   "source": [
    "working with database using SQL (Structured quey language)\n",
    "\n",
    "1.create a connection object.\n",
    "\n",
    "2.from the connection object,create a cursor object.\n",
    "\n",
    "3.Using the cursor object,call the execute method with create table query as the parameter"
   ]
  },
  {
   "cell_type": "markdown",
   "id": "ae64e704",
   "metadata": {},
   "source": [
    "# Create Database"
   ]
  },
  {
   "cell_type": "code",
   "execution_count": 36,
   "id": "86feb81f",
   "metadata": {},
   "outputs": [],
   "source": [
    "# student_database will bw created in Jupyter notebook Home\n",
    "\n",
    "#first connection object\n",
    "db=sqlite3.connect(\"studnet_database.db\")"
   ]
  },
  {
   "cell_type": "markdown",
   "id": "e4f1b6e5",
   "metadata": {},
   "source": [
    "Cursor\n",
    "A cursor in SQL is a temporary work area created in system memory when a SQL statement is executed.\n",
    "A sql cursor is a set of rows together with apointer that identifies a current row.\n",
    "It is a address object to reterive data from a result set one row at a time."
   ]
  },
  {
   "cell_type": "code",
   "execution_count": 37,
   "id": "cbb55029",
   "metadata": {},
   "outputs": [],
   "source": [
    "# create a cursor object from connection\n",
    "\n",
    "cur=db.cursor()"
   ]
  },
  {
   "cell_type": "markdown",
   "id": "3a7cc2f6",
   "metadata": {},
   "source": [
    "# Create table in Student database "
   ]
  },
  {
   "cell_type": "markdown",
   "id": "c934a220",
   "metadata": {},
   "source": [
    "SQL data types---\n",
    "integer --- numberic values\n",
    "real ------ decimal values\n",
    "text ----- character values\n",
    "char(20) ----- character values"
   ]
  },
  {
   "cell_type": "code",
   "execution_count": 4,
   "id": "3b793837",
   "metadata": {
    "scrolled": true
   },
   "outputs": [
    {
     "data": {
      "text/plain": [
       "<sqlite3.Cursor at 0x16d48119730>"
      ]
     },
     "execution_count": 4,
     "metadata": {},
     "output_type": "execute_result"
    }
   ],
   "source": [
    "cur.execute(\"create table student (id int primary key,name text,marks int)\")"
   ]
  },
  {
   "cell_type": "markdown",
   "id": "e021da97",
   "metadata": {},
   "source": [
    "# Insert data in student table "
   ]
  },
  {
   "cell_type": "code",
   "execution_count": 5,
   "id": "9eaf5e8e",
   "metadata": {},
   "outputs": [],
   "source": [
    "cur.execute(\"insert into student(id,name,marks) values(1,'John',66)\")\n",
    "db.commit()"
   ]
  },
  {
   "cell_type": "code",
   "execution_count": 6,
   "id": "36395523",
   "metadata": {},
   "outputs": [
    {
     "name": "stdout",
     "output_type": "stream",
     "text": [
      "1 Record(s) inserted\n"
     ]
    }
   ],
   "source": [
    "print(cur.rowcount,\"Record(s) inserted\")"
   ]
  },
  {
   "cell_type": "code",
   "execution_count": 7,
   "id": "26d49902",
   "metadata": {},
   "outputs": [],
   "source": [
    "cur.execute(\"insert into student(id,name,marks) values (2,'andrew',88)\")\n",
    "db.commit()"
   ]
  },
  {
   "cell_type": "code",
   "execution_count": 8,
   "id": "9256c07d",
   "metadata": {},
   "outputs": [
    {
     "name": "stdout",
     "output_type": "stream",
     "text": [
      "1 Records(s) inserted\n"
     ]
    }
   ],
   "source": [
    "print(cur.rowcount,\"Records(s) inserted\")"
   ]
  },
  {
   "cell_type": "code",
   "execution_count": 9,
   "id": "ed07500c",
   "metadata": {},
   "outputs": [
    {
     "name": "stdout",
     "output_type": "stream",
     "text": [
      "(1, 'John', 66)\n",
      "(2, 'andrew', 88)\n"
     ]
    }
   ],
   "source": [
    "results=cur.execute(\"select * from student\")\n",
    "\n",
    "for row in results:\n",
    "    print(row)"
   ]
  },
  {
   "cell_type": "code",
   "execution_count": 10,
   "id": "e271d80b",
   "metadata": {},
   "outputs": [],
   "source": [
    "cur.execute(\"insert into student(id,name,marks) values (3,'teena',99)\")\n",
    "db.commit()"
   ]
  },
  {
   "cell_type": "code",
   "execution_count": 11,
   "id": "342b0ce6",
   "metadata": {},
   "outputs": [
    {
     "name": "stdout",
     "output_type": "stream",
     "text": [
      "1 Record(s) inserted\n"
     ]
    }
   ],
   "source": [
    "print(cur.rowcount,\"Record(s) inserted\")"
   ]
  },
  {
   "cell_type": "code",
   "execution_count": 12,
   "id": "4d53db02",
   "metadata": {},
   "outputs": [
    {
     "name": "stdout",
     "output_type": "stream",
     "text": [
      "(1, 'John', 66)\n",
      "(2, 'andrew', 88)\n",
      "(3, 'teena', 99)\n"
     ]
    }
   ],
   "source": [
    "result=cur.execute(\"select * from student\")\n",
    "                   \n",
    "                   \n",
    "for row in results:\n",
    "    print(row)"
   ]
  },
  {
   "cell_type": "code",
   "execution_count": 13,
   "id": "9bbd29e3",
   "metadata": {},
   "outputs": [],
   "source": [
    "cur.execute(\"insert into student(id,name,marks) values (4,'David',69)\")\n",
    "db.commit()"
   ]
  },
  {
   "cell_type": "code",
   "execution_count": 14,
   "id": "1ceebd3a",
   "metadata": {},
   "outputs": [
    {
     "name": "stdout",
     "output_type": "stream",
     "text": [
      "1 Record(s) inserted\n"
     ]
    }
   ],
   "source": [
    "print(cur.rowcount, \"Record(s) inserted\")"
   ]
  },
  {
   "cell_type": "code",
   "execution_count": 28,
   "id": "64ffb55d",
   "metadata": {},
   "outputs": [],
   "source": [
    "result=cur.execute(\"select * from student\")\n",
    " \n",
    "for row in results:\n",
    "     print(row)"
   ]
  },
  {
   "cell_type": "code",
   "execution_count": 29,
   "id": "aa0905d6",
   "metadata": {},
   "outputs": [
    {
     "name": "stdout",
     "output_type": "stream",
     "text": [
      "2 Record(s) inserted\n"
     ]
    }
   ],
   "source": [
    "cur.execute(\"insert into student values (9,'kiara',99),(10,'Lion',76)\")\n",
    "db.commit()\n",
    "#count of records inseretd \n",
    "print (cur.rowcount,\"Record(s) inserted\")"
   ]
  },
  {
   "cell_type": "code",
   "execution_count": 30,
   "id": "982c83cb",
   "metadata": {},
   "outputs": [
    {
     "name": "stdout",
     "output_type": "stream",
     "text": [
      "(1, 'John', 66)\n",
      "(2, 'andrew', 88)\n",
      "(3, 'teena', 99)\n",
      "(4, 'David', 69)\n",
      "(5, 'mona', 87)\n",
      "(6, 'meena', 88)\n",
      "(7, 'yusuf', 86)\n",
      "(8, 'yusu', 96)\n",
      "(9, 'kiara', 99)\n",
      "(10, 'Lion', 76)\n"
     ]
    }
   ],
   "source": [
    "results= cur.execute(\"select * from student\")\n",
    "for row in results:\n",
    "    print(row)"
   ]
  },
  {
   "cell_type": "code",
   "execution_count": null,
   "id": "d88dd1c3",
   "metadata": {},
   "outputs": [],
   "source": []
  },
  {
   "cell_type": "code",
   "execution_count": 16,
   "id": "8396c913",
   "metadata": {},
   "outputs": [],
   "source": [
    "cur.execute(\"insert into student(id,name,marks) values(5,'mona',87)\")\n",
    "db.commit()"
   ]
  },
  {
   "cell_type": "code",
   "execution_count": 17,
   "id": "8c19a6ca",
   "metadata": {},
   "outputs": [
    {
     "name": "stdout",
     "output_type": "stream",
     "text": [
      "1 record(s) inserted\n"
     ]
    }
   ],
   "source": [
    "print(cur.rowcount, \"record(s) inserted\")"
   ]
  },
  {
   "cell_type": "code",
   "execution_count": 18,
   "id": "20b7fc30",
   "metadata": {},
   "outputs": [
    {
     "name": "stdout",
     "output_type": "stream",
     "text": [
      "(1, 'John', 66)\n",
      "(2, 'andrew', 88)\n",
      "(3, 'teena', 99)\n",
      "(4, 'David', 69)\n",
      "(5, 'mona', 87)\n"
     ]
    }
   ],
   "source": [
    "results=cur.execute(\"select * from student\")\n",
    "\n",
    "for row in results:\n",
    "    print(row)"
   ]
  },
  {
   "cell_type": "code",
   "execution_count": 19,
   "id": "f819fd2e",
   "metadata": {},
   "outputs": [],
   "source": [
    "cur.execute(\"insert into student (id,name,marks) values (6,'meena',88)\")\n",
    "db.commit()"
   ]
  },
  {
   "cell_type": "code",
   "execution_count": 20,
   "id": "3a724f12",
   "metadata": {},
   "outputs": [],
   "source": [
    "cur.execute(\"insert into student (id,name,marks) values (7,'yusuf', 86)\")\n",
    "db.commit()"
   ]
  },
  {
   "cell_type": "code",
   "execution_count": 21,
   "id": "9949463e",
   "metadata": {},
   "outputs": [
    {
     "name": "stdout",
     "output_type": "stream",
     "text": [
      "(1, 'John', 66)\n",
      "(2, 'andrew', 88)\n",
      "(3, 'teena', 99)\n",
      "(4, 'David', 69)\n",
      "(5, 'mona', 87)\n",
      "(6, 'meena', 88)\n",
      "(7, 'yusuf', 86)\n"
     ]
    }
   ],
   "source": [
    "results=cur.execute(\"select * from student\")\n",
    "for row in results:\n",
    "    print(row)"
   ]
  },
  {
   "cell_type": "code",
   "execution_count": 22,
   "id": "28a651b6",
   "metadata": {},
   "outputs": [
    {
     "name": "stdout",
     "output_type": "stream",
     "text": [
      "(1, 'John', 66)\n",
      "(2, 'andrew', 88)\n",
      "(3, 'teena', 99)\n",
      "(4, 'David', 69)\n",
      "(5, 'mona', 87)\n",
      "(6, 'meena', 88)\n",
      "(7, 'yusuf', 86)\n"
     ]
    }
   ],
   "source": [
    "results=cur.execute(\"select * from student\")\n",
    "for row in results:\n",
    "    print(row)"
   ]
  },
  {
   "cell_type": "code",
   "execution_count": 23,
   "id": "ed864b53",
   "metadata": {},
   "outputs": [],
   "source": [
    "cur.execute(\"insert into student (id,name,marks) values (8,'yusu', 96)\")\n",
    "db.commit()"
   ]
  },
  {
   "cell_type": "code",
   "execution_count": 24,
   "id": "9ef940b0",
   "metadata": {},
   "outputs": [
    {
     "name": "stdout",
     "output_type": "stream",
     "text": [
      "(1, 'John', 66)\n",
      "(2, 'andrew', 88)\n",
      "(3, 'teena', 99)\n",
      "(4, 'David', 69)\n",
      "(5, 'mona', 87)\n",
      "(6, 'meena', 88)\n",
      "(7, 'yusuf', 86)\n",
      "(8, 'yusu', 96)\n"
     ]
    }
   ],
   "source": [
    "results=cur.execute(\"select * from student\")\n",
    "for row in results:\n",
    "    print(row)"
   ]
  },
  {
   "cell_type": "markdown",
   "id": "cd0c8b43",
   "metadata": {},
   "source": [
    "DATABASE WILL BE CREATED IN THE GIVEN LOCATION"
   ]
  },
  {
   "cell_type": "code",
   "execution_count": 9,
   "id": "b6812bc9",
   "metadata": {},
   "outputs": [],
   "source": [
    "db1=sqlite3.connect(\"E:\\MY SQLITE_database/studentcourse.db\")"
   ]
  },
  {
   "cell_type": "code",
   "execution_count": 10,
   "id": "0983fdf1",
   "metadata": {},
   "outputs": [],
   "source": [
    "cur1=db1.cursor()"
   ]
  },
  {
   "cell_type": "code",
   "execution_count": 12,
   "id": "986b8c49",
   "metadata": {},
   "outputs": [
    {
     "data": {
      "text/plain": [
       "<sqlite3.Cursor at 0x1b38bf04ce0>"
      ]
     },
     "execution_count": 12,
     "metadata": {},
     "output_type": "execute_result"
    }
   ],
   "source": [
    "cur1.execute(\"create table employee(id int, name text, age int)\")"
   ]
  },
  {
   "cell_type": "code",
   "execution_count": 13,
   "id": "c7d5f636",
   "metadata": {},
   "outputs": [
    {
     "data": {
      "text/plain": [
       "<sqlite3.Cursor at 0x1b38bf04ce0>"
      ]
     },
     "execution_count": 13,
     "metadata": {},
     "output_type": "execute_result"
    }
   ],
   "source": [
    "cur1.execute(\"Insert into employee values(1,'Melina', 34)\")"
   ]
  },
  {
   "cell_type": "code",
   "execution_count": 14,
   "id": "71f94951",
   "metadata": {},
   "outputs": [
    {
     "name": "stdout",
     "output_type": "stream",
     "text": [
      "1 record(s) inserted\n"
     ]
    }
   ],
   "source": [
    "print(cur1.rowcount, \"record(s) inserted\")"
   ]
  },
  {
   "cell_type": "code",
   "execution_count": 15,
   "id": "6c7a604a",
   "metadata": {},
   "outputs": [
    {
     "name": "stdout",
     "output_type": "stream",
     "text": [
      "(1, 'Melina', 34)\n"
     ]
    }
   ],
   "source": [
    "results=cur1.execute(\"select * from employee\")\n",
    "for row in results:\n",
    "    print(row)"
   ]
  },
  {
   "cell_type": "markdown",
   "id": "3f1b691f",
   "metadata": {},
   "source": [
    "Accessing data stored in SQLITE using PYTHON"
   ]
  },
  {
   "cell_type": "code",
   "execution_count": 10,
   "id": "474836c8",
   "metadata": {},
   "outputs": [
    {
     "name": "stdout",
     "output_type": "stream",
     "text": [
      "(1, 'John', 66)\n",
      "(2, 'andrew', 88)\n",
      "(3, 'teena', 99)\n",
      "(4, 'David', 69)\n",
      "(5, 'mona', 87)\n",
      "(6, 'meena', 88)\n",
      "(7, 'yusuf', 86)\n",
      "(8, 'yusu', 96)\n",
      "(9, 'kiara', 99)\n",
      "(10, 'Lion', 76)\n"
     ]
    }
   ],
   "source": [
    "results=cur.execute(\"Select * from student\")\n",
    "\n",
    "for i in results:\n",
    "    print(i)"
   ]
  },
  {
   "cell_type": "code",
   "execution_count": 11,
   "id": "670a8afc",
   "metadata": {},
   "outputs": [
    {
     "name": "stdout",
     "output_type": "stream",
     "text": [
      "(1, 'John')\n",
      "(2, 'andrew')\n",
      "(3, 'teena')\n",
      "(4, 'David')\n",
      "(5, 'mona')\n",
      "(6, 'meena')\n",
      "(7, 'yusuf')\n",
      "(8, 'yusu')\n",
      "(9, 'kiara')\n",
      "(10, 'Lion')\n"
     ]
    }
   ],
   "source": [
    "results=cur.execute(\"Select id,name from student\")\n",
    "for i in results:\n",
    "    print(i)"
   ]
  },
  {
   "cell_type": "code",
   "execution_count": 13,
   "id": "b2335245",
   "metadata": {},
   "outputs": [
    {
     "name": "stdout",
     "output_type": "stream",
     "text": [
      "(66,)\n",
      "(88,)\n",
      "(99,)\n",
      "(69,)\n",
      "(87,)\n",
      "(88,)\n",
      "(86,)\n",
      "(96,)\n",
      "(99,)\n",
      "(76,)\n"
     ]
    }
   ],
   "source": [
    "results=cur.execute(\"Select marks from student\")\n",
    "for i in results:\n",
    "    print(i)"
   ]
  },
  {
   "cell_type": "code",
   "execution_count": 14,
   "id": "b5a44b69",
   "metadata": {},
   "outputs": [
    {
     "name": "stdout",
     "output_type": "stream",
     "text": [
      "(1, 'John', 66)\n"
     ]
    }
   ],
   "source": [
    "results=cur.execute(\"Select * from student where id=1\")\n",
    "for i in results:\n",
    "    print(i)"
   ]
  },
  {
   "cell_type": "code",
   "execution_count": 16,
   "id": "cdf4a2f7",
   "metadata": {},
   "outputs": [
    {
     "name": "stdout",
     "output_type": "stream",
     "text": [
      "(1, 66)\n",
      "(2, 88)\n",
      "(3, 99)\n",
      "(4, 69)\n",
      "(5, 87)\n",
      "(6, 88)\n",
      "(7, 86)\n",
      "(8, 96)\n",
      "(9, 99)\n",
      "(10, 76)\n"
     ]
    }
   ],
   "source": [
    "results=cur.execute(\"Select id,marks from student\")\n",
    "for i in results:\n",
    "    print(i)"
   ]
  },
  {
   "cell_type": "code",
   "execution_count": 17,
   "id": "d1e50917",
   "metadata": {},
   "outputs": [
    {
     "name": "stdout",
     "output_type": "stream",
     "text": [
      "(1, 'John', 66)\n"
     ]
    }
   ],
   "source": [
    "results=cur.execute(\"Select *from student where id=1\")\n",
    "for i in results:\n",
    "    print(i)"
   ]
  },
  {
   "cell_type": "code",
   "execution_count": 18,
   "id": "54567d8d",
   "metadata": {},
   "outputs": [
    {
     "name": "stdout",
     "output_type": "stream",
     "text": [
      "(3, 'teena', 99)\n"
     ]
    }
   ],
   "source": [
    "results=cur.execute(\"Select *from student where id=3\")\n",
    "for i in results:\n",
    "    print(i)"
   ]
  },
  {
   "cell_type": "code",
   "execution_count": 19,
   "id": "654fa89f",
   "metadata": {},
   "outputs": [
    {
     "name": "stdout",
     "output_type": "stream",
     "text": [
      "(8, 'yusu', 96)\n"
     ]
    }
   ],
   "source": [
    "results=cur.execute(\"Select *from student where id=8\")\n",
    "for i in results:\n",
    "    print(i)"
   ]
  },
  {
   "cell_type": "code",
   "execution_count": 20,
   "id": "0101464e",
   "metadata": {},
   "outputs": [
    {
     "name": "stdout",
     "output_type": "stream",
     "text": [
      "(1, 'John', 66)\n",
      "(2, 'andrew', 88)\n",
      "(3, 'teena', 99)\n"
     ]
    }
   ],
   "source": [
    "resuils=cur.execute(\"Select *from student limit 3\")\n",
    "for i in results:\n",
    "    print(i)"
   ]
  },
  {
   "cell_type": "code",
   "execution_count": 21,
   "id": "b0220f73",
   "metadata": {},
   "outputs": [
    {
     "name": "stdout",
     "output_type": "stream",
     "text": [
      "('andrew',)\n"
     ]
    }
   ],
   "source": [
    "results=cur.execute(\"Select name from student where id =2\")\n",
    "for i in results:\n",
    "    print(i)"
   ]
  },
  {
   "cell_type": "code",
   "execution_count": 22,
   "id": "ff344556",
   "metadata": {},
   "outputs": [
    {
     "name": "stdout",
     "output_type": "stream",
     "text": [
      "(99,)\n"
     ]
    }
   ],
   "source": [
    "results=cur.execute(\"Select marks from student where id=3\")\n",
    "for i in results:\n",
    "    print(i)"
   ]
  },
  {
   "cell_type": "code",
   "execution_count": 25,
   "id": "696b43e3",
   "metadata": {},
   "outputs": [
    {
     "name": "stdout",
     "output_type": "stream",
     "text": [
      "(1, 'John', 66)\n"
     ]
    }
   ],
   "source": [
    "results=cur.execute(\"Select * from student where name='John'\")\n",
    "for i in results:\n",
    "    print(i)"
   ]
  },
  {
   "cell_type": "code",
   "execution_count": 26,
   "id": "9042aa1f",
   "metadata": {},
   "outputs": [
    {
     "name": "stdout",
     "output_type": "stream",
     "text": [
      "(66,)\n"
     ]
    }
   ],
   "source": [
    "results=cur.execute(\"Select marks from student where name='John'\")\n",
    "for i in results:\n",
    "    print(i)"
   ]
  },
  {
   "cell_type": "code",
   "execution_count": 27,
   "id": "59a1a041",
   "metadata": {},
   "outputs": [
    {
     "name": "stdout",
     "output_type": "stream",
     "text": [
      "(1, 'John', 66)\n",
      "(2, 'andrew', 88)\n",
      "(4, 'David', 69)\n",
      "(5, 'mona', 87)\n",
      "(6, 'meena', 88)\n",
      "(7, 'yusuf', 86)\n",
      "(10, 'Lion', 76)\n"
     ]
    }
   ],
   "source": [
    "results=cur.execute(\"Select *from student where marks >60  and marks<90\")\n",
    "for i in results:\n",
    "    print(i)"
   ]
  },
  {
   "cell_type": "markdown",
   "id": "b2138fb6",
   "metadata": {},
   "source": [
    "Logical operators"
   ]
  },
  {
   "cell_type": "code",
   "execution_count": 28,
   "id": "a7246b49",
   "metadata": {},
   "outputs": [
    {
     "name": "stdout",
     "output_type": "stream",
     "text": [
      "(1, 'John', 66)\n",
      "(4, 'David', 69)\n",
      "(10, 'Lion', 76)\n"
     ]
    }
   ],
   "source": [
    "results=cur.execute(\"Select *from student where marks>35 and marks<78 \")\n",
    "for  i in results:\n",
    "    print(i)"
   ]
  },
  {
   "cell_type": "code",
   "execution_count": 31,
   "id": "9d73a5d7",
   "metadata": {},
   "outputs": [
    {
     "name": "stdout",
     "output_type": "stream",
     "text": [
      "(2, 'andrew', 88)\n",
      "(3, 'teena', 99)\n",
      "(6, 'meena', 88)\n",
      "(8, 'yusu', 96)\n",
      "(9, 'kiara', 99)\n"
     ]
    }
   ],
   "source": [
    "results=cur.execute(\"Select *from student where marks>87\")\n",
    "for i in results:\n",
    "    print(i)"
   ]
  },
  {
   "cell_type": "code",
   "execution_count": 9,
   "id": "f61b3cee",
   "metadata": {},
   "outputs": [
    {
     "data": {
      "text/plain": [
       "[(1, 'John', 66),\n",
       " (2, 'andrew', 88),\n",
       " (3, 'teena', 99),\n",
       " (4, 'David', 69),\n",
       " (5, 'mona', 87),\n",
       " (6, 'meena', 88),\n",
       " (7, 'yusuf', 86),\n",
       " (8, 'yusu', 96),\n",
       " (9, 'kiara', 99),\n",
       " (10, 'Lion', 76)]"
      ]
     },
     "execution_count": 9,
     "metadata": {},
     "output_type": "execute_result"
    }
   ],
   "source": [
    "results=cur.execute('Select *from student')\n",
    "results.fetchall()"
   ]
  },
  {
   "cell_type": "markdown",
   "id": "59e5d24a",
   "metadata": {},
   "source": [
    "Clauses acessnding order and decending order "
   ]
  },
  {
   "cell_type": "code",
   "execution_count": 34,
   "id": "d0255813",
   "metadata": {},
   "outputs": [
    {
     "name": "stdout",
     "output_type": "stream",
     "text": [
      "(4, 'David', 69)\n",
      "(1, 'John', 66)\n",
      "(10, 'Lion', 76)\n",
      "(2, 'andrew', 88)\n",
      "(9, 'kiara', 99)\n",
      "(6, 'meena', 88)\n",
      "(5, 'mona', 87)\n",
      "(3, 'teena', 99)\n",
      "(8, 'yusu', 96)\n",
      "(7, 'yusuf', 86)\n"
     ]
    }
   ],
   "source": [
    "results=cur.execute('Select * from student order by name asc')\n",
    "for i in results:\n",
    "    print(i)"
   ]
  },
  {
   "cell_type": "code",
   "execution_count": 37,
   "id": "06e922b7",
   "metadata": {},
   "outputs": [
    {
     "name": "stdout",
     "output_type": "stream",
     "text": [
      "(7, 'yusuf', 86)\n",
      "(8, 'yusu', 96)\n",
      "(3, 'teena', 99)\n",
      "(5, 'mona', 87)\n",
      "(6, 'meena', 88)\n",
      "(9, 'kiara', 99)\n",
      "(2, 'andrew', 88)\n",
      "(10, 'Lion', 76)\n",
      "(1, 'John', 66)\n",
      "(4, 'David', 69)\n"
     ]
    }
   ],
   "source": [
    "results=cur.execute('Select * from student order by name desc')\n",
    "for i in results:\n",
    "    print(i)"
   ]
  },
  {
   "cell_type": "code",
   "execution_count": 40,
   "id": "bb2db50a",
   "metadata": {},
   "outputs": [],
   "source": [
    "results=cur.execute(\"Select * from student where name ='David' and marks=60\")\n",
    "for i in results:\n",
    "    print(i)"
   ]
  },
  {
   "cell_type": "code",
   "execution_count": 41,
   "id": "8c6275ae",
   "metadata": {},
   "outputs": [
    {
     "name": "stdout",
     "output_type": "stream",
     "text": [
      "(4, 'David', 69)\n"
     ]
    }
   ],
   "source": [
    "results=cur.execute(\"Select * from student where name ='David' and marks=69\")\n",
    "for i in results:\n",
    "    print(i)"
   ]
  },
  {
   "cell_type": "code",
   "execution_count": 42,
   "id": "bf43fbfd",
   "metadata": {},
   "outputs": [],
   "source": [
    "results=cur.execute(\"Select * from student where id =2 and marks=70\")\n",
    "for i in results:\n",
    "    print(i)"
   ]
  },
  {
   "cell_type": "code",
   "execution_count": 43,
   "id": "4c556564",
   "metadata": {},
   "outputs": [
    {
     "name": "stdout",
     "output_type": "stream",
     "text": [
      "(2, 'andrew', 88)\n"
     ]
    }
   ],
   "source": [
    "results=cur.execute(\"Select *from student where id=2 or marks=70\")\n",
    "for i in results:\n",
    "    print(i)"
   ]
  },
  {
   "cell_type": "code",
   "execution_count": 44,
   "id": "928afbbe",
   "metadata": {},
   "outputs": [
    {
     "name": "stdout",
     "output_type": "stream",
     "text": [
      "(3, 'teena', 99)\n",
      "(4, 'David', 69)\n",
      "(9, 'kiara', 99)\n"
     ]
    }
   ],
   "source": [
    "results=cur.execute(\"Select *from student where id=4 or marks=99\")\n",
    "for i in results:\n",
    "    print(i)"
   ]
  },
  {
   "cell_type": "code",
   "execution_count": 46,
   "id": "bea5a48b",
   "metadata": {},
   "outputs": [
    {
     "data": {
      "text/plain": [
       "[(3, 'teena', 99), (4, 'David', 69)]"
      ]
     },
     "execution_count": 46,
     "metadata": {},
     "output_type": "execute_result"
    }
   ],
   "source": [
    "results=cur.execute(\"Select * from student where id=3 or marks=69\")\n",
    "results.fetchall()"
   ]
  },
  {
   "cell_type": "markdown",
   "id": "e732d449",
   "metadata": {},
   "source": [
    "aggregate functions\n",
    "\n",
    "\n",
    "MIN ---- FIND MINIMUM\n",
    "MAX------ FIND MAXIMUM\n",
    "AWG ---- FIND AVERAGE \n",
    "SUM ----- FIND SUM\n",
    "COUNT----- COUNT THE  NUMBER OF ROWS\n",
    "\n",
    "\n",
    "USE FETCHONE FOR SINGLE ANSWER"
   ]
  },
  {
   "cell_type": "code",
   "execution_count": 48,
   "id": "81cbacb7",
   "metadata": {},
   "outputs": [
    {
     "name": "stdout",
     "output_type": "stream",
     "text": [
      "(99,)\n"
     ]
    }
   ],
   "source": [
    "results=cur.execute(\"Select max(marks) from student\")\n",
    "for i in results:\n",
    "    print(i)"
   ]
  },
  {
   "cell_type": "code",
   "execution_count": 49,
   "id": "1872a645",
   "metadata": {},
   "outputs": [
    {
     "name": "stdout",
     "output_type": "stream",
     "text": [
      "(66,)\n"
     ]
    }
   ],
   "source": [
    "results=cur.execute(\"Select min(marks) from student\")\n",
    "for i in results:\n",
    "    print(i)"
   ]
  },
  {
   "cell_type": "code",
   "execution_count": 51,
   "id": "52a1c444",
   "metadata": {},
   "outputs": [
    {
     "name": "stdout",
     "output_type": "stream",
     "text": [
      "(85.4,)\n"
     ]
    }
   ],
   "source": [
    "results=cur.execute(\"Select avg(marks) from student\")\n",
    "for i in results:\n",
    "    print(i)"
   ]
  },
  {
   "cell_type": "code",
   "execution_count": 52,
   "id": "04c5f164",
   "metadata": {},
   "outputs": [
    {
     "name": "stdout",
     "output_type": "stream",
     "text": [
      "(854,)\n"
     ]
    }
   ],
   "source": [
    "results=cur.execute(\"Select sum(marks) from student\")\n",
    "for i in results:\n",
    "    print(i)"
   ]
  },
  {
   "cell_type": "code",
   "execution_count": 54,
   "id": "a9912c22",
   "metadata": {},
   "outputs": [
    {
     "name": "stdout",
     "output_type": "stream",
     "text": [
      "(10,)\n"
     ]
    }
   ],
   "source": [
    "results=cur.execute(\"Select count(id) from student\")\n",
    "for i in results:\n",
    "    print(i)"
   ]
  },
  {
   "cell_type": "code",
   "execution_count": 55,
   "id": "07295b28",
   "metadata": {},
   "outputs": [
    {
     "name": "stdout",
     "output_type": "stream",
     "text": [
      "(1, 'John', 66)\n",
      "(4, 'David', 69)\n",
      "(7, 'yusuf', 86)\n",
      "(10, 'Lion', 76)\n"
     ]
    }
   ],
   "source": [
    "results=cur.execute(\"Select *from student where marks between 65 and 86\")\n",
    "for i in results:\n",
    "    print(i)"
   ]
  },
  {
   "cell_type": "code",
   "execution_count": 5,
   "id": "81f20c3f",
   "metadata": {},
   "outputs": [
    {
     "name": "stdout",
     "output_type": "stream",
     "text": [
      "(2, 'andrew', 88)\n",
      "(6, 'meena', 88)\n"
     ]
    }
   ],
   "source": [
    "results=cur.execute(\"Select *from student where id=2 or marks=88\")\n",
    "for i in results:\n",
    "    print(i)"
   ]
  },
  {
   "cell_type": "code",
   "execution_count": 8,
   "id": "8c0ec0d3",
   "metadata": {},
   "outputs": [
    {
     "data": {
      "text/plain": [
       "[(7, 'yusuf', 86),\n",
       " (8, 'yusu', 96),\n",
       " (3, 'teena', 99),\n",
       " (5, 'mona', 87),\n",
       " (6, 'meena', 88),\n",
       " (9, 'kiara', 99),\n",
       " (2, 'andrew', 88),\n",
       " (10, 'Lion', 76),\n",
       " (1, 'John', 66),\n",
       " (4, 'David', 69)]"
      ]
     },
     "execution_count": 8,
     "metadata": {},
     "output_type": "execute_result"
    }
   ],
   "source": [
    "results=cur.execute(\"Select * from student order by name desc\")\n",
    "\n",
    "results.fetchall()"
   ]
  },
  {
   "cell_type": "code",
   "execution_count": 10,
   "id": "455442d2",
   "metadata": {},
   "outputs": [
    {
     "name": "stdout",
     "output_type": "stream",
     "text": [
      "(85.4,)\n"
     ]
    }
   ],
   "source": [
    "results=cur.execute(\"Select avg(marks) from student\")\n",
    "for i in results:\n",
    "    print(i)"
   ]
  },
  {
   "cell_type": "code",
   "execution_count": 11,
   "id": "58bc2dde",
   "metadata": {},
   "outputs": [
    {
     "name": "stdout",
     "output_type": "stream",
     "text": [
      "(10,)\n"
     ]
    }
   ],
   "source": [
    "results=cur.execute(\"Select count(id) from student\")\n",
    "for i in results:\n",
    "    print(i)"
   ]
  },
  {
   "cell_type": "code",
   "execution_count": 12,
   "id": "21bf33a5",
   "metadata": {},
   "outputs": [
    {
     "name": "stdout",
     "output_type": "stream",
     "text": [
      "(1, 'John', 66)\n",
      "(4, 'David', 69)\n",
      "(5, 'mona', 87)\n",
      "(7, 'yusuf', 86)\n",
      "(10, 'Lion', 76)\n"
     ]
    }
   ],
   "source": [
    "results=cur.execute(\"Select *from student where marks between 55 and 87\")\n",
    "for i in results:\n",
    "    print(i)"
   ]
  },
  {
   "cell_type": "code",
   "execution_count": 14,
   "id": "ab9a9ece",
   "metadata": {},
   "outputs": [
    {
     "data": {
      "text/plain": [
       "(99,)"
      ]
     },
     "execution_count": 14,
     "metadata": {},
     "output_type": "execute_result"
    }
   ],
   "source": [
    "results=cur.execute(\"Select max(marks) from student\")\n",
    "\n",
    "\n",
    "results.fetchone()"
   ]
  },
  {
   "cell_type": "code",
   "execution_count": 15,
   "id": "6c211c0f",
   "metadata": {},
   "outputs": [
    {
     "data": {
      "text/plain": [
       "[(99,)]"
      ]
     },
     "execution_count": 15,
     "metadata": {},
     "output_type": "execute_result"
    }
   ],
   "source": [
    "results=cur.execute(\"Select max(marks) from student\")\n",
    "\n",
    "\n",
    "results.fetchall()"
   ]
  },
  {
   "cell_type": "code",
   "execution_count": 16,
   "id": "0391e2e6",
   "metadata": {},
   "outputs": [
    {
     "data": {
      "text/plain": [
       "(66,)"
      ]
     },
     "execution_count": 16,
     "metadata": {},
     "output_type": "execute_result"
    }
   ],
   "source": [
    "results=cur.execute(\"Select min(marks) from student\")\n",
    "\n",
    "\n",
    "results.fetchone()"
   ]
  },
  {
   "cell_type": "code",
   "execution_count": 17,
   "id": "2b6474f9",
   "metadata": {},
   "outputs": [
    {
     "data": {
      "text/plain": [
       "(85.4,)"
      ]
     },
     "execution_count": 17,
     "metadata": {},
     "output_type": "execute_result"
    }
   ],
   "source": [
    "results=cur.execute(\"Select avg(marks) from student\")\n",
    "\n",
    "\n",
    "results.fetchone()"
   ]
  },
  {
   "cell_type": "code",
   "execution_count": 18,
   "id": "3bdc9d6c",
   "metadata": {},
   "outputs": [
    {
     "data": {
      "text/plain": [
       "(854,)"
      ]
     },
     "execution_count": 18,
     "metadata": {},
     "output_type": "execute_result"
    }
   ],
   "source": [
    "results=cur.execute(\"Select sum(marks) from student\")\n",
    "\n",
    "\n",
    "results.fetchone()"
   ]
  },
  {
   "cell_type": "code",
   "execution_count": 19,
   "id": "90259795",
   "metadata": {},
   "outputs": [
    {
     "data": {
      "text/plain": [
       "(10,)"
      ]
     },
     "execution_count": 19,
     "metadata": {},
     "output_type": "execute_result"
    }
   ],
   "source": [
    "results=cur.execute(\"Select count(id) from student\")\n",
    "\n",
    "\n",
    "results.fetchone()"
   ]
  },
  {
   "cell_type": "code",
   "execution_count": 21,
   "id": "063379d1",
   "metadata": {},
   "outputs": [
    {
     "name": "stdout",
     "output_type": "stream",
     "text": [
      "(2, 'andrew', 88)\n",
      "(5, 'mona', 87)\n",
      "(6, 'meena', 88)\n",
      "(7, 'yusuf', 86)\n"
     ]
    }
   ],
   "source": [
    "results=cur.execute(\"Select * from student where marks between 86 and 95\")\n",
    "\n",
    "for i in results:\n",
    "    print(i)"
   ]
  },
  {
   "cell_type": "code",
   "execution_count": 22,
   "id": "03964514",
   "metadata": {},
   "outputs": [
    {
     "name": "stdout",
     "output_type": "stream",
     "text": [
      "(1, 'John', 66)\n",
      "(2, 'andrew', 88)\n",
      "(3, 'teena', 99)\n",
      "(4, 'David', 69)\n",
      "(5, 'mona', 87)\n",
      "(6, 'meena', 88)\n",
      "(7, 'yusuf', 86)\n",
      "(8, 'yusu', 96)\n",
      "(9, 'kiara', 99)\n",
      "(10, 'Lion', 76)\n"
     ]
    }
   ],
   "source": [
    "results=cur.execute(\"Select *from student where marks is not null\")\n",
    "\n",
    "for i in results:\n",
    "    print(i)"
   ]
  },
  {
   "cell_type": "code",
   "execution_count": 23,
   "id": "da064528",
   "metadata": {},
   "outputs": [],
   "source": [
    "results=cur.execute(\"Select *from student where marks is  null\")\n",
    "\n",
    "for i in results:\n",
    "    print(i)"
   ]
  },
  {
   "cell_type": "markdown",
   "id": "50cf7df9",
   "metadata": {},
   "source": [
    "LIKE OPERATORS"
   ]
  },
  {
   "cell_type": "code",
   "execution_count": 26,
   "id": "384c8a22",
   "metadata": {},
   "outputs": [
    {
     "name": "stdout",
     "output_type": "stream",
     "text": [
      "(4, 'David', 69)\n"
     ]
    }
   ],
   "source": [
    "results=cur.execute(\"Select *from student where name  like 'D%'\")\n",
    "\n",
    "for i in results:\n",
    "    print(i)"
   ]
  },
  {
   "cell_type": "code",
   "execution_count": 33,
   "id": "5ad9f93b",
   "metadata": {},
   "outputs": [
    {
     "name": "stdout",
     "output_type": "stream",
     "text": [
      "(2, 'andrew', 88)\n"
     ]
    }
   ],
   "source": [
    "results=cur.execute(\"Select *from student where name like 'a%'\")\n",
    "\n",
    "for i in results:\n",
    "    print(i)"
   ]
  },
  {
   "cell_type": "code",
   "execution_count": 34,
   "id": "ef86773f",
   "metadata": {},
   "outputs": [
    {
     "name": "stdout",
     "output_type": "stream",
     "text": [
      "(7, 'yusuf', 86)\n",
      "(8, 'yusu', 96)\n"
     ]
    }
   ],
   "source": [
    "results=cur.execute(\"Select *from student where name like 'y%'\")\n",
    "\n",
    "for i in results:\n",
    "    print(i)"
   ]
  },
  {
   "cell_type": "code",
   "execution_count": 38,
   "id": "c6cd1078",
   "metadata": {},
   "outputs": [
    {
     "name": "stdout",
     "output_type": "stream",
     "text": [
      "(4, 'David', 69)\n"
     ]
    }
   ],
   "source": [
    "results=cur.execute(\"Select *from student where name like '_a%'\")\n",
    "\n",
    "for i in results:\n",
    "    print(i)"
   ]
  },
  {
   "cell_type": "code",
   "execution_count": 39,
   "id": "50f328cb",
   "metadata": {},
   "outputs": [
    {
     "name": "stdout",
     "output_type": "stream",
     "text": [
      "(9, 'kiara', 99)\n"
     ]
    }
   ],
   "source": [
    "results=cur.execute(\"Select *from student where name like '__a%'\")\n",
    "\n",
    "for i in results:\n",
    "    print(i)"
   ]
  },
  {
   "cell_type": "code",
   "execution_count": 42,
   "id": "dc376d36",
   "metadata": {},
   "outputs": [
    {
     "name": "stdout",
     "output_type": "stream",
     "text": [
      "(5, 'mona', 87)\n"
     ]
    }
   ],
   "source": [
    "results=cur.execute(\"Select *from student where name like '___a%'\")\n",
    "\n",
    "for i in results:\n",
    "    print(i)"
   ]
  },
  {
   "cell_type": "code",
   "execution_count": 44,
   "id": "473b13a8",
   "metadata": {},
   "outputs": [
    {
     "name": "stdout",
     "output_type": "stream",
     "text": [
      "(7, 'yusuf', 86)\n",
      "(8, 'yusu', 96)\n"
     ]
    }
   ],
   "source": [
    "results=cur.execute(\"Select *from student where name like '_u%'\")\n",
    "\n",
    "for i in results:\n",
    "    print(i)"
   ]
  },
  {
   "cell_type": "code",
   "execution_count": 46,
   "id": "efd73931",
   "metadata": {},
   "outputs": [
    {
     "name": "stdout",
     "output_type": "stream",
     "text": [
      "(7, 'yusuf', 86)\n",
      "(8, 'yusu', 96)\n"
     ]
    }
   ],
   "source": [
    "results=cur.execute(\"Select *from student where name like '__s%'\")\n",
    "\n",
    "for i in results:\n",
    "    print(i)"
   ]
  },
  {
   "cell_type": "code",
   "execution_count": 47,
   "id": "c27a975c",
   "metadata": {},
   "outputs": [
    {
     "name": "stdout",
     "output_type": "stream",
     "text": [
      "(9, 'kiara', 99)\n",
      "(10, 'Lion', 76)\n"
     ]
    }
   ],
   "source": [
    "results=cur.execute(\"Select *from student where name like '_i%'\")\n",
    "\n",
    "for i in results:\n",
    "    print(i)"
   ]
  },
  {
   "cell_type": "code",
   "execution_count": 50,
   "id": "cd3cb59d",
   "metadata": {},
   "outputs": [
    {
     "name": "stdout",
     "output_type": "stream",
     "text": [
      "(10, 'Lion', 76)\n"
     ]
    }
   ],
   "source": [
    "results=cur.execute(\"Select *from student where name like 'l%'\")\n",
    "\n",
    "for i in results:\n",
    "    print(i)"
   ]
  },
  {
   "cell_type": "code",
   "execution_count": 53,
   "id": "5affea3f",
   "metadata": {},
   "outputs": [
    {
     "name": "stdout",
     "output_type": "stream",
     "text": [
      "(2, 'andrew', 88)\n",
      "(3, 'teena', 99)\n",
      "(6, 'meena', 88)\n"
     ]
    }
   ],
   "source": [
    "results=cur.execute(\"Select *from student where name like '%e%'\")\n",
    "\n",
    "for i in results:\n",
    "    print(i)"
   ]
  },
  {
   "cell_type": "code",
   "execution_count": 57,
   "id": "b87e5d5d",
   "metadata": {},
   "outputs": [
    {
     "data": {
      "text/plain": [
       "[(1, 'John', 66),\n",
       " (2, 'andrew', 88),\n",
       " (3, 'teena', 99),\n",
       " (4, 'David', 69),\n",
       " (5, 'mona', 87),\n",
       " (6, 'meena', 88),\n",
       " (7, 'yusuf', 86),\n",
       " (8, 'yusu', 96),\n",
       " (9, 'kiara', 99),\n",
       " (10, 'Lion', 76)]"
      ]
     },
     "execution_count": 57,
     "metadata": {},
     "output_type": "execute_result"
    }
   ],
   "source": [
    "results=cur.execute(\"Select * from student\")\n",
    "\n",
    "results.fetchall()"
   ]
  },
  {
   "cell_type": "code",
   "execution_count": 58,
   "id": "44828ab1",
   "metadata": {},
   "outputs": [
    {
     "name": "stdout",
     "output_type": "stream",
     "text": [
      "(1, 'John', 66)\n",
      "(5, 'mona', 87)\n",
      "(8, 'yusu', 96)\n",
      "(10, 'Lion', 76)\n"
     ]
    }
   ],
   "source": [
    "results=cur.execute(\"Select *from student where name like '____'\")\n",
    "\n",
    "for i in results:\n",
    "    print(i)"
   ]
  },
  {
   "cell_type": "code",
   "execution_count": 59,
   "id": "f99a3f46",
   "metadata": {},
   "outputs": [
    {
     "name": "stdout",
     "output_type": "stream",
     "text": [
      "(3, 'teena', 99)\n",
      "(4, 'David', 69)\n",
      "(6, 'meena', 88)\n",
      "(7, 'yusuf', 86)\n",
      "(9, 'kiara', 99)\n"
     ]
    }
   ],
   "source": [
    "results=cur.execute(\"Select *from student where name like '_____'\")\n",
    "\n",
    "for i in results:\n",
    "    print(i)"
   ]
  },
  {
   "cell_type": "code",
   "execution_count": 62,
   "id": "91b858e4",
   "metadata": {},
   "outputs": [
    {
     "data": {
      "text/plain": [
       "[(1, 'John', 66),\n",
       " (2, 'andrew', 88),\n",
       " (3, 'teena', 99),\n",
       " (4, 'David', 69),\n",
       " (5, 'mona', 87),\n",
       " (6, 'meena', 88),\n",
       " (7, 'yusuf', 86),\n",
       " (8, 'yusu', 96),\n",
       " (9, 'kiara', 99),\n",
       " (10, 'Lion', 76)]"
      ]
     },
     "execution_count": 62,
     "metadata": {},
     "output_type": "execute_result"
    }
   ],
   "source": [
    "results=cur.execute(\"Select *from student where marks NOT in (70)\")\n",
    "\n",
    "results.fetchall()"
   ]
  },
  {
   "cell_type": "code",
   "execution_count": 65,
   "id": "04ff586a",
   "metadata": {},
   "outputs": [
    {
     "name": "stdout",
     "output_type": "stream",
     "text": [
      "(1, 'John', 66)\n",
      "(2, 'andrew', 88)\n",
      "(3, 'teena', 99)\n",
      "(4, 'David', 69)\n",
      "(5, 'mona', 87)\n",
      "(6, 'meena', 88)\n",
      "(7, 'yusuf', 86)\n",
      "(9, 'kiara', 99)\n",
      "(10, 'Lion', 76)\n"
     ]
    }
   ],
   "source": [
    "results=cur.execute(\"Select *from student where name NOT in ('yusu')\")\n",
    "\n",
    "for i in results:\n",
    "    print(i)"
   ]
  },
  {
   "cell_type": "markdown",
   "id": "c1a23f6f",
   "metadata": {},
   "source": [
    " UPDATE  RECORD"
   ]
  },
  {
   "cell_type": "code",
   "execution_count": 9,
   "id": "c93fb69a",
   "metadata": {},
   "outputs": [
    {
     "data": {
      "text/plain": [
       "<sqlite3.Cursor at 0x19f4b655960>"
      ]
     },
     "execution_count": 9,
     "metadata": {},
     "output_type": "execute_result"
    }
   ],
   "source": [
    "# update the record\n",
    "\n",
    "sql=\"update student set marks= 81 where id = 4\"\n",
    "cur.execute(sql)"
   ]
  },
  {
   "cell_type": "code",
   "execution_count": 10,
   "id": "8616b1b9",
   "metadata": {},
   "outputs": [
    {
     "name": "stdout",
     "output_type": "stream",
     "text": [
      "(4, 'David', 81)\n"
     ]
    }
   ],
   "source": [
    "results=cur.execute(\"Select *from student where id = 4\")\n",
    "for row in results:\n",
    "    print(row)"
   ]
  },
  {
   "cell_type": "code",
   "execution_count": 11,
   "id": "6318a2ec",
   "metadata": {},
   "outputs": [
    {
     "name": "stdout",
     "output_type": "stream",
     "text": [
      "(1, 'John', 66)\n",
      "(2, 'andrew', 88)\n",
      "(3, 'teena', 99)\n",
      "(4, 'David', 81)\n",
      "(5, 'mona', 87)\n",
      "(6, 'meena', 88)\n",
      "(7, 'yusuf', 86)\n",
      "(8, 'yusu', 96)\n",
      "(9, 'kiara', 99)\n",
      "(10, 'Lion', 76)\n"
     ]
    }
   ],
   "source": [
    "results=cur.execute(\"Select * from student\")\n",
    "for row in results:\n",
    "    print(row)"
   ]
  },
  {
   "cell_type": "code",
   "execution_count": 15,
   "id": "f08e9f94",
   "metadata": {},
   "outputs": [
    {
     "data": {
      "text/plain": [
       "<sqlite3.Cursor at 0x19f4b655960>"
      ]
     },
     "execution_count": 15,
     "metadata": {},
     "output_type": "execute_result"
    }
   ],
   "source": [
    "#update multiple records\n",
    "\n",
    "\n",
    "sql=\"update student set marks =92 where id in (1,2)\"\n",
    "cur.execute(sql)"
   ]
  },
  {
   "cell_type": "code",
   "execution_count": 16,
   "id": "614ce065",
   "metadata": {},
   "outputs": [
    {
     "name": "stdout",
     "output_type": "stream",
     "text": [
      "(1, 'John', 92)\n",
      "(2, 'andrew', 92)\n",
      "(3, 'teena', 99)\n",
      "(4, 'David', 81)\n",
      "(5, 'mona', 87)\n",
      "(6, 'meena', 88)\n",
      "(7, 'yusuf', 86)\n",
      "(8, 'yusu', 96)\n",
      "(9, 'kiara', 99)\n",
      "(10, 'Lion', 76)\n"
     ]
    }
   ],
   "source": [
    "results= cur.execute (\"Select *from student\")\n",
    "for row in results:\n",
    "    print(row)"
   ]
  },
  {
   "cell_type": "code",
   "execution_count": 18,
   "id": "a9303f3b",
   "metadata": {},
   "outputs": [
    {
     "name": "stdout",
     "output_type": "stream",
     "text": [
      "(1, 'John', 92)\n",
      "(2, 'andrew', 92)\n",
      "(3, 'teena', 99)\n",
      "(4, 'David', 81)\n",
      "(5, 'mona', 68)\n",
      "(6, 'meena', 68)\n",
      "(7, 'yusuf', 86)\n",
      "(8, 'yusu', 96)\n",
      "(9, 'kiara', 99)\n",
      "(10, 'Lion', 76)\n"
     ]
    }
   ],
   "source": [
    "#multiple records update ussing'IN'\n",
    "\n",
    "sql=\"UPDATE student SET marks = 68 WHERE id IN( 5,6)\"\n",
    "cur.execute(sql)\n",
    "\n",
    "#verify is it updated\n",
    "results =cur.execute(\"Select * from student\")\n",
    "for row in results:\n",
    "    print(row)\n"
   ]
  },
  {
   "cell_type": "markdown",
   "id": "4852611e",
   "metadata": {},
   "source": [
    "# DELETE ANY UNWANTED DATA "
   ]
  },
  {
   "cell_type": "code",
   "execution_count": 19,
   "id": "937203e6",
   "metadata": {},
   "outputs": [
    {
     "data": {
      "text/plain": [
       "<sqlite3.Cursor at 0x19f4b655960>"
      ]
     },
     "execution_count": 19,
     "metadata": {},
     "output_type": "execute_result"
    }
   ],
   "source": [
    "sql =\"delete from student where id= 6\"\n",
    "cur.execute(sql)"
   ]
  },
  {
   "cell_type": "code",
   "execution_count": 20,
   "id": "93434ff8",
   "metadata": {},
   "outputs": [
    {
     "name": "stdout",
     "output_type": "stream",
     "text": [
      "(1, 'John', 92)\n",
      "(2, 'andrew', 92)\n",
      "(3, 'teena', 99)\n",
      "(4, 'David', 81)\n",
      "(5, 'mona', 68)\n",
      "(7, 'yusuf', 86)\n",
      "(8, 'yusu', 96)\n",
      "(9, 'kiara', 99)\n",
      "(10, 'Lion', 76)\n"
     ]
    }
   ],
   "source": [
    "results =cur.execute(\"Select * from student\")\n",
    "for row in results:\n",
    "    print(row)"
   ]
  },
  {
   "cell_type": "code",
   "execution_count": 22,
   "id": "1fe68bea",
   "metadata": {
    "scrolled": true
   },
   "outputs": [
    {
     "data": {
      "text/plain": [
       "[(1, 'John', 92),\n",
       " (2, 'andrew', 92),\n",
       " (3, 'teena', 99),\n",
       " (5, 'mona', 68),\n",
       " (7, 'yusuf', 86),\n",
       " (8, 'yusu', 96),\n",
       " (9, 'kiara', 99),\n",
       " (10, 'Lion', 76)]"
      ]
     },
     "execution_count": 22,
     "metadata": {},
     "output_type": "execute_result"
    }
   ],
   "source": [
    "sql= \"delete from student where id =4\"\n",
    "\n",
    "cur.execute(sql)\n",
    "\n",
    "\n",
    "results =cur.execute(\"Select * from student\")\n",
    "results.fetchall()"
   ]
  },
  {
   "cell_type": "markdown",
   "id": "16a7d601",
   "metadata": {},
   "source": [
    "# DROP TABLE STUDENT"
   ]
  },
  {
   "cell_type": "code",
   "execution_count": 23,
   "id": "74c600e7",
   "metadata": {},
   "outputs": [],
   "source": [
    "sql='drop table student'\n",
    "\n",
    "\n",
    "reults=cur.execute(sql)"
   ]
  },
  {
   "cell_type": "code",
   "execution_count": 24,
   "id": "b7318f9f",
   "metadata": {},
   "outputs": [
    {
     "ename": "OperationalError",
     "evalue": "no such table: student",
     "output_type": "error",
     "traceback": [
      "\u001b[1;31m---------------------------------------------------------------------------\u001b[0m",
      "\u001b[1;31mOperationalError\u001b[0m                          Traceback (most recent call last)",
      "\u001b[1;32mC:\\Users\\JASMEE~1\\AppData\\Local\\Temp/ipykernel_45420/2421302240.py\u001b[0m in \u001b[0;36m<module>\u001b[1;34m\u001b[0m\n\u001b[1;32m----> 1\u001b[1;33m \u001b[0mresults\u001b[0m \u001b[1;33m=\u001b[0m\u001b[0mcur\u001b[0m\u001b[1;33m.\u001b[0m\u001b[0mexecute\u001b[0m\u001b[1;33m(\u001b[0m\u001b[1;34m\"Select * from student\"\u001b[0m\u001b[1;33m)\u001b[0m\u001b[1;33m\u001b[0m\u001b[1;33m\u001b[0m\u001b[0m\n\u001b[0m\u001b[0;32m      2\u001b[0m \u001b[0mresults\u001b[0m\u001b[1;33m.\u001b[0m\u001b[0mfetchall\u001b[0m\u001b[1;33m(\u001b[0m\u001b[1;33m)\u001b[0m\u001b[1;33m\u001b[0m\u001b[1;33m\u001b[0m\u001b[0m\n",
      "\u001b[1;31mOperationalError\u001b[0m: no such table: student"
     ]
    }
   ],
   "source": [
    "results =cur.execute(\"Select * from student\")\n",
    "results.fetchall()"
   ]
  },
  {
   "cell_type": "code",
   "execution_count": 25,
   "id": "0b4fa5d6",
   "metadata": {},
   "outputs": [],
   "source": [
    "db.close()"
   ]
  },
  {
   "cell_type": "markdown",
   "id": "1bb29803",
   "metadata": {},
   "source": [
    "# Adding data in table with CSV(Comma seperated values ) file directly"
   ]
  },
  {
   "cell_type": "code",
   "execution_count": 1,
   "id": "1d25587b",
   "metadata": {},
   "outputs": [],
   "source": [
    "import sqlite3"
   ]
  },
  {
   "cell_type": "code",
   "execution_count": 2,
   "id": "2eea24fc",
   "metadata": {},
   "outputs": [],
   "source": [
    "db=sqlite3.connect(\"E:\\MY SQLITE_database/scores_database.db\")\n",
    "cursor=db.cursor()"
   ]
  },
  {
   "cell_type": "code",
   "execution_count": 3,
   "id": "83ef1efa",
   "metadata": {},
   "outputs": [
    {
     "data": {
      "text/plain": [
       "<sqlite3.Cursor at 0x1acd0aaa3b0>"
      ]
     },
     "execution_count": 3,
     "metadata": {},
     "output_type": "execute_result"
    }
   ],
   "source": [
    "#create table\n",
    "\n",
    "cursor.execute(\"CREATE TABLE scores(gender TEXT, student_id INT PRIMARY KEY, marks INT)\")"
   ]
  },
  {
   "cell_type": "code",
   "execution_count": 4,
   "id": "b398316b",
   "metadata": {},
   "outputs": [
    {
     "name": "stdout",
     "output_type": "stream",
     "text": [
      "1  Record(s) inserted\n"
     ]
    }
   ],
   "source": [
    "#insert  records into the table  (Single recors inseting)\n",
    "\n",
    "cursor.execute(\"INSERT INTO scores(gender, student_id, marks) values('Male', 100, 55 )\")\n",
    "\n",
    "#save the record permanently (if yo don't commit, next time will not see the records in the table)\n",
    "\n",
    "\n",
    "db.commit()\n",
    "\n",
    "#Couunt of records inserted \n",
    "\n",
    "print (cursor.rowcount,\" Record(s) inserted\")"
   ]
  },
  {
   "cell_type": "markdown",
   "id": "50272a3b",
   "metadata": {},
   "source": [
    "# Insertiing records from CSV Files "
   ]
  },
  {
   "cell_type": "code",
   "execution_count": 5,
   "id": "49613393",
   "metadata": {},
   "outputs": [
    {
     "name": "stdout",
     "output_type": "stream",
     "text": [
      "10 Records inserted\n"
     ]
    }
   ],
   "source": [
    "with open ('Scores_file.csv','r') as file:\n",
    "    total_records=0\n",
    "    for row in file:\n",
    "        cursor.execute(\"insert into scores values(?,?,?)\",row.split(\",\"))\n",
    "        db.commit()\n",
    "        total_records+=1\n",
    "print(total_records,'Records inserted')   "
   ]
  },
  {
   "cell_type": "code",
   "execution_count": 9,
   "id": "6271d152",
   "metadata": {},
   "outputs": [
    {
     "name": "stdout",
     "output_type": "stream",
     "text": [
      "('Male', 100, 55)\n",
      "('Male', 111, 55)\n",
      "('female', 888, 55)\n",
      "('male', 555, 67)\n",
      "('female', 333, 55)\n",
      "('male', 666, 66)\n",
      "('female', 777, 76)\n",
      "('male', 222, 45)\n",
      "('female', 212, 66)\n",
      "('male', 223, 78)\n",
      "('female', 444, 67)\n"
     ]
    }
   ],
   "source": [
    "result=cursor.execute(\"SELECT * FROM scores\")\n",
    "for row in result:\n",
    "    print(row)"
   ]
  },
  {
   "cell_type": "code",
   "execution_count": null,
   "id": "fc398e3f",
   "metadata": {},
   "outputs": [],
   "source": []
  },
  {
   "cell_type": "code",
   "execution_count": null,
   "id": "0cb1de6d",
   "metadata": {},
   "outputs": [],
   "source": []
  },
  {
   "cell_type": "code",
   "execution_count": null,
   "id": "49852eb4",
   "metadata": {},
   "outputs": [],
   "source": []
  }
 ],
 "metadata": {
  "kernelspec": {
   "display_name": "Python 3 (ipykernel)",
   "language": "python",
   "name": "python3"
  },
  "language_info": {
   "codemirror_mode": {
    "name": "ipython",
    "version": 3
   },
   "file_extension": ".py",
   "mimetype": "text/x-python",
   "name": "python",
   "nbconvert_exporter": "python",
   "pygments_lexer": "ipython3",
   "version": "3.9.7"
  }
 },
 "nbformat": 4,
 "nbformat_minor": 5
}
