{
 "cells": [
  {
   "cell_type": "markdown",
   "id": "203f1238",
   "metadata": {},
   "source": [
    "# USER DEFINED FUNCTION-------- > Parametric functions"
   ]
  },
  {
   "cell_type": "code",
   "execution_count": 1,
   "id": "0efca06c",
   "metadata": {},
   "outputs": [],
   "source": [
    "def fadd(a,b,):\n",
    "    c=a+b\n",
    "    print(c)"
   ]
  },
  {
   "cell_type": "code",
   "execution_count": 2,
   "id": "58104dc5",
   "metadata": {},
   "outputs": [
    {
     "name": "stdout",
     "output_type": "stream",
     "text": [
      "7\n"
     ]
    }
   ],
   "source": [
    "# calling \n",
    "fadd(4,3,)"
   ]
  },
  {
   "cell_type": "code",
   "execution_count": 3,
   "id": "1fafe8f9",
   "metadata": {},
   "outputs": [
    {
     "name": "stdout",
     "output_type": "stream",
     "text": [
      "20\n"
     ]
    }
   ],
   "source": [
    "fadd(10,10)"
   ]
  },
  {
   "cell_type": "code",
   "execution_count": 4,
   "id": "778bec11",
   "metadata": {},
   "outputs": [
    {
     "name": "stdout",
     "output_type": "stream",
     "text": [
      "1\n"
     ]
    }
   ],
   "source": [
    "def sub(a,b):\n",
    "    c=a-b\n",
    "    print(c)\n",
    "    \n",
    "sub(3,2)"
   ]
  },
  {
   "cell_type": "code",
   "execution_count": 5,
   "id": "f4209415",
   "metadata": {},
   "outputs": [],
   "source": [
    "def fsubtract(a,b):\n",
    "    c=a-b\n",
    "    print(c)\n",
    "    \n"
   ]
  },
  {
   "cell_type": "code",
   "execution_count": 6,
   "id": "bacf143c",
   "metadata": {},
   "outputs": [
    {
     "name": "stdout",
     "output_type": "stream",
     "text": [
      "90\n"
     ]
    }
   ],
   "source": [
    "fsubtract(110,20)    "
   ]
  },
  {
   "cell_type": "code",
   "execution_count": 7,
   "id": "767066a1",
   "metadata": {},
   "outputs": [],
   "source": [
    "def fmultiply(x,y):\n",
    "    z=x*y\n",
    "    print(z)\n"
   ]
  },
  {
   "cell_type": "code",
   "execution_count": 8,
   "id": "107d2f6d",
   "metadata": {},
   "outputs": [
    {
     "name": "stdout",
     "output_type": "stream",
     "text": [
      "22\n"
     ]
    }
   ],
   "source": [
    "fmultiply(11,2)"
   ]
  },
  {
   "cell_type": "code",
   "execution_count": 9,
   "id": "a0f17441",
   "metadata": {},
   "outputs": [
    {
     "name": "stdout",
     "output_type": "stream",
     "text": [
      "36\n"
     ]
    }
   ],
   "source": [
    "fmultiply(6,6)"
   ]
  },
  {
   "cell_type": "code",
   "execution_count": 10,
   "id": "b34c3cc6",
   "metadata": {},
   "outputs": [
    {
     "name": "stdout",
     "output_type": "stream",
     "text": [
      "11\n"
     ]
    }
   ],
   "source": [
    "fsubtract(44,33)"
   ]
  },
  {
   "cell_type": "code",
   "execution_count": 11,
   "id": "35ec4eac",
   "metadata": {},
   "outputs": [],
   "source": [
    "def fadd(a,b,c):\n",
    "    d=(a+b+c)\n",
    "    print(d)"
   ]
  },
  {
   "cell_type": "code",
   "execution_count": 12,
   "id": "ef37c766",
   "metadata": {},
   "outputs": [
    {
     "name": "stdout",
     "output_type": "stream",
     "text": [
      "6\n"
     ]
    }
   ],
   "source": [
    "fadd(2,2,2)"
   ]
  },
  {
   "cell_type": "code",
   "execution_count": 13,
   "id": "049aca5b",
   "metadata": {},
   "outputs": [
    {
     "name": "stdout",
     "output_type": "stream",
     "text": [
      "22\n"
     ]
    }
   ],
   "source": [
    "fadd(1,10,11)"
   ]
  },
  {
   "cell_type": "code",
   "execution_count": 14,
   "id": "bb549efb",
   "metadata": {},
   "outputs": [],
   "source": [
    "def areaofrect(l,b):\n",
    "    area=l*b\n",
    "    print(\"Area of rectnagle=\",area)"
   ]
  },
  {
   "cell_type": "code",
   "execution_count": 16,
   "id": "7b62b4a4",
   "metadata": {},
   "outputs": [
    {
     "name": "stdout",
     "output_type": "stream",
     "text": [
      "Enter length11\n",
      "Enter breadth2\n",
      "Length= 11\n",
      "Breadth= 2\n",
      "Area of rectnagle= 22\n"
     ]
    }
   ],
   "source": [
    "l=int(input(\"Enter length\"))\n",
    "b=int(input(\"Enter breadth\"))\n",
    "\n",
    "print(\"Length=\",l)\n",
    "print(\"Breadth=\",b)\n",
    "\n",
    "areaofrect(l,b)"
   ]
  },
  {
   "cell_type": "code",
   "execution_count": 19,
   "id": "c1619d06",
   "metadata": {},
   "outputs": [],
   "source": [
    "def area_of_circle(radius):\n",
    "    pi=3.14\n",
    "    area=pi*(radius**2)\n",
    "    print(\"Areaofcircle = \",area)"
   ]
  },
  {
   "cell_type": "code",
   "execution_count": 20,
   "id": "3c2b61a3",
   "metadata": {},
   "outputs": [
    {
     "name": "stdout",
     "output_type": "stream",
     "text": [
      "Enterradius 2\n",
      "Areaofcircle =  12.56\n"
     ]
    }
   ],
   "source": [
    "radius=int(input(\"Enterradius \"))\n",
    "\n",
    "area_of_circle(radius)"
   ]
  },
  {
   "cell_type": "code",
   "execution_count": 18,
   "id": "ff4b8bdc",
   "metadata": {},
   "outputs": [
    {
     "name": "stdout",
     "output_type": "stream",
     "text": [
      "Enterradius 2\n",
      "Areaofcircle= 12.56\n"
     ]
    }
   ],
   "source": [
    "def area_of_circle(radius):\n",
    "    pi=3.14\n",
    "    area=pi*(radius**2)\n",
    "    print(\"Areaofcircle=\",area)\n",
    "          \n",
    "          \n",
    "radius=int(input(\"Enterradius \"))\n",
    "\n",
    "area_of_circle(radius)          "
   ]
  },
  {
   "cell_type": "code",
   "execution_count": 21,
   "id": "d4175314",
   "metadata": {},
   "outputs": [
    {
     "ename": "NameError",
     "evalue": "name 'pi' is not defined",
     "output_type": "error",
     "traceback": [
      "\u001b[1;31m---------------------------------------------------------------------------\u001b[0m",
      "\u001b[1;31mNameError\u001b[0m                                 Traceback (most recent call last)",
      "\u001b[1;32mC:\\Users\\JASMEE~1\\AppData\\Local\\Temp/ipykernel_34884/3440806613.py\u001b[0m in \u001b[0;36m<module>\u001b[1;34m\u001b[0m\n\u001b[1;32m----> 1\u001b[1;33m \u001b[0mpi\u001b[0m\u001b[1;33m\u001b[0m\u001b[1;33m\u001b[0m\u001b[0m\n\u001b[0m",
      "\u001b[1;31mNameError\u001b[0m: name 'pi' is not defined"
     ]
    }
   ],
   "source": [
    "pi"
   ]
  },
  {
   "cell_type": "code",
   "execution_count": 22,
   "id": "d8f96ee3",
   "metadata": {},
   "outputs": [
    {
     "data": {
      "text/plain": [
       "2"
      ]
     },
     "execution_count": 22,
     "metadata": {},
     "output_type": "execute_result"
    }
   ],
   "source": [
    "radius"
   ]
  },
  {
   "cell_type": "code",
   "execution_count": 23,
   "id": "4346d536",
   "metadata": {},
   "outputs": [
    {
     "data": {
      "text/plain": [
       "11"
      ]
     },
     "execution_count": 23,
     "metadata": {},
     "output_type": "execute_result"
    }
   ],
   "source": [
    "l"
   ]
  },
  {
   "cell_type": "code",
   "execution_count": 24,
   "id": "485dfb6d",
   "metadata": {},
   "outputs": [
    {
     "data": {
      "text/plain": [
       "2"
      ]
     },
     "execution_count": 24,
     "metadata": {},
     "output_type": "execute_result"
    }
   ],
   "source": [
    "b"
   ]
  },
  {
   "cell_type": "code",
   "execution_count": 41,
   "id": "e289a3ad",
   "metadata": {},
   "outputs": [],
   "source": [
    "def funcadd():\n",
    "    a=20\n",
    "    b=20\n",
    "    c=a+b\n",
    "    return c"
   ]
  },
  {
   "cell_type": "code",
   "execution_count": 42,
   "id": "176b16b5",
   "metadata": {},
   "outputs": [
    {
     "name": "stdout",
     "output_type": "stream",
     "text": [
      "40\n"
     ]
    }
   ],
   "source": [
    "val=funcadd()\n",
    "print(val)"
   ]
  },
  {
   "cell_type": "code",
   "execution_count": 43,
   "id": "cb7cbc3b",
   "metadata": {},
   "outputs": [],
   "source": [
    "def functionmultiply():\n",
    "    a=4\n",
    "    b=2\n",
    "    c=a*b\n",
    "    return c"
   ]
  },
  {
   "cell_type": "code",
   "execution_count": 44,
   "id": "b334c071",
   "metadata": {},
   "outputs": [
    {
     "name": "stdout",
     "output_type": "stream",
     "text": [
      "8\n"
     ]
    }
   ],
   "source": [
    "val=functionmultiply()\n",
    "print(val)"
   ]
  },
  {
   "cell_type": "code",
   "execution_count": 2,
   "id": "fb22bee1",
   "metadata": {},
   "outputs": [],
   "source": [
    "def funcmultiply(a,b):\n",
    "    c=a*b\n",
    "    return c"
   ]
  },
  {
   "cell_type": "code",
   "execution_count": 3,
   "id": "8f84582c",
   "metadata": {},
   "outputs": [
    {
     "data": {
      "text/plain": [
       "6"
      ]
     },
     "execution_count": 3,
     "metadata": {},
     "output_type": "execute_result"
    }
   ],
   "source": [
    "val=funcmultiply(2,3)\n",
    "val"
   ]
  },
  {
   "cell_type": "code",
   "execution_count": 4,
   "id": "fa34b1a2",
   "metadata": {},
   "outputs": [
    {
     "name": "stdout",
     "output_type": "stream",
     "text": [
      "Area of circle= 113.04\n"
     ]
    }
   ],
   "source": [
    "def areacircle(val):\n",
    "    ar=3.14*(val**2)\n",
    "    print(\"Area of circle=\",ar)\n",
    "    \n",
    "areacircle(val)"
   ]
  },
  {
   "cell_type": "code",
   "execution_count": 5,
   "id": "4db67976",
   "metadata": {},
   "outputs": [],
   "source": [
    "def arearect():\n",
    "    length=10\n",
    "    breadth=8\n",
    "    return length*breadth"
   ]
  },
  {
   "cell_type": "code",
   "execution_count": 57,
   "id": "ceac7387",
   "metadata": {},
   "outputs": [
    {
     "data": {
      "text/plain": [
       "80"
      ]
     },
     "execution_count": 57,
     "metadata": {},
     "output_type": "execute_result"
    }
   ],
   "source": [
    "ar=arearect()\n",
    "ar"
   ]
  },
  {
   "cell_type": "code",
   "execution_count": 58,
   "id": "eee420f1",
   "metadata": {},
   "outputs": [],
   "source": [
    "def arrect():\n",
    "    l=22\n",
    "    b=33\n",
    "    return l*b"
   ]
  },
  {
   "cell_type": "code",
   "execution_count": 59,
   "id": "abc8f0c6",
   "metadata": {},
   "outputs": [
    {
     "data": {
      "text/plain": [
       "726"
      ]
     },
     "execution_count": 59,
     "metadata": {},
     "output_type": "execute_result"
    }
   ],
   "source": [
    "a=arrect()\n",
    "a"
   ]
  },
  {
   "cell_type": "code",
   "execution_count": 67,
   "id": "abf5c7db",
   "metadata": {},
   "outputs": [
    {
     "name": "stdout",
     "output_type": "stream",
     "text": [
      "11\n"
     ]
    }
   ],
   "source": [
    "def fadd(a,b,c,d,e):\n",
    "    d=a+b+c+d+e\n",
    "    print(d)\n",
    "fadd(2,2,2,2,3)"
   ]
  },
  {
   "cell_type": "markdown",
   "id": "e6250e1c",
   "metadata": {},
   "source": [
    "variable number of arguments\n",
    "\n",
    "In case where you dont know the exact nuumber of arguments that you want to pass to function, yo can use the follwowing syntax with*args:"
   ]
  },
  {
   "cell_type": "code",
   "execution_count": 68,
   "id": "181e0ce9",
   "metadata": {},
   "outputs": [],
   "source": [
    "def plus(*args):\n",
    "    return sum(args)"
   ]
  },
  {
   "cell_type": "code",
   "execution_count": 69,
   "id": "9822da8c",
   "metadata": {},
   "outputs": [
    {
     "data": {
      "text/plain": [
       "630"
      ]
     },
     "execution_count": 69,
     "metadata": {},
     "output_type": "execute_result"
    }
   ],
   "source": [
    "plus(2,3,4,555,66)"
   ]
  },
  {
   "cell_type": "code",
   "execution_count": 78,
   "id": "f972f18d",
   "metadata": {},
   "outputs": [],
   "source": [
    "def a(*args):\n",
    "    return max(args)"
   ]
  },
  {
   "cell_type": "code",
   "execution_count": 79,
   "id": "c33f7578",
   "metadata": {},
   "outputs": [
    {
     "data": {
      "text/plain": [
       "66666"
      ]
     },
     "execution_count": 79,
     "metadata": {},
     "output_type": "execute_result"
    }
   ],
   "source": [
    "a(222,3333,66666)"
   ]
  },
  {
   "cell_type": "code",
   "execution_count": 80,
   "id": "345c1b5b",
   "metadata": {},
   "outputs": [
    {
     "data": {
      "text/plain": [
       "4"
      ]
     },
     "execution_count": 80,
     "metadata": {},
     "output_type": "execute_result"
    }
   ],
   "source": [
    "a(1,3,4)"
   ]
  },
  {
   "cell_type": "code",
   "execution_count": 81,
   "id": "7f94bd64",
   "metadata": {},
   "outputs": [],
   "source": [
    "def a(*args):\n",
    "    return min(args)"
   ]
  },
  {
   "cell_type": "code",
   "execution_count": 82,
   "id": "b4e59f41",
   "metadata": {},
   "outputs": [
    {
     "data": {
      "text/plain": [
       "22"
      ]
     },
     "execution_count": 82,
     "metadata": {},
     "output_type": "execute_result"
    }
   ],
   "source": [
    "a(22,777,55)"
   ]
  },
  {
   "cell_type": "code",
   "execution_count": 83,
   "id": "818bdb6e",
   "metadata": {},
   "outputs": [
    {
     "data": {
      "text/plain": [
       "1"
      ]
     },
     "execution_count": 83,
     "metadata": {},
     "output_type": "execute_result"
    }
   ],
   "source": [
    "a(1,23,3)"
   ]
  },
  {
   "cell_type": "code",
   "execution_count": 84,
   "id": "e993383c",
   "metadata": {},
   "outputs": [
    {
     "data": {
      "text/plain": [
       "55555"
      ]
     },
     "execution_count": 84,
     "metadata": {},
     "output_type": "execute_result"
    }
   ],
   "source": [
    "def nn(*args):\n",
    "    return max(args)\n",
    "nn(33,444,55555)"
   ]
  },
  {
   "cell_type": "code",
   "execution_count": 85,
   "id": "37fce059",
   "metadata": {},
   "outputs": [
    {
     "data": {
      "text/plain": [
       "9"
      ]
     },
     "execution_count": 85,
     "metadata": {},
     "output_type": "execute_result"
    }
   ],
   "source": [
    "def mm(*args):\n",
    "    return min(args)\n",
    "\n",
    "mm(33,22,11,9)"
   ]
  },
  {
   "cell_type": "code",
   "execution_count": 14,
   "id": "655c1f4d",
   "metadata": {},
   "outputs": [],
   "source": [
    "\n",
    "#s=s+n    for s+=n\n",
    "\n",
    "def sumfunc(*numbers):\n",
    "    s=0\n",
    "    for n in numbers:\n",
    "        s+=n\n",
    "    return s"
   ]
  },
  {
   "cell_type": "code",
   "execution_count": 15,
   "id": "af3d6208",
   "metadata": {},
   "outputs": [
    {
     "name": "stdout",
     "output_type": "stream",
     "text": [
      "3\n"
     ]
    }
   ],
   "source": [
    "print (sumfunc(1,2))"
   ]
  },
  {
   "cell_type": "code",
   "execution_count": 16,
   "id": "c3bf2866",
   "metadata": {},
   "outputs": [
    {
     "name": "stdout",
     "output_type": "stream",
     "text": [
      "6\n"
     ]
    }
   ],
   "source": [
    "print (sumfunc(1,2,3))"
   ]
  },
  {
   "cell_type": "code",
   "execution_count": 17,
   "id": "8e2f484b",
   "metadata": {},
   "outputs": [
    {
     "name": "stdout",
     "output_type": "stream",
     "text": [
      "10\n"
     ]
    }
   ],
   "source": [
    "print (sumfunc(1,2,3,4))"
   ]
  },
  {
   "cell_type": "code",
   "execution_count": null,
   "id": "b21f0f84",
   "metadata": {},
   "outputs": [],
   "source": []
  }
 ],
 "metadata": {
  "kernelspec": {
   "display_name": "Python 3 (ipykernel)",
   "language": "python",
   "name": "python3"
  },
  "language_info": {
   "codemirror_mode": {
    "name": "ipython",
    "version": 3
   },
   "file_extension": ".py",
   "mimetype": "text/x-python",
   "name": "python",
   "nbconvert_exporter": "python",
   "pygments_lexer": "ipython3",
   "version": "3.9.7"
  }
 },
 "nbformat": 4,
 "nbformat_minor": 5
}
