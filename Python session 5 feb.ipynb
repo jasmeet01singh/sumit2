{
 "cells": [
  {
   "cell_type": "markdown",
   "id": "ae258c4b",
   "metadata": {},
   "source": [
    "Referntial intergity "
   ]
  },
  {
   "cell_type": "code",
   "execution_count": 1,
   "id": "56a567e1",
   "metadata": {},
   "outputs": [],
   "source": [
    "import sqlite3"
   ]
  },
  {
   "cell_type": "code",
   "execution_count": 2,
   "id": "a5648897",
   "metadata": {},
   "outputs": [],
   "source": [
    "db5=sqlite3.connect(\"E:/MY SQLITE_database/student_course_database.db5\")"
   ]
  },
  {
   "cell_type": "code",
   "execution_count": 3,
   "id": "4e5bd6ba",
   "metadata": {},
   "outputs": [],
   "source": [
    "cur=db5.cursor()"
   ]
  },
  {
   "cell_type": "markdown",
   "id": "f4b6921a",
   "metadata": {},
   "source": [
    "constraints`------------\n",
    "unique -- enter only unique values, n duplicate values\n",
    "not null---- no blank values can  be inserted in table"
   ]
  },
  {
   "cell_type": "code",
   "execution_count": 4,
   "id": "762c7d40",
   "metadata": {},
   "outputs": [
    {
     "data": {
      "text/plain": [
       "<sqlite3.Cursor at 0x2277332a420>"
      ]
     },
     "execution_count": 4,
     "metadata": {},
     "output_type": "execute_result"
    }
   ],
   "source": [
    "cur.execute(\"create table course(courseid int primary key, coursename text,duration int)\")"
   ]
  },
  {
   "cell_type": "code",
   "execution_count": 5,
   "id": "c7943480",
   "metadata": {},
   "outputs": [
    {
     "data": {
      "text/plain": [
       "<sqlite3.Cursor at 0x2277332a420>"
      ]
     },
     "execution_count": 5,
     "metadata": {},
     "output_type": "execute_result"
    }
   ],
   "source": [
    "cur.execute(\"create table student(roll_no int primary key,studentname text,age int,courseid int,foreign key(courseid) references courses(courseid))\")"
   ]
  },
  {
   "cell_type": "code",
   "execution_count": 6,
   "id": "4f0fe619",
   "metadata": {},
   "outputs": [
    {
     "name": "stdout",
     "output_type": "stream",
     "text": [
      "3 record(s) inserted\n"
     ]
    }
   ],
   "source": [
    "cur.execute(\"insert into course values(78,'Data Science',12),(56,'Python course',4),(101,'Database',7)\")\n",
    "\n",
    "print(cur.rowcount,\"record(s) inserted\")\n",
    "\n",
    "\n",
    "db5.commit;"
   ]
  },
  {
   "cell_type": "code",
   "execution_count": 8,
   "id": "fac94b42",
   "metadata": {},
   "outputs": [
    {
     "name": "stdout",
     "output_type": "stream",
     "text": [
      "4 record(s) inserted \n"
     ]
    }
   ],
   "source": [
    "cur.execute(\"insert into student values(1,'Jack',22,78),(2,'John',21,78),(3,'Rudolf',18,78),(4,'Jim',25,56)\")\n",
    "\n",
    "print(cur.rowcount,\"record(s) inserted \")\n",
    "\n",
    "db5.commit;"
   ]
  },
  {
   "cell_type": "code",
   "execution_count": 12,
   "id": "0a526063",
   "metadata": {},
   "outputs": [
    {
     "data": {
      "text/plain": [
       "[(78, 'Data Science', 12), (56, 'Python course', 4), (101, 'Database', 7)]"
      ]
     },
     "execution_count": 12,
     "metadata": {},
     "output_type": "execute_result"
    }
   ],
   "source": [
    "results=cur.execute('select * from course')\n",
    "\n",
    "results.fetchall()"
   ]
  },
  {
   "cell_type": "code",
   "execution_count": 13,
   "id": "2aa49024",
   "metadata": {},
   "outputs": [
    {
     "data": {
      "text/plain": [
       "[(1, 'Jack', 22, 78),\n",
       " (2, 'John', 21, 78),\n",
       " (3, 'Rudolf', 18, 78),\n",
       " (4, 'Jim', 25, 56)]"
      ]
     },
     "execution_count": 13,
     "metadata": {},
     "output_type": "execute_result"
    }
   ],
   "source": [
    "results=cur.execute('select * from student')\n",
    "results.fetchall()"
   ]
  },
  {
   "cell_type": "code",
   "execution_count": 14,
   "id": "37457d49",
   "metadata": {},
   "outputs": [
    {
     "name": "stdout",
     "output_type": "stream",
     "text": [
      "(78,)\n"
     ]
    }
   ],
   "source": [
    "results=cur.execute('select courseid from course where coursename=\"Data Science\"')\n",
    "\n",
    "for i in results:\n",
    "    print(i)"
   ]
  },
  {
   "cell_type": "markdown",
   "id": "10494904",
   "metadata": {},
   "source": [
    "# Subquery"
   ]
  },
  {
   "cell_type": "code",
   "execution_count": 15,
   "id": "6792b62c",
   "metadata": {},
   "outputs": [
    {
     "data": {
      "text/plain": [
       "[(1, 'Jack', 22, 78), (2, 'John', 21, 78), (3, 'Rudolf', 18, 78)]"
      ]
     },
     "execution_count": 15,
     "metadata": {},
     "output_type": "execute_result"
    }
   ],
   "source": [
    "results=cur.execute('select * from student where courseid=(select courseid from course where coursename=\"Data Science\")')\n",
    "\n",
    "results.fetchall()"
   ]
  },
  {
   "cell_type": "code",
   "execution_count": 24,
   "id": "77e24669",
   "metadata": {},
   "outputs": [
    {
     "data": {
      "text/plain": [
       "[(4, 'Jim', 25, 56)]"
      ]
     },
     "execution_count": 24,
     "metadata": {},
     "output_type": "execute_result"
    }
   ],
   "source": [
    "results=cur.execute('select * from student where courseid=(select courseid from course where coursename =\"Python course\")')\n",
    "\n",
    "\n",
    "results.fetchall()"
   ]
  },
  {
   "cell_type": "markdown",
   "id": "49b81a08",
   "metadata": {},
   "source": [
    "# JOIN "
   ]
  },
  {
   "cell_type": "markdown",
   "id": "16b0576e",
   "metadata": {},
   "source": [
    "# INNER JOIN "
   ]
  },
  {
   "cell_type": "code",
   "execution_count": 1,
   "id": "bc6a6d49",
   "metadata": {},
   "outputs": [],
   "source": [
    "import sqlite3"
   ]
  },
  {
   "cell_type": "code",
   "execution_count": 2,
   "id": "80612638",
   "metadata": {},
   "outputs": [],
   "source": [
    "con=sqlite3.connect(\"E:/MY SQLITE_DATABASE/emp_database.db\")"
   ]
  },
  {
   "cell_type": "code",
   "execution_count": 3,
   "id": "fd4313c3",
   "metadata": {},
   "outputs": [],
   "source": [
    "def sql_table(con):\n",
    "    cur=con.cursor()\n",
    "    cur.execute(\"create table employee(id integer primary key, name text, salary real,department text, position text,hiredate date)\")\n",
    "    con.commit()"
   ]
  },
  {
   "cell_type": "code",
   "execution_count": 4,
   "id": "142c1133",
   "metadata": {},
   "outputs": [],
   "source": [
    "#calling function\n",
    "\n",
    "sql_table(con)"
   ]
  },
  {
   "cell_type": "code",
   "execution_count": 5,
   "id": "1cf357e0",
   "metadata": {},
   "outputs": [
    {
     "data": {
      "text/plain": [
       "<sqlite3.Cursor at 0x24e0941a2d0>"
      ]
     },
     "execution_count": 5,
     "metadata": {},
     "output_type": "execute_result"
    }
   ],
   "source": [
    "cur=con.cursor()\n",
    "cur.execute(\"insert into employee values(1,'Jack',9000,'HR','Manager','2019-07-06')\")"
   ]
  },
  {
   "cell_type": "code",
   "execution_count": 6,
   "id": "ad199ee2",
   "metadata": {},
   "outputs": [],
   "source": [
    "con.commit()"
   ]
  },
  {
   "cell_type": "code",
   "execution_count": 7,
   "id": "912a2fa3",
   "metadata": {},
   "outputs": [
    {
     "data": {
      "text/plain": [
       "[(1, 'Jack', 9000.0, 'HR', 'Manager', '2019-07-06')]"
      ]
     },
     "execution_count": 7,
     "metadata": {},
     "output_type": "execute_result"
    }
   ],
   "source": [
    "results=cur.execute(\"select *from employee\")\n",
    "results.fetchall()"
   ]
  },
  {
   "cell_type": "code",
   "execution_count": 8,
   "id": "f877acfe",
   "metadata": {},
   "outputs": [],
   "source": [
    "def sql_insert(con,entities):\n",
    "    cur=con.cursor()\n",
    "    cur.execute('insert into employee (id,name,salary,department,position,hiredate) values(?,?,?,?,?,?)',entities)"
   ]
  },
  {
   "cell_type": "code",
   "execution_count": 9,
   "id": "acc52cdf",
   "metadata": {},
   "outputs": [],
   "source": [
    "entities=(2,'Andrew',6000,'IT','Engineer','2021-08-09')"
   ]
  },
  {
   "cell_type": "code",
   "execution_count": 10,
   "id": "84fac535",
   "metadata": {},
   "outputs": [],
   "source": [
    "sql_insert(con,entities)"
   ]
  },
  {
   "cell_type": "code",
   "execution_count": 11,
   "id": "ba103107",
   "metadata": {},
   "outputs": [
    {
     "data": {
      "text/plain": [
       "[(1, 'Jack', 9000.0, 'HR', 'Manager', '2019-07-06'),\n",
       " (2, 'Andrew', 6000.0, 'IT', 'Engineer', '2021-08-09'),\n",
       " (3, 'John', 7000.0, 'Sales', 'manager', '2021-09-07')]"
      ]
     },
     "execution_count": 11,
     "metadata": {},
     "output_type": "execute_result"
    }
   ],
   "source": [
    "entities=(3,'John',7000,'Sales','manager','2021-09-07')\n",
    "sql_insert(con,entities)\n",
    "\n",
    "\n",
    "results=cur.execute(\"select*from employee\")\n",
    "\n",
    "results.fetchall()"
   ]
  },
  {
   "cell_type": "code",
   "execution_count": 12,
   "id": "9c2aa965",
   "metadata": {},
   "outputs": [
    {
     "data": {
      "text/plain": [
       "[(1, 'Jack', 9000.0, 'HR', 'Manager', '2019-07-06'),\n",
       " (2, 'Andrew', 6000.0, 'IT', 'Engineer', '2021-08-09'),\n",
       " (3, 'John', 7000.0, 'Sales', 'manager', '2021-09-07')]"
      ]
     },
     "execution_count": 12,
     "metadata": {},
     "output_type": "execute_result"
    }
   ],
   "source": [
    "results=cur.execute(\"select*from employee\")\n",
    "\n",
    "results.fetchall()"
   ]
  },
  {
   "cell_type": "code",
   "execution_count": 13,
   "id": "9f1efc7f",
   "metadata": {},
   "outputs": [],
   "source": [
    "entities=(4,'Rudolf',10000,'IT','engineer','2021-09-23')\n",
    "\n",
    "sql_insert(con,entities)\n",
    "\n",
    "entities=(5,'Heera',11000,'Sales','executive','2020-11-23')\n",
    "\n",
    "sql_insert(con,entities)\n"
   ]
  },
  {
   "cell_type": "code",
   "execution_count": 14,
   "id": "9f7eafbf",
   "metadata": {},
   "outputs": [
    {
     "data": {
      "text/plain": [
       "[(1, 'Jack', 9000.0, 'HR', 'Manager', '2019-07-06'),\n",
       " (2, 'Andrew', 6000.0, 'IT', 'Engineer', '2021-08-09'),\n",
       " (3, 'John', 7000.0, 'Sales', 'manager', '2021-09-07'),\n",
       " (4, 'Rudolf', 10000.0, 'IT', 'engineer', '2021-09-23'),\n",
       " (5, 'Heera', 11000.0, 'Sales', 'executive', '2020-11-23')]"
      ]
     },
     "execution_count": 14,
     "metadata": {},
     "output_type": "execute_result"
    }
   ],
   "source": [
    "results=cur.execute('select*from employee')\n",
    "results.fetchall()"
   ]
  },
  {
   "cell_type": "code",
   "execution_count": 18,
   "id": "14f7ef65",
   "metadata": {},
   "outputs": [],
   "source": [
    "def sql_update(con):\n",
    "    cur=con.cursor()\n",
    "    cur.execute('update employee set name =\"Martin\" where id=1')\n",
    "    con.commit()        \n",
    "        "
   ]
  },
  {
   "cell_type": "code",
   "execution_count": 19,
   "id": "49dd2d3b",
   "metadata": {},
   "outputs": [],
   "source": [
    "sql_update(con)"
   ]
  },
  {
   "cell_type": "code",
   "execution_count": 20,
   "id": "4a8693a5",
   "metadata": {},
   "outputs": [
    {
     "data": {
      "text/plain": [
       "[(1, 'Martin', 9000.0, 'HR', 'Manager', '2019-07-06'),\n",
       " (2, 'Andrew', 6000.0, 'IT', 'Engineer', '2021-08-09'),\n",
       " (3, 'John', 7000.0, 'Sales', 'manager', '2021-09-07'),\n",
       " (4, 'Rudolf', 10000.0, 'IT', 'engineer', '2021-09-23'),\n",
       " (5, 'Heera', 11000.0, 'Sales', 'executive', '2020-11-23')]"
      ]
     },
     "execution_count": 20,
     "metadata": {},
     "output_type": "execute_result"
    }
   ],
   "source": [
    "results=cur.execute(\"select *from employee\")\n",
    "results.fetchall()"
   ]
  },
  {
   "cell_type": "code",
   "execution_count": 21,
   "id": "dfb501e2",
   "metadata": {},
   "outputs": [
    {
     "data": {
      "text/plain": [
       "[(1, 'Martin'), (2, 'Andrew'), (3, 'John'), (4, 'Rudolf'), (5, 'Heera')]"
      ]
     },
     "execution_count": 21,
     "metadata": {},
     "output_type": "execute_result"
    }
   ],
   "source": [
    "results=cur.execute(\"select id, name from employee\")\n",
    "results.fetchall()"
   ]
  },
  {
   "cell_type": "code",
   "execution_count": 26,
   "id": "5b5a1e51",
   "metadata": {},
   "outputs": [
    {
     "data": {
      "text/plain": [
       "[(1, 'Martin')]"
      ]
     },
     "execution_count": 26,
     "metadata": {},
     "output_type": "execute_result"
    }
   ],
   "source": [
    "results=cur.execute(\"select id ,name from employee where department is ('HR')\")\n",
    "\n",
    "\n",
    "results.fetchall()"
   ]
  },
  {
   "cell_type": "code",
   "execution_count": 28,
   "id": "014438b9",
   "metadata": {},
   "outputs": [
    {
     "data": {
      "text/plain": [
       "[(1, 'Martin'), (4, 'Rudolf'), (5, 'Heera')]"
      ]
     },
     "execution_count": 28,
     "metadata": {},
     "output_type": "execute_result"
    }
   ],
   "source": [
    "results=cur.execute(\"select id ,name from employee where salary >8000\")\n",
    "\n",
    "\n",
    "results.fetchall()"
   ]
  },
  {
   "cell_type": "code",
   "execution_count": 29,
   "id": "e1cfef4d",
   "metadata": {},
   "outputs": [
    {
     "data": {
      "text/plain": [
       "[(6000.0,)]"
      ]
     },
     "execution_count": 29,
     "metadata": {},
     "output_type": "execute_result"
    }
   ],
   "source": [
    "results=cur.execute(\"select min(salary) from employee\")\n",
    "results.fetchall()"
   ]
  },
  {
   "cell_type": "code",
   "execution_count": 30,
   "id": "df947a23",
   "metadata": {},
   "outputs": [
    {
     "data": {
      "text/plain": [
       "[(11000.0,)]"
      ]
     },
     "execution_count": 30,
     "metadata": {},
     "output_type": "execute_result"
    }
   ],
   "source": [
    "results=cur.execute(\"select max(salary) from employee\")\n",
    "results.fetchall()"
   ]
  },
  {
   "cell_type": "code",
   "execution_count": 31,
   "id": "6ce3d04f",
   "metadata": {},
   "outputs": [
    {
     "data": {
      "text/plain": [
       "[(5,)]"
      ]
     },
     "execution_count": 31,
     "metadata": {},
     "output_type": "execute_result"
    }
   ],
   "source": [
    "results=cur.execute(\"select count(id) from employee\")\n",
    "results.fetchall()"
   ]
  },
  {
   "cell_type": "code",
   "execution_count": 32,
   "id": "5545acdd",
   "metadata": {},
   "outputs": [
    {
     "data": {
      "text/plain": [
       "[('HR',), ('IT',), ('Sales',)]"
      ]
     },
     "execution_count": 32,
     "metadata": {},
     "output_type": "execute_result"
    }
   ],
   "source": [
    "results=cur.execute(\"select distinct (department) from employee\")\n",
    "\n",
    "results.fetchall()"
   ]
  },
  {
   "cell_type": "code",
   "execution_count": 34,
   "id": "6608bad6",
   "metadata": {},
   "outputs": [
    {
     "data": {
      "text/plain": [
       "[(6000.0, 'Engineer'),\n",
       " (9000.0, 'Manager'),\n",
       " (10000.0, 'engineer'),\n",
       " (11000.0, 'executive'),\n",
       " (7000.0, 'manager')]"
      ]
     },
     "execution_count": 34,
     "metadata": {},
     "output_type": "execute_result"
    }
   ],
   "source": [
    "results=cur.execute(\"select sum(salary),position from employee group by position\")\n",
    "\n",
    "results.fetchall()"
   ]
  },
  {
   "cell_type": "code",
   "execution_count": 37,
   "id": "ad716486",
   "metadata": {},
   "outputs": [],
   "source": [
    "def sql_query(sql):\n",
    "    cur=con.cursor()\n",
    "    results=cur.execute(sql)\n",
    "    return results"
   ]
  },
  {
   "cell_type": "code",
   "execution_count": 38,
   "id": "57603662",
   "metadata": {},
   "outputs": [
    {
     "data": {
      "text/plain": [
       "[(1, 'Martin', 9000.0, 'HR', 'Manager', '2019-07-06'),\n",
       " (2, 'Andrew', 6000.0, 'IT', 'Engineer', '2021-08-09'),\n",
       " (3, 'John', 7000.0, 'Sales', 'manager', '2021-09-07'),\n",
       " (4, 'Rudolf', 10000.0, 'IT', 'engineer', '2021-09-23'),\n",
       " (5, 'Heera', 11000.0, 'Sales', 'executive', '2020-11-23')]"
      ]
     },
     "execution_count": 38,
     "metadata": {},
     "output_type": "execute_result"
    }
   ],
   "source": [
    "#make query\n",
    "\n",
    "sql=\"select * from employee\"\n",
    "\n",
    "#pass query in function\n",
    "\n",
    "respond=sql_query(sql)\n",
    "respond.fetchall()"
   ]
  },
  {
   "cell_type": "code",
   "execution_count": null,
   "id": "2768d096",
   "metadata": {},
   "outputs": [],
   "source": []
  }
 ],
 "metadata": {
  "kernelspec": {
   "display_name": "Python 3 (ipykernel)",
   "language": "python",
   "name": "python3"
  },
  "language_info": {
   "codemirror_mode": {
    "name": "ipython",
    "version": 3
   },
   "file_extension": ".py",
   "mimetype": "text/x-python",
   "name": "python",
   "nbconvert_exporter": "python",
   "pygments_lexer": "ipython3",
   "version": "3.9.7"
  }
 },
 "nbformat": 4,
 "nbformat_minor": 5
}
