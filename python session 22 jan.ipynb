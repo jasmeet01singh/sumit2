{
 "cells": [
  {
   "cell_type": "markdown",
   "id": "35f1b7f2",
   "metadata": {},
   "source": [
    "# FILE INPUT / OUTPUT OPERATIONS"
   ]
  },
  {
   "cell_type": "markdown",
   "id": "af1eec56",
   "metadata": {},
   "source": [
    "f=open('E:\\Python\\file1.txt','w')"
   ]
  },
  {
   "cell_type": "markdown",
   "id": "bc04cc3d",
   "metadata": {},
   "source": [
    "f=open('E:\\Python\\file.txt,'r')"
   ]
  },
  {
   "cell_type": "code",
   "execution_count": 1,
   "id": "e760f425",
   "metadata": {},
   "outputs": [],
   "source": [
    "savefile = open('E:\\\\PYTHON\\\\jan22file.txt','w')"
   ]
  },
  {
   "cell_type": "code",
   "execution_count": 2,
   "id": "e3eb8e32",
   "metadata": {},
   "outputs": [
    {
     "data": {
      "text/plain": [
       "23"
      ]
     },
     "execution_count": 2,
     "metadata": {},
     "output_type": "execute_result"
    }
   ],
   "source": [
    "savefile.write(\"This is the first line.\")"
   ]
  },
  {
   "cell_type": "code",
   "execution_count": 3,
   "id": "19c5c67a",
   "metadata": {},
   "outputs": [],
   "source": [
    "savefile.close()"
   ]
  },
  {
   "cell_type": "code",
   "execution_count": 4,
   "id": "97c8175a",
   "metadata": {},
   "outputs": [],
   "source": [
    "readme=open('E:\\\\PYTHON\\\\jan22file.txt','r')"
   ]
  },
  {
   "cell_type": "code",
   "execution_count": 5,
   "id": "960f5143",
   "metadata": {},
   "outputs": [
    {
     "name": "stdout",
     "output_type": "stream",
     "text": [
      "This is the first line.\n"
     ]
    }
   ],
   "source": [
    "print(readme.read())"
   ]
  },
  {
   "cell_type": "code",
   "execution_count": 6,
   "id": "1c41a354",
   "metadata": {},
   "outputs": [],
   "source": [
    "savefile = open('E:\\\\PYTHON\\\\jan222file.txt','w')"
   ]
  },
  {
   "cell_type": "code",
   "execution_count": 7,
   "id": "03fa6c63",
   "metadata": {},
   "outputs": [
    {
     "data": {
      "text/plain": [
       "23"
      ]
     },
     "execution_count": 7,
     "metadata": {},
     "output_type": "execute_result"
    }
   ],
   "source": [
    "savefile.write(\"This is the first line.\")"
   ]
  },
  {
   "cell_type": "code",
   "execution_count": 8,
   "id": "dbbced59",
   "metadata": {},
   "outputs": [],
   "source": [
    "savefile.close()"
   ]
  },
  {
   "cell_type": "code",
   "execution_count": 9,
   "id": "222ba61f",
   "metadata": {},
   "outputs": [],
   "source": [
    "readme=open('E:\\\\PYTHON\\\\jan222file.txt','r')"
   ]
  },
  {
   "cell_type": "code",
   "execution_count": 10,
   "id": "d1889a1e",
   "metadata": {},
   "outputs": [
    {
     "name": "stdout",
     "output_type": "stream",
     "text": [
      "This is the first line.\n"
     ]
    }
   ],
   "source": [
    "print(readme.read())"
   ]
  },
  {
   "cell_type": "code",
   "execution_count": 11,
   "id": "6f7c9328",
   "metadata": {},
   "outputs": [],
   "source": [
    "readme.close()"
   ]
  },
  {
   "cell_type": "code",
   "execution_count": 12,
   "id": "b1433759",
   "metadata": {},
   "outputs": [],
   "source": [
    "appendfile=open('E:\\\\PYTHON\\\\jan22file.txt','a')"
   ]
  },
  {
   "cell_type": "code",
   "execution_count": 13,
   "id": "70751b18",
   "metadata": {},
   "outputs": [
    {
     "data": {
      "text/plain": [
       "32"
      ]
     },
     "execution_count": 13,
     "metadata": {},
     "output_type": "execute_result"
    }
   ],
   "source": [
    "appendfile.write(\"\\n Lets add this is the next line\")"
   ]
  },
  {
   "cell_type": "code",
   "execution_count": 14,
   "id": "1c8629cb",
   "metadata": {},
   "outputs": [],
   "source": [
    "appendfile.close()"
   ]
  },
  {
   "cell_type": "code",
   "execution_count": 15,
   "id": "bb903461",
   "metadata": {},
   "outputs": [],
   "source": [
    "readme=open('E:\\\\PYTHON\\\\jan22file.txt','r')"
   ]
  },
  {
   "cell_type": "code",
   "execution_count": 16,
   "id": "b6580e39",
   "metadata": {},
   "outputs": [
    {
     "name": "stdout",
     "output_type": "stream",
     "text": [
      "This is the first line.\n",
      " Lets add this is the next line\n"
     ]
    }
   ],
   "source": [
    "print(readme.read())"
   ]
  },
  {
   "cell_type": "code",
   "execution_count": 17,
   "id": "61f5f31b",
   "metadata": {},
   "outputs": [],
   "source": [
    "readme.close()"
   ]
  },
  {
   "cell_type": "code",
   "execution_count": 18,
   "id": "0c0d7761",
   "metadata": {},
   "outputs": [],
   "source": [
    "readme=open('E:\\\\PYTHON\\\\jan22file.txt','r')"
   ]
  },
  {
   "cell_type": "code",
   "execution_count": 19,
   "id": "d56dbc9e",
   "metadata": {},
   "outputs": [
    {
     "name": "stdout",
     "output_type": "stream",
     "text": [
      "This is the first line.\n",
      " Lets add this is the next line\n"
     ]
    }
   ],
   "source": [
    "print(readme.read())"
   ]
  },
  {
   "cell_type": "code",
   "execution_count": 20,
   "id": "f76fac20",
   "metadata": {},
   "outputs": [],
   "source": [
    "readme.close()"
   ]
  },
  {
   "cell_type": "markdown",
   "id": "560863ca",
   "metadata": {},
   "source": [
    "# PICKLE IN Python : Object Serialization"
   ]
  },
  {
   "cell_type": "code",
   "execution_count": 21,
   "id": "c23ee6be",
   "metadata": {},
   "outputs": [],
   "source": [
    "import pickle"
   ]
  },
  {
   "cell_type": "code",
   "execution_count": 22,
   "id": "3ca57af6",
   "metadata": {},
   "outputs": [],
   "source": [
    "flower_dict = {1:'Rose',2:'Lily',3:'Lotus',4:'Tulip'}"
   ]
  },
  {
   "cell_type": "code",
   "execution_count": 23,
   "id": "ed061aec",
   "metadata": {},
   "outputs": [],
   "source": [
    "#filename ='flower'\n",
    "#outfile = 'open(filename,'wb')'"
   ]
  },
  {
   "cell_type": "code",
   "execution_count": 24,
   "id": "231bb5a5",
   "metadata": {},
   "outputs": [],
   "source": [
    "outfile=open('flower.obj','wb')"
   ]
  },
  {
   "cell_type": "code",
   "execution_count": 25,
   "id": "2374760f",
   "metadata": {},
   "outputs": [],
   "source": [
    "#pickling the file\n",
    "#dump method serialize\n",
    "pickle.dump(flower_dict,outfile)\n",
    "outfile.close()"
   ]
  },
  {
   "cell_type": "code",
   "execution_count": 26,
   "id": "50bda148",
   "metadata": {},
   "outputs": [],
   "source": [
    "#unpickle the file\n",
    "#infile=open(filename,'rb')"
   ]
  },
  {
   "cell_type": "code",
   "execution_count": 27,
   "id": "7266ec65",
   "metadata": {},
   "outputs": [],
   "source": [
    "infile=open('flower.obj','rb')"
   ]
  },
  {
   "cell_type": "code",
   "execution_count": 28,
   "id": "1fcf7a74",
   "metadata": {},
   "outputs": [],
   "source": [
    "#de sersialize \n",
    "#load method\n",
    "new_dict=pickle.load(infile)"
   ]
  },
  {
   "cell_type": "code",
   "execution_count": 29,
   "id": "3ba147e2",
   "metadata": {},
   "outputs": [],
   "source": [
    "infile.close()"
   ]
  },
  {
   "cell_type": "code",
   "execution_count": 30,
   "id": "4aa1e073",
   "metadata": {},
   "outputs": [
    {
     "name": "stdout",
     "output_type": "stream",
     "text": [
      "{1: 'Rose', 2: 'Lily', 3: 'Lotus', 4: 'Tulip'}\n"
     ]
    }
   ],
   "source": [
    "print(new_dict)"
   ]
  },
  {
   "cell_type": "code",
   "execution_count": 31,
   "id": "5ee96ab0",
   "metadata": {},
   "outputs": [
    {
     "name": "stdout",
     "output_type": "stream",
     "text": [
      "True\n"
     ]
    }
   ],
   "source": [
    "print(new_dict==flower_dict)"
   ]
  },
  {
   "cell_type": "code",
   "execution_count": 32,
   "id": "810a3f56",
   "metadata": {},
   "outputs": [
    {
     "name": "stdout",
     "output_type": "stream",
     "text": [
      "<class 'dict'>\n"
     ]
    }
   ],
   "source": [
    "print(type(new_dict))"
   ]
  }
 ],
 "metadata": {
  "kernelspec": {
   "display_name": "Python 3 (ipykernel)",
   "language": "python",
   "name": "python3"
  },
  "language_info": {
   "codemirror_mode": {
    "name": "ipython",
    "version": 3
   },
   "file_extension": ".py",
   "mimetype": "text/x-python",
   "name": "python",
   "nbconvert_exporter": "python",
   "pygments_lexer": "ipython3",
   "version": "3.9.7"
  }
 },
 "nbformat": 4,
 "nbformat_minor": 5
}
