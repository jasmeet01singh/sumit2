{
 "cells": [
  {
   "cell_type": "markdown",
   "id": "e55c5277",
   "metadata": {},
   "source": [
    "String Format"
   ]
  },
  {
   "cell_type": "code",
   "execution_count": 6,
   "id": "4af7a3b9",
   "metadata": {},
   "outputs": [],
   "source": [
    "#Pyhton Uses C-style formatting to create new,formatted strings.The% operator is used to format a set of variables enclosed in a \"tuple\" ( a fixed size list), together with a format string , which "
   ]
  },
  {
   "cell_type": "code",
   "execution_count": 7,
   "id": "18861e15",
   "metadata": {},
   "outputs": [
    {
     "name": "stdout",
     "output_type": "stream",
     "text": [
      "Hello, John!\n"
     ]
    }
   ],
   "source": [
    "#  This prints out \"Hello, John!\"\n",
    "name = \"John\"\n",
    "print(\"Hello, %s!\" %name)"
   ]
  },
  {
   "cell_type": "code",
   "execution_count": 9,
   "id": "395cdf04",
   "metadata": {},
   "outputs": [
    {
     "name": "stdout",
     "output_type": "stream",
     "text": [
      "Hello John !\n"
     ]
    }
   ],
   "source": [
    "print(\"Hello\",name,\"!\")"
   ]
  },
  {
   "cell_type": "code",
   "execution_count": 10,
   "id": "1c6f9771",
   "metadata": {},
   "outputs": [
    {
     "name": "stdout",
     "output_type": "stream",
     "text": [
      "John is 23 old.\n"
     ]
    }
   ],
   "source": [
    "name =\"John\"\n",
    "age = 23\n",
    "print(\"%s is %d old.\" % (name,age ))"
   ]
  },
  {
   "cell_type": "code",
   "execution_count": 13,
   "id": "42c4a7de",
   "metadata": {},
   "outputs": [
    {
     "name": "stdout",
     "output_type": "stream",
     "text": [
      "Ashu is 35 old \n"
     ]
    }
   ],
   "source": [
    "name =\"Ashu\"\n",
    "Age = 35\n",
    "print(\"%s is %d old \" %(name,Age))"
   ]
  },
  {
   "cell_type": "code",
   "execution_count": 15,
   "id": "9face86c",
   "metadata": {},
   "outputs": [
    {
     "name": "stdout",
     "output_type": "stream",
     "text": [
      "i have apples and lemons \n"
     ]
    }
   ],
   "source": [
    "x=\"apples\"\n",
    "y=\"lemons\"\n",
    "z=\"i have %s and %s \" %(x,y)\n",
    "print(z)"
   ]
  },
  {
   "cell_type": "code",
   "execution_count": 17,
   "id": "e6ee8438",
   "metadata": {},
   "outputs": [
    {
     "name": "stdout",
     "output_type": "stream",
     "text": [
      "his name is John he is 24 years old\n"
     ]
    }
   ],
   "source": [
    "name=\"John\"\n",
    "age= 24\n",
    "print(\"his name is {} he is {} years old\". format(name,age))"
   ]
  },
  {
   "cell_type": "code",
   "execution_count": 18,
   "id": "f1be6b69",
   "metadata": {},
   "outputs": [
    {
     "name": "stdout",
     "output_type": "stream",
     "text": [
      "spam and eggs\n",
      "eggs and spam\n"
     ]
    }
   ],
   "source": [
    "print('{0} and {1}'. format('spam', 'eggs'))\n",
    "print('{1} and {0}'. format('spam', 'eggs'))"
   ]
  },
  {
   "cell_type": "code",
   "execution_count": 29,
   "id": "9113ee4a",
   "metadata": {},
   "outputs": [
    {
     "name": "stdout",
     "output_type": "stream",
     "text": [
      "ashu and ldh\n",
      "ashu and ldh\n"
     ]
    }
   ],
   "source": [
    "print('{0} and {1}'.format('ashu', 'ldh'))\n",
    "print('{1} and {0}'.format('ldh', 'ashu'))\n",
    "      "
   ]
  },
  {
   "cell_type": "code",
   "execution_count": null,
   "id": "98390edb",
   "metadata": {},
   "outputs": [],
   "source": [
    "#Functions "
   ]
  },
  {
   "cell_type": "markdown",
   "id": "5cff00b7",
   "metadata": {},
   "source": [
    "https://docs.python.org/3/library/functions.html"
   ]
  },
  {
   "cell_type": "markdown",
   "id": "bdf4d1c6",
   "metadata": {},
   "source": [
    "Built in functions-----\n",
    "\n",
    "https://docs.python.org/3/library/functions.html"
   ]
  },
  {
   "cell_type": "code",
   "execution_count": 2,
   "id": "ba56d60c",
   "metadata": {},
   "outputs": [
    {
     "name": "stdout",
     "output_type": "stream",
     "text": [
      "\n",
      "Welcome to Python 3.9's help utility!\n",
      "\n",
      "If this is your first time using Python, you should definitely check out\n",
      "the tutorial on the Internet at https://docs.python.org/3.9/tutorial/.\n",
      "\n",
      "Enter the name of any module, keyword, or topic to get help on writing\n",
      "Python programs and using Python modules.  To quit this help utility and\n",
      "return to the interpreter, just type \"quit\".\n",
      "\n",
      "To get a list of available modules, keywords, symbols, or topics, type\n",
      "\"modules\", \"keywords\", \"symbols\", or \"topics\".  Each module also comes\n",
      "with a one-line summary of what it does; to list the modules whose name\n",
      "or summary contain a given string such as \"spam\", type \"modules spam\".\n",
      "\n",
      "help> keywords\n",
      "\n",
      "Here is a list of the Python keywords.  Enter any keyword to get more help.\n",
      "\n",
      "False               break               for                 not\n",
      "None                class               from                or\n",
      "True                continue            global              pass\n",
      "__peg_parser__      def                 if                  raise\n",
      "and                 del                 import              return\n",
      "as                  elif                in                  try\n",
      "assert              else                is                  while\n",
      "async               except              lambda              with\n",
      "await               finally             nonlocal            yield\n",
      "\n",
      "\n",
      "You are now leaving help and returning to the Python interpreter.\n",
      "If you want to ask for help on a particular object directly from the\n",
      "interpreter, you can type \"help(object)\".  Executing \"help('string')\"\n",
      "has the same effect as typing a particular string at the help> prompt.\n"
     ]
    }
   ],
   "source": [
    "help()"
   ]
  },
  {
   "cell_type": "code",
   "execution_count": 3,
   "id": "5c25e0bc",
   "metadata": {},
   "outputs": [
    {
     "name": "stdout",
     "output_type": "stream",
     "text": [
      "Help on built-in function len in module builtins:\n",
      "\n",
      "len(obj, /)\n",
      "    Return the number of items in a container.\n",
      "\n"
     ]
    }
   ],
   "source": [
    "help(len)"
   ]
  },
  {
   "cell_type": "code",
   "execution_count": 4,
   "id": "50f18df0",
   "metadata": {},
   "outputs": [
    {
     "data": {
      "text/plain": [
       "22"
      ]
     },
     "execution_count": 4,
     "metadata": {},
     "output_type": "execute_result"
    }
   ],
   "source": [
    "k=[40,33,22,49,55,90]\n",
    "min(k)"
   ]
  },
  {
   "cell_type": "code",
   "execution_count": 5,
   "id": "0a9e44dd",
   "metadata": {},
   "outputs": [
    {
     "data": {
      "text/plain": [
       "90"
      ]
     },
     "execution_count": 5,
     "metadata": {},
     "output_type": "execute_result"
    }
   ],
   "source": [
    "max(k)"
   ]
  },
  {
   "cell_type": "code",
   "execution_count": 11,
   "id": "b8d1629e",
   "metadata": {},
   "outputs": [],
   "source": [
    "# function defination\n",
    "def firstfunction():\n",
    "    print(\"Hello F1\")"
   ]
  },
  {
   "cell_type": "code",
   "execution_count": 14,
   "id": "66f52c52",
   "metadata": {},
   "outputs": [
    {
     "name": "stdout",
     "output_type": "stream",
     "text": [
      "Hello F1\n"
     ]
    }
   ],
   "source": [
    "firstfunction()"
   ]
  },
  {
   "cell_type": "markdown",
   "id": "eda27640",
   "metadata": {},
   "source": [
    "User defined function"
   ]
  },
  {
   "cell_type": "code",
   "execution_count": 15,
   "id": "27613df5",
   "metadata": {},
   "outputs": [],
   "source": [
    "#function-defination\n",
    "def functionname():\n",
    "    print(\"I am in function\")\n"
   ]
  },
  {
   "cell_type": "code",
   "execution_count": 17,
   "id": "ac241981",
   "metadata": {},
   "outputs": [
    {
     "name": "stdout",
     "output_type": "stream",
     "text": [
      "I am in function\n"
     ]
    }
   ],
   "source": [
    "# calling function\n",
    "functionname()"
   ]
  },
  {
   "cell_type": "code",
   "execution_count": 18,
   "id": "333c8444",
   "metadata": {},
   "outputs": [],
   "source": [
    "def function1():\n",
    "    print(\"learning to write the functions\")"
   ]
  },
  {
   "cell_type": "code",
   "execution_count": 20,
   "id": "b000cd36",
   "metadata": {},
   "outputs": [
    {
     "name": "stdout",
     "output_type": "stream",
     "text": [
      "learning to write the functions\n"
     ]
    }
   ],
   "source": [
    "function1()"
   ]
  },
  {
   "cell_type": "code",
   "execution_count": 40,
   "id": "dd331007",
   "metadata": {},
   "outputs": [],
   "source": [
    "def function2():\n",
    "    print(\"inside function2\")"
   ]
  },
  {
   "cell_type": "code",
   "execution_count": 41,
   "id": "a3080f7f",
   "metadata": {},
   "outputs": [
    {
     "name": "stdout",
     "output_type": "stream",
     "text": [
      "inside function2\n"
     ]
    }
   ],
   "source": [
    "function2()"
   ]
  },
  {
   "cell_type": "code",
   "execution_count": 42,
   "id": "474fdb78",
   "metadata": {},
   "outputs": [],
   "source": [
    "def addfunction():\n",
    "    a=2\n",
    "    b=10\n",
    "    c=a+b\n",
    "    print(\"Adiition=\",c)"
   ]
  },
  {
   "cell_type": "code",
   "execution_count": 44,
   "id": "bd8e9edf",
   "metadata": {},
   "outputs": [
    {
     "name": "stdout",
     "output_type": "stream",
     "text": [
      "Adiition= 12\n"
     ]
    }
   ],
   "source": [
    "addfunction()"
   ]
  },
  {
   "cell_type": "code",
   "execution_count": 54,
   "id": "22ad5f0d",
   "metadata": {},
   "outputs": [],
   "source": [
    "def multiplyfunction():\n",
    "    a=33\n",
    "    b=22\n",
    "    c=a*b\n",
    "    print(\"multiplication=\",c)"
   ]
  },
  {
   "cell_type": "code",
   "execution_count": 57,
   "id": "50d7f9ae",
   "metadata": {},
   "outputs": [
    {
     "name": "stdout",
     "output_type": "stream",
     "text": [
      "multiplication= 726\n"
     ]
    }
   ],
   "source": [
    "multiplyfunction()"
   ]
  },
  {
   "cell_type": "code",
   "execution_count": 58,
   "id": "91ccc8b4",
   "metadata": {},
   "outputs": [],
   "source": [
    "def divide():\n",
    "    a=33\n",
    "    b=3\n",
    "    c=a/b\n",
    "    print(\"division=\",c)"
   ]
  },
  {
   "cell_type": "code",
   "execution_count": 59,
   "id": "7a561d99",
   "metadata": {},
   "outputs": [
    {
     "name": "stdout",
     "output_type": "stream",
     "text": [
      "division= 11.0\n"
     ]
    }
   ],
   "source": [
    "divide()"
   ]
  },
  {
   "cell_type": "code",
   "execution_count": 65,
   "id": "48c2e0b7",
   "metadata": {},
   "outputs": [],
   "source": [
    "def area_of_rectangle():\n",
    "    length=89\n",
    "    breadth=11\n",
    "    area=length*breadth\n",
    "    print(\"the area of rectangle=\",area)\n",
    "    \n",
    "    print(\"The area of rectangle with length=\",length,\" and breadth\",breadth,\" =\",area)"
   ]
  },
  {
   "cell_type": "code",
   "execution_count": 66,
   "id": "2306fe1f",
   "metadata": {},
   "outputs": [
    {
     "name": "stdout",
     "output_type": "stream",
     "text": [
      "the area of rectangle= 979\n",
      "The area of rectangle with length= 89  and breadth 11  = 979\n"
     ]
    }
   ],
   "source": [
    "area_of_rectangle()"
   ]
  },
  {
   "cell_type": "code",
   "execution_count": 72,
   "id": "9e4c4647",
   "metadata": {},
   "outputs": [],
   "source": [
    "def area_of_circle():\n",
    "    r=3\n",
    "    pi=3.14\n",
    "    area=2*pi*r**2\n",
    "    print(\"area of circle\",area)"
   ]
  },
  {
   "cell_type": "code",
   "execution_count": 73,
   "id": "3599083a",
   "metadata": {},
   "outputs": [
    {
     "name": "stdout",
     "output_type": "stream",
     "text": [
      "area of circle 56.52\n"
     ]
    }
   ],
   "source": [
    "area_of_circle()"
   ]
  },
  {
   "cell_type": "code",
   "execution_count": 87,
   "id": "a2130ded",
   "metadata": {},
   "outputs": [],
   "source": [
    "def areaofrect():\n",
    "    length=int (input(\"Enter   length\"))\n",
    "    breadth=int(input(\"Enter    breadth\"))\n",
    "    area=length*breadth\n",
    "    \n",
    "    print(\"Area= \",area)"
   ]
  },
  {
   "cell_type": "code",
   "execution_count": 88,
   "id": "e129ccce",
   "metadata": {},
   "outputs": [
    {
     "name": "stdout",
     "output_type": "stream",
     "text": [
      "Enter   length5\n",
      "Enter    breadth4\n",
      "Area=  20\n"
     ]
    }
   ],
   "source": [
    "areaofrect()"
   ]
  },
  {
   "cell_type": "code",
   "execution_count": 3,
   "id": "22836e87",
   "metadata": {},
   "outputs": [],
   "source": [
    "#areaofcircle -----> pi radius **2\n",
    "def areaofcircle():\n",
    "    pi=3.14\n",
    "    radius=int(input(\"Enter radius value\"))\n",
    "    area=pi*(radius**2)\n",
    "    print(\"Area =\",area)"
   ]
  },
  {
   "cell_type": "code",
   "execution_count": 4,
   "id": "13a6e444",
   "metadata": {},
   "outputs": [
    {
     "name": "stdout",
     "output_type": "stream",
     "text": [
      "Enter radius value2\n",
      "Area = 12.56\n"
     ]
    }
   ],
   "source": [
    "areaofcircle()"
   ]
  },
  {
   "cell_type": "code",
   "execution_count": 5,
   "id": "2bc4d33c",
   "metadata": {},
   "outputs": [],
   "source": [
    "# paramter"
   ]
  },
  {
   "cell_type": "code",
   "execution_count": null,
   "id": "0aa649d9",
   "metadata": {},
   "outputs": [],
   "source": []
  }
 ],
 "metadata": {
  "kernelspec": {
   "display_name": "Python 3 (ipykernel)",
   "language": "python",
   "name": "python3"
  },
  "language_info": {
   "codemirror_mode": {
    "name": "ipython",
    "version": 3
   },
   "file_extension": ".py",
   "mimetype": "text/x-python",
   "name": "python",
   "nbconvert_exporter": "python",
   "pygments_lexer": "ipython3",
   "version": "3.9.7"
  }
 },
 "nbformat": 4,
 "nbformat_minor": 5
}
