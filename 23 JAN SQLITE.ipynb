{
 "cells": [
  {
   "cell_type": "markdown",
   "id": "9eb92998",
   "metadata": {},
   "source": [
    "opening data base"
   ]
  },
  {
   "cell_type": "code",
   "execution_count": 1,
   "id": "588192bf",
   "metadata": {},
   "outputs": [],
   "source": [
    "import sqlite3"
   ]
  },
  {
   "cell_type": "code",
   "execution_count": 2,
   "id": "c4548461",
   "metadata": {},
   "outputs": [],
   "source": [
    "db=sqlite3.connect(\"studnet_database.db\")"
   ]
  },
  {
   "cell_type": "code",
   "execution_count": 3,
   "id": "d7ada1c0",
   "metadata": {},
   "outputs": [],
   "source": [
    "cur=db.cursor()"
   ]
  },
  {
   "cell_type": "code",
   "execution_count": 4,
   "id": "52d458c8",
   "metadata": {},
   "outputs": [
    {
     "name": "stdout",
     "output_type": "stream",
     "text": [
      "(1, 'John', 66)\n",
      "(2, 'andrew', 88)\n",
      "(3, 'teena', 99)\n",
      "(4, 'David', 69)\n",
      "(5, 'mona', 87)\n",
      "(6, 'meena', 88)\n",
      "(7, 'yusuf', 86)\n",
      "(8, 'yusu', 96)\n",
      "(9, 'kiara', 99)\n",
      "(10, 'Lion', 76)\n"
     ]
    }
   ],
   "source": [
    "results=cur.execute(\"Select *from student\")\n",
    "for row in results:\n",
    "    print(row)"
   ]
  },
  {
   "cell_type": "code",
   "execution_count": null,
   "id": "14890518",
   "metadata": {},
   "outputs": [],
   "source": []
  },
  {
   "cell_type": "code",
   "execution_count": null,
   "id": "45cdf7f5",
   "metadata": {},
   "outputs": [],
   "source": []
  },
  {
   "cell_type": "code",
   "execution_count": null,
   "id": "73421d36",
   "metadata": {},
   "outputs": [],
   "source": []
  }
 ],
 "metadata": {
  "kernelspec": {
   "display_name": "Python 3 (ipykernel)",
   "language": "python",
   "name": "python3"
  },
  "language_info": {
   "codemirror_mode": {
    "name": "ipython",
    "version": 3
   },
   "file_extension": ".py",
   "mimetype": "text/x-python",
   "name": "python",
   "nbconvert_exporter": "python",
   "pygments_lexer": "ipython3",
   "version": "3.9.7"
  }
 },
 "nbformat": 4,
 "nbformat_minor": 5
}
