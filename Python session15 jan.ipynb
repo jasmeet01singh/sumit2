{
 "cells": [
  {
   "cell_type": "code",
   "execution_count": 1,
   "id": "885cf768",
   "metadata": {},
   "outputs": [
    {
     "name": "stdout",
     "output_type": "stream",
     "text": [
      "ID= 101 Name is Andrew\n",
      "ID= 102 Name is John\n",
      "ID= 103 Name is Clinton\n",
      "ID= 104 Name is Monica\n"
     ]
    }
   ],
   "source": [
    "class Person:\n",
    "    #constructor /intialization      automatically called \n",
    "    def __init__(self,id,name):\n",
    "        self.id=id\n",
    "        self.name=name\n",
    "        \n",
    "    def display(self):\n",
    "        print(\"ID=\",self.id,\"Name is\",self.name)\n",
    "        \n",
    "# instance/object\n",
    "p1=Person(101,\"Andrew\")\n",
    "p1.display()\n",
    "\n",
    "p2=Person(102,\"John\")\n",
    "p2.display()\n",
    "\n",
    "p3=Person(103,\"Clinton\")\n",
    "p3.display()\n",
    "\n",
    "p4=Person(104,\"Monica\")\n",
    "p4.display()"
   ]
  },
  {
   "cell_type": "code",
   "execution_count": 2,
   "id": "2e87cccc",
   "metadata": {},
   "outputs": [],
   "source": [
    "class Student:\n",
    "\n",
    "    def __init__(self,name,age):\n",
    "        self.name=name\n",
    "        self.age=age\n"
   ]
  },
  {
   "cell_type": "code",
   "execution_count": 3,
   "id": "72eceab7",
   "metadata": {
    "scrolled": true
   },
   "outputs": [
    {
     "name": "stdout",
     "output_type": "stream",
     "text": [
      "Sam\n",
      "25\n"
     ]
    }
   ],
   "source": [
    "S1=Student(\"Sam\",25)\n",
    "\n",
    "print(S1.name)\n",
    "print(S1.age)"
   ]
  },
  {
   "cell_type": "code",
   "execution_count": 4,
   "id": "f6f2fc7e",
   "metadata": {},
   "outputs": [],
   "source": [
    "class ST:\n",
    "    def __init__(self,age,name):\n",
    "        self.age=age\n",
    "        self.name=name\n",
    "    \n"
   ]
  },
  {
   "cell_type": "code",
   "execution_count": 5,
   "id": "4e9fcd73",
   "metadata": {},
   "outputs": [
    {
     "name": "stdout",
     "output_type": "stream",
     "text": [
      "22\n",
      "Puran\n"
     ]
    }
   ],
   "source": [
    "s2=ST(22,\"Puran\")\n",
    "\n",
    "print(s2.age)\n",
    "print(s2.name)"
   ]
  },
  {
   "cell_type": "code",
   "execution_count": 6,
   "id": "2f87852b",
   "metadata": {},
   "outputs": [],
   "source": [
    "class car:\n",
    "    \n",
    "    def __init__(company,model,name):\n",
    "        company.model=model\n",
    "        company.name=name"
   ]
  },
  {
   "cell_type": "code",
   "execution_count": 7,
   "id": "58b80ec0",
   "metadata": {},
   "outputs": [
    {
     "name": "stdout",
     "output_type": "stream",
     "text": [
      "2022\n",
      "2022\n",
      "PUNCH\n"
     ]
    }
   ],
   "source": [
    "B1=car(2022,\"PUNCH\")\n",
    "\n",
    "print(B1.model)\n",
    "print(B1.model)\n",
    "print(B1.name)"
   ]
  },
  {
   "cell_type": "code",
   "execution_count": 8,
   "id": "3bad360d",
   "metadata": {},
   "outputs": [],
   "source": [
    "class motorbike:\n",
    "    \n",
    "    def __init__(company,name,model):\n",
    "        company.name=name\n",
    "        company.model=model"
   ]
  },
  {
   "cell_type": "code",
   "execution_count": 9,
   "id": "47403511",
   "metadata": {},
   "outputs": [
    {
     "name": "stdout",
     "output_type": "stream",
     "text": [
      "Honda\n",
      "2009\n"
     ]
    }
   ],
   "source": [
    "A1=motorbike(\"Honda\",2009)\n",
    "\n",
    "print(A1.name)\n",
    "print(A1.model)"
   ]
  },
  {
   "cell_type": "code",
   "execution_count": 10,
   "id": "a4842a5f",
   "metadata": {},
   "outputs": [],
   "source": [
    "class Employee:\n",
    "    def __init__(self,name,age,id,salary):\n",
    "        self.name=name  #self is an instance of a class\n",
    "        self.age=age\n",
    "        self.salary=salary\n",
    "        self.id=id\n",
    "        \n",
    "    def display(self):\n",
    "        print(\"Inside display Fucntion\")\n",
    "        print(self.name,self.age,self.id,self.salary)"
   ]
  },
  {
   "cell_type": "code",
   "execution_count": 11,
   "id": "9641e605",
   "metadata": {},
   "outputs": [
    {
     "name": "stdout",
     "output_type": "stream",
     "text": [
      "Inside display Fucntion\n",
      "John 26 2000 234\n",
      "Inside display Fucntion\n",
      "Andrew 31 3000 235\n"
     ]
    }
   ],
   "source": [
    "emp1=Employee(\"John\",26,2000,234)   #creating objects\n",
    "emp2=Employee(\"Andrew\",31,3000,235)\n",
    "emp1.display()\n",
    "emp2.display()"
   ]
  },
  {
   "cell_type": "code",
   "execution_count": 12,
   "id": "b25b7d09",
   "metadata": {},
   "outputs": [
    {
     "name": "stdout",
     "output_type": "stream",
     "text": [
      "Inside display Fucntion\n",
      "Clinton 31 3500 236\n"
     ]
    }
   ],
   "source": [
    "emp3=Employee(\"Clinton\",31,3500,236)\n",
    "emp3.display()"
   ]
  },
  {
   "cell_type": "code",
   "execution_count": 13,
   "id": "7970b95a",
   "metadata": {},
   "outputs": [],
   "source": [
    "class Employee:\n",
    "    def __init__(self,name,age,id,salary):\n",
    "        self.name=name\n",
    "        self.age=age\n",
    "        self.id=id\n",
    "        self.salary=salary\n",
    "        \n",
    "    def display(self):\n",
    "        print(\"Outside the display function\")\n",
    "        print(self.name,self.age,self.id,self.salary)"
   ]
  },
  {
   "cell_type": "code",
   "execution_count": 14,
   "id": "db96623e",
   "metadata": {},
   "outputs": [
    {
     "name": "stdout",
     "output_type": "stream",
     "text": [
      "Outside the display function\n",
      "John 23 23000 103\n",
      "Outside the display function\n",
      "Monica 24 25000 104\n"
     ]
    }
   ],
   "source": [
    "Emp1=Employee(\"John\",23,23000,103)\n",
    "Emp2=Employee(\"Monica\",24,25000,104)\n",
    "Emp1.display()\n",
    "Emp2.display()"
   ]
  },
  {
   "cell_type": "code",
   "execution_count": 15,
   "id": "3577f9d4",
   "metadata": {},
   "outputs": [
    {
     "name": "stdout",
     "output_type": "stream",
     "text": [
      "Outside the display function\n",
      "Priya 23 23000 233\n",
      "Outside the display function\n",
      "Sunny 24 25000 234\n"
     ]
    }
   ],
   "source": [
    "Emp3=Employee(\"Priya\",23,23000,233)\n",
    "Emp4=Employee(\"Sunny\",24,25000,234)\n",
    "Emp3.display()\n",
    "Emp4.display()"
   ]
  },
  {
   "cell_type": "markdown",
   "id": "acd81a2c",
   "metadata": {},
   "source": [
    "variables two types instance and class"
   ]
  },
  {
   "cell_type": "code",
   "execution_count": 16,
   "id": "c2893ca1",
   "metadata": {},
   "outputs": [],
   "source": [
    "class Company:\n",
    "\n",
    "    revenue=800000\n",
    "    \n",
    "    def __init__(self,name,location,number_of_employees):\n",
    "        self.name=name\n",
    "        self.location=location\n",
    "        self.number_of_employees=number_of_employees"
   ]
  },
  {
   "cell_type": "code",
   "execution_count": 17,
   "id": "cc2b6896",
   "metadata": {},
   "outputs": [
    {
     "name": "stdout",
     "output_type": "stream",
     "text": [
      "Geroge\n",
      "London\n",
      "400\n"
     ]
    },
    {
     "data": {
      "text/plain": [
       "800000"
      ]
     },
     "execution_count": 17,
     "metadata": {},
     "output_type": "execute_result"
    }
   ],
   "source": [
    "c=Company(\"Geroge\",\"London\",400)\n",
    "print(c.name)\n",
    "print(c.location)\n",
    "print(c.number_of_employees)\n",
    "\n",
    "\n",
    "Company.revenue\n"
   ]
  },
  {
   "cell_type": "code",
   "execution_count": 18,
   "id": "1d9baaba",
   "metadata": {},
   "outputs": [
    {
     "name": "stdout",
     "output_type": "stream",
     "text": [
      "c= 800000\n"
     ]
    }
   ],
   "source": [
    "print(\"c=\",c.revenue)"
   ]
  },
  {
   "cell_type": "code",
   "execution_count": 19,
   "id": "2e7f9b8a",
   "metadata": {},
   "outputs": [],
   "source": [
    "class car:\n",
    "    #a simple class for cars\n",
    "    \n",
    "    #Contructor to intilize\n",
    "    def __init__(self,company,color):\n",
    "        self.company= company\n",
    "        self.color = color\n",
    "        \n",
    "#fucntion to print car company and color\n",
    "    def display(self):\n",
    "        print(\"This is a\",self.company, self.color)\n"
   ]
  },
  {
   "cell_type": "code",
   "execution_count": 20,
   "id": "96b0af25",
   "metadata": {},
   "outputs": [],
   "source": [
    "def main():\n",
    "    c=car(\"Red\",\"Ferrari\")\n",
    "    c.display()"
   ]
  },
  {
   "cell_type": "code",
   "execution_count": 21,
   "id": "d7dbe4e2",
   "metadata": {},
   "outputs": [
    {
     "name": "stdout",
     "output_type": "stream",
     "text": [
      "This is a Red Ferrari\n"
     ]
    }
   ],
   "source": [
    "if __name__==\"__main__\":\n",
    "    main()"
   ]
  },
  {
   "cell_type": "code",
   "execution_count": 22,
   "id": "1d755898",
   "metadata": {},
   "outputs": [
    {
     "name": "stdout",
     "output_type": "stream",
     "text": [
      "This is a Maruti GREY\n"
     ]
    }
   ],
   "source": [
    "c= car(\"Maruti\",\"GREY\")\n",
    "c.display()\n"
   ]
  },
  {
   "cell_type": "code",
   "execution_count": 23,
   "id": "e689bf4e",
   "metadata": {},
   "outputs": [
    {
     "name": "stdout",
     "output_type": "stream",
     "text": [
      "This is a Black Tata\n"
     ]
    }
   ],
   "source": [
    "c = car(\"Black\", \"Tata\")\n",
    "c.display()"
   ]
  },
  {
   "cell_type": "code",
   "execution_count": 24,
   "id": "2ceea9cd",
   "metadata": {},
   "outputs": [],
   "source": [
    "def main():\n",
    "    c=car(\"jaguar\",\"Black\")\n",
    "    c.display()"
   ]
  },
  {
   "cell_type": "code",
   "execution_count": 25,
   "id": "5f21b734",
   "metadata": {},
   "outputs": [
    {
     "name": "stdout",
     "output_type": "stream",
     "text": [
      "This is a jaguar Black\n"
     ]
    }
   ],
   "source": [
    "if __name__==\"__main__\":\n",
    "    main()"
   ]
  },
  {
   "cell_type": "code",
   "execution_count": 26,
   "id": "61e6833b",
   "metadata": {},
   "outputs": [],
   "source": [
    "class Employee:\n",
    "    \n",
    "    def __init__(self,name,age):\n",
    "        print(\"Intilazed method called\")\n",
    "        self.name=name\n",
    "        self.age=age\n",
    "        \n",
    "    def getdata(self,name,age):\n",
    "        print(\"getdata method called\")\n",
    "        self.name=name\n",
    "        self.age=age\n",
    "        \n",
    "    def displaydata(self):\n",
    "        print(\"hello\",self.name,self.age)"
   ]
  },
  {
   "cell_type": "code",
   "execution_count": 27,
   "id": "10aff1c0",
   "metadata": {},
   "outputs": [],
   "source": [
    "def main():\n",
    "    e=Employee(\"William\",35) # here intialize will work\n",
    "    e.displaydata()\n",
    "    \n",
    "    e.getdata(\"john\",35)\n",
    "    e.displaydata()"
   ]
  },
  {
   "cell_type": "code",
   "execution_count": 28,
   "id": "b49658a7",
   "metadata": {},
   "outputs": [
    {
     "name": "stdout",
     "output_type": "stream",
     "text": [
      "Intilazed method called\n",
      "hello William 35\n",
      "getdata method called\n",
      "hello john 35\n"
     ]
    }
   ],
   "source": [
    "if __name__==\"__main__\":\n",
    "    main()"
   ]
  },
  {
   "cell_type": "code",
   "execution_count": null,
   "id": "7b44d8a4",
   "metadata": {},
   "outputs": [],
   "source": []
  },
  {
   "cell_type": "code",
   "execution_count": null,
   "id": "7e38f7c9",
   "metadata": {},
   "outputs": [],
   "source": []
  },
  {
   "cell_type": "code",
   "execution_count": null,
   "id": "d62c0926",
   "metadata": {},
   "outputs": [],
   "source": []
  },
  {
   "cell_type": "code",
   "execution_count": null,
   "id": "856c8c09",
   "metadata": {},
   "outputs": [],
   "source": []
  },
  {
   "cell_type": "code",
   "execution_count": null,
   "id": "645c1bbf",
   "metadata": {},
   "outputs": [],
   "source": []
  },
  {
   "cell_type": "code",
   "execution_count": null,
   "id": "45599c87",
   "metadata": {},
   "outputs": [],
   "source": []
  },
  {
   "cell_type": "code",
   "execution_count": null,
   "id": "19b1e00b",
   "metadata": {},
   "outputs": [],
   "source": []
  },
  {
   "cell_type": "code",
   "execution_count": null,
   "id": "d0a96a00",
   "metadata": {},
   "outputs": [],
   "source": []
  },
  {
   "cell_type": "code",
   "execution_count": null,
   "id": "7a5f1549",
   "metadata": {},
   "outputs": [],
   "source": []
  },
  {
   "cell_type": "code",
   "execution_count": null,
   "id": "314d73b1",
   "metadata": {},
   "outputs": [],
   "source": []
  },
  {
   "cell_type": "code",
   "execution_count": null,
   "id": "1e2dfb8d",
   "metadata": {},
   "outputs": [],
   "source": []
  },
  {
   "cell_type": "code",
   "execution_count": null,
   "id": "627a0634",
   "metadata": {},
   "outputs": [],
   "source": []
  }
 ],
 "metadata": {
  "kernelspec": {
   "display_name": "Python 3 (ipykernel)",
   "language": "python",
   "name": "python3"
  },
  "language_info": {
   "codemirror_mode": {
    "name": "ipython",
    "version": 3
   },
   "file_extension": ".py",
   "mimetype": "text/x-python",
   "name": "python",
   "nbconvert_exporter": "python",
   "pygments_lexer": "ipython3",
   "version": "3.9.7"
  }
 },
 "nbformat": 4,
 "nbformat_minor": 5
}
