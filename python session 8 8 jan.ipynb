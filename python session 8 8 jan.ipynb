{
 "cells": [
  {
   "cell_type": "code",
   "execution_count": 1,
   "id": "9c9db329",
   "metadata": {},
   "outputs": [],
   "source": [
    "test =lambda x:x*2;"
   ]
  },
  {
   "cell_type": "code",
   "execution_count": 2,
   "id": "b5af9443",
   "metadata": {},
   "outputs": [
    {
     "data": {
      "text/plain": [
       "10"
      ]
     },
     "execution_count": 2,
     "metadata": {},
     "output_type": "execute_result"
    }
   ],
   "source": [
    "test(5)"
   ]
  },
  {
   "cell_type": "code",
   "execution_count": 3,
   "id": "1387f908",
   "metadata": {},
   "outputs": [
    {
     "data": {
      "text/plain": [
       "16"
      ]
     },
     "execution_count": 3,
     "metadata": {},
     "output_type": "execute_result"
    }
   ],
   "source": [
    "test(8)"
   ]
  },
  {
   "cell_type": "code",
   "execution_count": 4,
   "id": "47d9805c",
   "metadata": {},
   "outputs": [
    {
     "data": {
      "text/plain": [
       "4"
      ]
     },
     "execution_count": 4,
     "metadata": {},
     "output_type": "execute_result"
    }
   ],
   "source": [
    "lambda x:x+2;\n",
    "test(2)"
   ]
  },
  {
   "cell_type": "code",
   "execution_count": 5,
   "id": "436c1eb5",
   "metadata": {},
   "outputs": [
    {
     "data": {
      "text/plain": [
       "7"
      ]
     },
     "execution_count": 5,
     "metadata": {},
     "output_type": "execute_result"
    }
   ],
   "source": [
    "test1add=lambda x,y :x+y;\n",
    "test1add(3,4)"
   ]
  },
  {
   "cell_type": "code",
   "execution_count": 6,
   "id": "a6d41640",
   "metadata": {},
   "outputs": [
    {
     "data": {
      "text/plain": [
       "6"
      ]
     },
     "execution_count": 6,
     "metadata": {},
     "output_type": "execute_result"
    }
   ],
   "source": [
    "m=lambda x,y,z: x+y+z\n",
    "m(1,2,3)"
   ]
  },
  {
   "cell_type": "code",
   "execution_count": 7,
   "id": "d9a8003f",
   "metadata": {},
   "outputs": [
    {
     "data": {
      "text/plain": [
       "4"
      ]
     },
     "execution_count": 7,
     "metadata": {},
     "output_type": "execute_result"
    }
   ],
   "source": [
    "#find square\n",
    "square = lambda x:x**2\n",
    "\n",
    "square(2)"
   ]
  },
  {
   "cell_type": "code",
   "execution_count": 8,
   "id": "3c3d04c4",
   "metadata": {},
   "outputs": [
    {
     "data": {
      "text/plain": [
       "27"
      ]
     },
     "execution_count": 8,
     "metadata": {},
     "output_type": "execute_result"
    }
   ],
   "source": [
    "cube = lambda x:x**3\n",
    "\n",
    "cube(3)"
   ]
  },
  {
   "cell_type": "code",
   "execution_count": 9,
   "id": "73ab48a7",
   "metadata": {},
   "outputs": [
    {
     "data": {
      "text/plain": [
       "8.0"
      ]
     },
     "execution_count": 9,
     "metadata": {},
     "output_type": "execute_result"
    }
   ],
   "source": [
    "#find squareroot\n",
    "\n",
    "sqroot=lambda x:x**(1/2)\n",
    "sqroot(64)"
   ]
  },
  {
   "cell_type": "code",
   "execution_count": 10,
   "id": "18eb4fef",
   "metadata": {},
   "outputs": [
    {
     "data": {
      "text/plain": [
       "5.0"
      ]
     },
     "execution_count": 10,
     "metadata": {},
     "output_type": "execute_result"
    }
   ],
   "source": [
    "sqroot(25)"
   ]
  },
  {
   "cell_type": "code",
   "execution_count": 11,
   "id": "5d772d41",
   "metadata": {},
   "outputs": [
    {
     "data": {
      "text/plain": [
       "27"
      ]
     },
     "execution_count": 11,
     "metadata": {},
     "output_type": "execute_result"
    }
   ],
   "source": [
    "# findcube\n",
    "cube=lambda x:x**3\n",
    "\n",
    "cube(3)"
   ]
  },
  {
   "cell_type": "code",
   "execution_count": 12,
   "id": "c7183101",
   "metadata": {},
   "outputs": [
    {
     "data": {
      "text/plain": [
       "3.0"
      ]
     },
     "execution_count": 12,
     "metadata": {},
     "output_type": "execute_result"
    }
   ],
   "source": [
    "# findcuberoot\n",
    "cbroot= lambda x:x**(1/3)\n",
    "cbroot(27)"
   ]
  },
  {
   "cell_type": "code",
   "execution_count": 13,
   "id": "a4127e9e",
   "metadata": {},
   "outputs": [
    {
     "name": "stdout",
     "output_type": "stream",
     "text": [
      "value of total : 15\n",
      "value of total : 50\n"
     ]
    }
   ],
   "source": [
    "addvar = lambda arg1 , arg2: arg1+arg2;\n",
    "\n",
    "# NOw you can call sum as a fucntion\n",
    "print(\"value of total :\", addvar(5,10))\n",
    "print(\"value of total :\", addvar(30,20))\n"
   ]
  },
  {
   "cell_type": "code",
   "execution_count": 14,
   "id": "2dbef3fb",
   "metadata": {},
   "outputs": [],
   "source": [
    "# converting the temperature in fahrenheit\n",
    "def fahrenheit(T):\n",
    "    return (((9/5))*T + 32)"
   ]
  },
  {
   "cell_type": "code",
   "execution_count": 15,
   "id": "dfe1717d",
   "metadata": {},
   "outputs": [
    {
     "data": {
      "text/plain": [
       "95.0"
      ]
     },
     "execution_count": 15,
     "metadata": {},
     "output_type": "execute_result"
    }
   ],
   "source": [
    "f=fahrenheit(35)\n",
    "f"
   ]
  },
  {
   "cell_type": "code",
   "execution_count": 16,
   "id": "396fb9d7",
   "metadata": {},
   "outputs": [],
   "source": [
    "#converting temperature in Celsius\n",
    "def  celsius(T):\n",
    "    return ((5)/9)*(T-32)"
   ]
  },
  {
   "cell_type": "code",
   "execution_count": 17,
   "id": "b7cf7275",
   "metadata": {},
   "outputs": [
    {
     "data": {
      "text/plain": [
       "35.0"
      ]
     },
     "execution_count": 17,
     "metadata": {},
     "output_type": "execute_result"
    }
   ],
   "source": [
    "ce=celsius(95)\n",
    "ce"
   ]
  },
  {
   "cell_type": "markdown",
   "id": "fb8ab608",
   "metadata": {},
   "source": [
    "LETS USE LAMBDA anonymous fucntion By using lambda, we wouldn't have to to define and nsame the fucntion by celsius() and fahrenheit()."
   ]
  },
  {
   "cell_type": "code",
   "execution_count": 18,
   "id": "7ff95afc",
   "metadata": {},
   "outputs": [
    {
     "data": {
      "text/plain": [
       "101.12"
      ]
     },
     "execution_count": 18,
     "metadata": {},
     "output_type": "execute_result"
    }
   ],
   "source": [
    "# LAMBDA WITH FAHRENHEIT\n",
    "\n",
    "F = lambda x: (9/5)*x + 32;\n",
    "F(38.4)"
   ]
  },
  {
   "cell_type": "code",
   "execution_count": 19,
   "id": "1e5b3eb3",
   "metadata": {},
   "outputs": [],
   "source": [
    "mylist = [1,2,3,4]\n",
    "#map(lambda x: x*2, mylist)"
   ]
  },
  {
   "cell_type": "code",
   "execution_count": 20,
   "id": "467a0b73",
   "metadata": {},
   "outputs": [
    {
     "data": {
      "text/plain": [
       "[2, 4, 6, 8]"
      ]
     },
     "execution_count": 20,
     "metadata": {},
     "output_type": "execute_result"
    }
   ],
   "source": [
    "list(map(lambda x: x*2,mylist))"
   ]
  },
  {
   "cell_type": "code",
   "execution_count": 21,
   "id": "2ad738a8",
   "metadata": {},
   "outputs": [],
   "source": [
    "c=[35.2,36.5]"
   ]
  },
  {
   "cell_type": "code",
   "execution_count": 22,
   "id": "35626373",
   "metadata": {},
   "outputs": [
    {
     "data": {
      "text/plain": [
       "[35.2, 36.5]"
      ]
     },
     "execution_count": 22,
     "metadata": {},
     "output_type": "execute_result"
    }
   ],
   "source": [
    "list(map(lambda x:x,c))"
   ]
  },
  {
   "cell_type": "code",
   "execution_count": 23,
   "id": "9c04c8cd",
   "metadata": {},
   "outputs": [
    {
     "data": {
      "text/plain": [
       "[6, 9, 12, 15]"
      ]
     },
     "execution_count": 23,
     "metadata": {},
     "output_type": "execute_result"
    }
   ],
   "source": [
    "LIST1 = [2,3,4,5]\n",
    "\n",
    "(lambda x:x*3, LIST1)\n",
    "\n",
    "list(map(lambda x:x*3,LIST1))"
   ]
  },
  {
   "cell_type": "code",
   "execution_count": 24,
   "id": "ec6d1c8b",
   "metadata": {},
   "outputs": [],
   "source": [
    "C = [35.2,36.5,37.3,38.0,39.8]"
   ]
  },
  {
   "cell_type": "code",
   "execution_count": 25,
   "id": "f0894490",
   "metadata": {},
   "outputs": [
    {
     "name": "stdout",
     "output_type": "stream",
     "text": [
      "[95.36000000000001, 97.7, 99.14, 100.4, 103.64]\n"
     ]
    }
   ],
   "source": [
    "F = list(map(lambda x: ((9)/5)*x +32, C))\n",
    "print(F)"
   ]
  },
  {
   "cell_type": "code",
   "execution_count": 26,
   "id": "0feb490f",
   "metadata": {},
   "outputs": [
    {
     "name": "stdout",
     "output_type": "stream",
     "text": [
      "[35.20000000000001, 36.5, 37.300000000000004, 38.00000000000001, 39.800000000000004]\n"
     ]
    }
   ],
   "source": [
    "C = list(map(lambda x: (5/9)*(x-32), F))\n",
    "print(C)"
   ]
  },
  {
   "cell_type": "code",
   "execution_count": 27,
   "id": "cdd77a47",
   "metadata": {},
   "outputs": [
    {
     "data": {
      "text/plain": [
       "[35.2, 36.5, 37.3, 38.0, 39.8]"
      ]
     },
     "execution_count": 27,
     "metadata": {},
     "output_type": "execute_result"
    }
   ],
   "source": [
    "newClist= [round(x,2) for x in C]\n",
    "\n",
    "newClist"
   ]
  },
  {
   "cell_type": "code",
   "execution_count": 28,
   "id": "ca068da9",
   "metadata": {},
   "outputs": [
    {
     "data": {
      "text/plain": [
       "['35.20', '36.50', '37.30', '38.00', '39.80']"
      ]
     },
     "execution_count": 28,
     "metadata": {},
     "output_type": "execute_result"
    }
   ],
   "source": [
    "newlist = [ '%.2f' % j for j in C]\n",
    "\n",
    "newlist"
   ]
  },
  {
   "cell_type": "markdown",
   "id": "66fdb74d",
   "metadata": {},
   "source": [
    "# Filter in lambda"
   ]
  },
  {
   "cell_type": "markdown",
   "id": "c7a003c5",
   "metadata": {},
   "source": [
    "filter () function\n",
    "it returns the items where function is true.\n",
    "If noen of the element meets condition, it will return nothing. In code below,\n",
    "we are checking the value is greater than 2.\n"
   ]
  },
  {
   "cell_type": "code",
   "execution_count": 29,
   "id": "d33fb45d",
   "metadata": {},
   "outputs": [
    {
     "data": {
      "text/plain": [
       "[3, 4, 5, 6, 7]"
      ]
     },
     "execution_count": 29,
     "metadata": {},
     "output_type": "execute_result"
    }
   ],
   "source": [
    "mylist = [1,2,3,4,5,6,7]\n",
    "\n",
    "list(filter(lambda x: x > 2, mylist))"
   ]
  },
  {
   "cell_type": "code",
   "execution_count": 30,
   "id": "665ce08d",
   "metadata": {},
   "outputs": [
    {
     "data": {
      "text/plain": [
       "[0, 2, 4, 6, 8, 10, 12]"
      ]
     },
     "execution_count": 30,
     "metadata": {},
     "output_type": "execute_result"
    }
   ],
   "source": [
    "even = lambda x:x%2 ==0\n",
    "list(filter(even, range(13)))"
   ]
  },
  {
   "cell_type": "code",
   "execution_count": 31,
   "id": "4cd1fcd0",
   "metadata": {},
   "outputs": [
    {
     "data": {
      "text/plain": [
       "[0, 2, 4, 6, 8, 10]"
      ]
     },
     "execution_count": 31,
     "metadata": {},
     "output_type": "execute_result"
    }
   ],
   "source": [
    "[x for x in range(11) if x%2 ==0]"
   ]
  },
  {
   "cell_type": "code",
   "execution_count": 32,
   "id": "423ed554",
   "metadata": {},
   "outputs": [
    {
     "data": {
      "text/plain": [
       "[0, 3, 6, 9, 12, 15]"
      ]
     },
     "execution_count": 32,
     "metadata": {},
     "output_type": "execute_result"
    }
   ],
   "source": [
    "[x for x in range(17) if x%3 ==0]"
   ]
  },
  {
   "cell_type": "code",
   "execution_count": null,
   "id": "0a6431c7",
   "metadata": {},
   "outputs": [],
   "source": []
  },
  {
   "cell_type": "code",
   "execution_count": null,
   "id": "f4215910",
   "metadata": {},
   "outputs": [],
   "source": []
  },
  {
   "cell_type": "code",
   "execution_count": null,
   "id": "de2cf9ab",
   "metadata": {},
   "outputs": [],
   "source": []
  },
  {
   "cell_type": "code",
   "execution_count": null,
   "id": "06b26d4b",
   "metadata": {},
   "outputs": [],
   "source": []
  },
  {
   "cell_type": "code",
   "execution_count": null,
   "id": "20743a32",
   "metadata": {},
   "outputs": [],
   "source": []
  },
  {
   "cell_type": "code",
   "execution_count": null,
   "id": "11bd55f9",
   "metadata": {},
   "outputs": [],
   "source": []
  },
  {
   "cell_type": "code",
   "execution_count": null,
   "id": "d7b1d813",
   "metadata": {},
   "outputs": [],
   "source": []
  },
  {
   "cell_type": "code",
   "execution_count": null,
   "id": "6b7f5f04",
   "metadata": {},
   "outputs": [],
   "source": []
  },
  {
   "cell_type": "code",
   "execution_count": null,
   "id": "6ee31aa0",
   "metadata": {},
   "outputs": [],
   "source": []
  },
  {
   "cell_type": "code",
   "execution_count": null,
   "id": "79e66149",
   "metadata": {},
   "outputs": [],
   "source": []
  },
  {
   "cell_type": "code",
   "execution_count": null,
   "id": "ed02f506",
   "metadata": {},
   "outputs": [],
   "source": []
  },
  {
   "cell_type": "code",
   "execution_count": null,
   "id": "88e0841e",
   "metadata": {},
   "outputs": [],
   "source": []
  },
  {
   "cell_type": "code",
   "execution_count": null,
   "id": "39c6706b",
   "metadata": {},
   "outputs": [],
   "source": []
  },
  {
   "cell_type": "code",
   "execution_count": null,
   "id": "2ebdf05c",
   "metadata": {},
   "outputs": [],
   "source": []
  },
  {
   "cell_type": "code",
   "execution_count": null,
   "id": "731e1e74",
   "metadata": {},
   "outputs": [],
   "source": []
  },
  {
   "cell_type": "code",
   "execution_count": null,
   "id": "7bf0d517",
   "metadata": {},
   "outputs": [],
   "source": []
  },
  {
   "cell_type": "code",
   "execution_count": null,
   "id": "dddc33d2",
   "metadata": {},
   "outputs": [],
   "source": []
  },
  {
   "cell_type": "code",
   "execution_count": null,
   "id": "3eeb1d49",
   "metadata": {},
   "outputs": [],
   "source": []
  },
  {
   "cell_type": "code",
   "execution_count": null,
   "id": "696f9ce2",
   "metadata": {},
   "outputs": [],
   "source": []
  },
  {
   "cell_type": "code",
   "execution_count": null,
   "id": "476f44a1",
   "metadata": {},
   "outputs": [],
   "source": []
  }
 ],
 "metadata": {
  "kernelspec": {
   "display_name": "Python 3 (ipykernel)",
   "language": "python",
   "name": "python3"
  },
  "language_info": {
   "codemirror_mode": {
    "name": "ipython",
    "version": 3
   },
   "file_extension": ".py",
   "mimetype": "text/x-python",
   "name": "python",
   "nbconvert_exporter": "python",
   "pygments_lexer": "ipython3",
   "version": "3.9.7"
  }
 },
 "nbformat": 4,
 "nbformat_minor": 5
}
