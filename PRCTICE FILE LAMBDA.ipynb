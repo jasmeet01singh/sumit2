{
 "cells": [
  {
   "cell_type": "code",
   "execution_count": 1,
   "id": "df4894c7",
   "metadata": {},
   "outputs": [
    {
     "data": {
      "text/plain": [
       "25"
      ]
     },
     "execution_count": 1,
     "metadata": {},
     "output_type": "execute_result"
    }
   ],
   "source": [
    "test= lambda x:x*5\n",
    "test(5)"
   ]
  },
  {
   "cell_type": "code",
   "execution_count": 2,
   "id": "8e928353",
   "metadata": {},
   "outputs": [
    {
     "data": {
      "text/plain": [
       "40"
      ]
     },
     "execution_count": 2,
     "metadata": {},
     "output_type": "execute_result"
    }
   ],
   "source": [
    "test= lambda x:x+7\n",
    "test(33)"
   ]
  },
  {
   "cell_type": "code",
   "execution_count": 3,
   "id": "cddfffd4",
   "metadata": {},
   "outputs": [
    {
     "data": {
      "text/plain": [
       "90"
      ]
     },
     "execution_count": 3,
     "metadata": {},
     "output_type": "execute_result"
    }
   ],
   "source": [
    "test1add= lambda x:x+2\n",
    "test1add(88)"
   ]
  },
  {
   "cell_type": "code",
   "execution_count": 4,
   "id": "86b927cb",
   "metadata": {},
   "outputs": [
    {
     "data": {
      "text/plain": [
       "66"
      ]
     },
     "execution_count": 4,
     "metadata": {},
     "output_type": "execute_result"
    }
   ],
   "source": [
    "test2add=lambda x,y:x+y\n",
    "test2add(22,44)"
   ]
  },
  {
   "cell_type": "code",
   "execution_count": 5,
   "id": "ea05c69d",
   "metadata": {},
   "outputs": [
    {
     "data": {
      "text/plain": [
       "99"
      ]
     },
     "execution_count": 5,
     "metadata": {},
     "output_type": "execute_result"
    }
   ],
   "source": [
    "test3add=lambda x,y,z:x+y+z\n",
    "test3add(22,33,44)"
   ]
  },
  {
   "cell_type": "code",
   "execution_count": 6,
   "id": "13da7576",
   "metadata": {},
   "outputs": [
    {
     "data": {
      "text/plain": [
       "13"
      ]
     },
     "execution_count": 6,
     "metadata": {},
     "output_type": "execute_result"
    }
   ],
   "source": [
    "m= lambda a,b,c,d:a+b+c+d\n",
    "m(1,3,4,5)"
   ]
  },
  {
   "cell_type": "code",
   "execution_count": 7,
   "id": "8fd1af33",
   "metadata": {},
   "outputs": [
    {
     "data": {
      "text/plain": [
       "16"
      ]
     },
     "execution_count": 7,
     "metadata": {},
     "output_type": "execute_result"
    }
   ],
   "source": [
    "square = lambda x:x**2\n",
    "    \n",
    "square(4)"
   ]
  },
  {
   "cell_type": "code",
   "execution_count": 8,
   "id": "e56c8434",
   "metadata": {},
   "outputs": [
    {
     "data": {
      "text/plain": [
       "9.0"
      ]
     },
     "execution_count": 8,
     "metadata": {},
     "output_type": "execute_result"
    }
   ],
   "source": [
    "sqroot= lambda x:x**(1/2)\n",
    "sqroot(81)"
   ]
  },
  {
   "cell_type": "code",
   "execution_count": 9,
   "id": "82d3217c",
   "metadata": {},
   "outputs": [
    {
     "data": {
      "text/plain": [
       "11.0"
      ]
     },
     "execution_count": 9,
     "metadata": {},
     "output_type": "execute_result"
    }
   ],
   "source": [
    "sqroot(121)"
   ]
  },
  {
   "cell_type": "code",
   "execution_count": 10,
   "id": "ab078558",
   "metadata": {},
   "outputs": [
    {
     "data": {
      "text/plain": [
       "8"
      ]
     },
     "execution_count": 10,
     "metadata": {},
     "output_type": "execute_result"
    }
   ],
   "source": [
    "cube= lambda x:x**3\n",
    "cube(2)"
   ]
  },
  {
   "cell_type": "code",
   "execution_count": 11,
   "id": "bd49951a",
   "metadata": {},
   "outputs": [
    {
     "data": {
      "text/plain": [
       "64"
      ]
     },
     "execution_count": 11,
     "metadata": {},
     "output_type": "execute_result"
    }
   ],
   "source": [
    "cube(4)"
   ]
  },
  {
   "cell_type": "code",
   "execution_count": 12,
   "id": "64dc9800",
   "metadata": {},
   "outputs": [
    {
     "data": {
      "text/plain": [
       "512"
      ]
     },
     "execution_count": 12,
     "metadata": {},
     "output_type": "execute_result"
    }
   ],
   "source": [
    "cube(8)"
   ]
  },
  {
   "cell_type": "code",
   "execution_count": 13,
   "id": "3b21d40c",
   "metadata": {},
   "outputs": [
    {
     "data": {
      "text/plain": [
       "16"
      ]
     },
     "execution_count": 13,
     "metadata": {},
     "output_type": "execute_result"
    }
   ],
   "source": [
    "x= lambda x:x**4\n",
    "x(2)"
   ]
  },
  {
   "cell_type": "code",
   "execution_count": 14,
   "id": "4ee7b17c",
   "metadata": {},
   "outputs": [
    {
     "data": {
      "text/plain": [
       "81"
      ]
     },
     "execution_count": 14,
     "metadata": {},
     "output_type": "execute_result"
    }
   ],
   "source": [
    "x(3)"
   ]
  },
  {
   "cell_type": "code",
   "execution_count": 15,
   "id": "e4ca1309",
   "metadata": {},
   "outputs": [
    {
     "data": {
      "text/plain": [
       "32"
      ]
     },
     "execution_count": 15,
     "metadata": {},
     "output_type": "execute_result"
    }
   ],
   "source": [
    "m= lambda x:x**5\n",
    "m(2)"
   ]
  },
  {
   "cell_type": "code",
   "execution_count": 16,
   "id": "1c8adc91",
   "metadata": {},
   "outputs": [
    {
     "data": {
      "text/plain": [
       "3.0"
      ]
     },
     "execution_count": 16,
     "metadata": {},
     "output_type": "execute_result"
    }
   ],
   "source": [
    "cuberoot= lambda x:x**(1/3)\n",
    "cuberoot(27)"
   ]
  },
  {
   "cell_type": "code",
   "execution_count": null,
   "id": "3265ffd3",
   "metadata": {},
   "outputs": [],
   "source": []
  },
  {
   "cell_type": "code",
   "execution_count": 17,
   "id": "74a58942",
   "metadata": {},
   "outputs": [
    {
     "name": "stdout",
     "output_type": "stream",
     "text": [
      "value of total : 15\n",
      "value of total : 70\n"
     ]
    }
   ],
   "source": [
    "\n",
    "addvar = lambda arg1,arg2: arg1+arg2;\n",
    "\n",
    "\n",
    "print(\"value of total :\",addvar (5,10))\n",
    "print(\"value of total :\",addvar(66,4))"
   ]
  },
  {
   "cell_type": "code",
   "execution_count": 18,
   "id": "fb1f2ccb",
   "metadata": {},
   "outputs": [],
   "source": [
    "def fahrnheit(T):\n",
    "    return(((9/5)*T +32))"
   ]
  },
  {
   "cell_type": "code",
   "execution_count": 19,
   "id": "c20d4377",
   "metadata": {},
   "outputs": [
    {
     "data": {
      "text/plain": [
       "95.0"
      ]
     },
     "execution_count": 19,
     "metadata": {},
     "output_type": "execute_result"
    }
   ],
   "source": [
    "f=fahrnheit(35)\n",
    "f"
   ]
  },
  {
   "cell_type": "code",
   "execution_count": 20,
   "id": "b7259733",
   "metadata": {},
   "outputs": [],
   "source": [
    "def celsius(T):\n",
    "    return ((5/9)*(T-32))"
   ]
  },
  {
   "cell_type": "code",
   "execution_count": 21,
   "id": "62e94ad7",
   "metadata": {},
   "outputs": [
    {
     "data": {
      "text/plain": [
       "35.0"
      ]
     },
     "execution_count": 21,
     "metadata": {},
     "output_type": "execute_result"
    }
   ],
   "source": [
    "ce = celsius(95)\n",
    "ce"
   ]
  },
  {
   "cell_type": "code",
   "execution_count": 22,
   "id": "375ffb31",
   "metadata": {},
   "outputs": [
    {
     "data": {
      "text/plain": [
       "101.12"
      ]
     },
     "execution_count": 22,
     "metadata": {},
     "output_type": "execute_result"
    }
   ],
   "source": [
    "f= lambda x:(float(9)/5)*x + 32;\n",
    "f(38.4)"
   ]
  },
  {
   "cell_type": "code",
   "execution_count": 23,
   "id": "943ec1ed",
   "metadata": {},
   "outputs": [
    {
     "data": {
      "text/plain": [
       "95.0"
      ]
     },
     "execution_count": 23,
     "metadata": {},
     "output_type": "execute_result"
    }
   ],
   "source": [
    "f= lambda x: (9/5)*x +32\n",
    "f(35)"
   ]
  },
  {
   "cell_type": "markdown",
   "id": "3c6edae8",
   "metadata": {},
   "source": [
    "Map in lambda"
   ]
  },
  {
   "cell_type": "code",
   "execution_count": 24,
   "id": "e1308ab2",
   "metadata": {},
   "outputs": [
    {
     "data": {
      "text/plain": [
       "[2, 4, 6, 8, 10, 12, 12]"
      ]
     },
     "execution_count": 24,
     "metadata": {},
     "output_type": "execute_result"
    }
   ],
   "source": [
    "mylist=[1,2,3,4,5,6,6]\n",
    "list(map(lambda x: x*2,mylist))"
   ]
  },
  {
   "cell_type": "code",
   "execution_count": 25,
   "id": "8a4c48e0",
   "metadata": {},
   "outputs": [],
   "source": [
    "l1 = [22,33,44,55]\n"
   ]
  },
  {
   "cell_type": "markdown",
   "id": "67d6a935",
   "metadata": {},
   "source": [
    "# "
   ]
  },
  {
   "cell_type": "code",
   "execution_count": 26,
   "id": "100e2fe5",
   "metadata": {},
   "outputs": [
    {
     "data": {
      "text/plain": [
       "[22, 33, 44, 55]"
      ]
     },
     "execution_count": 26,
     "metadata": {},
     "output_type": "execute_result"
    }
   ],
   "source": [
    "l1"
   ]
  },
  {
   "cell_type": "code",
   "execution_count": 27,
   "id": "0337774b",
   "metadata": {},
   "outputs": [
    {
     "data": {
      "text/plain": [
       "[66, 99, 132, 165]"
      ]
     },
     "execution_count": 27,
     "metadata": {},
     "output_type": "execute_result"
    }
   ],
   "source": [
    "list(map(lambda x : x*3, l1))"
   ]
  },
  {
   "cell_type": "code",
   "execution_count": 38,
   "id": "f16573c0",
   "metadata": {},
   "outputs": [],
   "source": [
    "c=[35.5,36.5,37.3,38,39.8]"
   ]
  },
  {
   "cell_type": "code",
   "execution_count": 39,
   "id": "7fe693e2",
   "metadata": {},
   "outputs": [
    {
     "name": "stdout",
     "output_type": "stream",
     "text": [
      "[95.9, 97.7, 99.14, 100.4, 103.64]\n"
     ]
    }
   ],
   "source": [
    "F= list(map(lambda x: ((9)/5)*x +32,c))\n",
    "print(F)"
   ]
  },
  {
   "cell_type": "code",
   "execution_count": 40,
   "id": "23677f46",
   "metadata": {},
   "outputs": [
    {
     "name": "stdout",
     "output_type": "stream",
     "text": [
      "[35.50000000000001, 36.5, 37.300000000000004, 38.00000000000001, 39.800000000000004]\n"
     ]
    }
   ],
   "source": [
    "c= list(map(lambda x: ((5)/9)*(x-32),F))\n",
    "print(c)"
   ]
  },
  {
   "cell_type": "code",
   "execution_count": 48,
   "id": "323df11c",
   "metadata": {},
   "outputs": [
    {
     "data": {
      "text/plain": [
       "[35.5, 36.5, 37.3, 38.0, 39.8]"
      ]
     },
     "execution_count": 48,
     "metadata": {},
     "output_type": "execute_result"
    }
   ],
   "source": [
    "newclist= [round(x,2) for x in c]\n",
    "newclist"
   ]
  },
  {
   "cell_type": "code",
   "execution_count": 54,
   "id": "5044685c",
   "metadata": {},
   "outputs": [
    {
     "data": {
      "text/plain": [
       "['35.500', '36.500', '37.300', '38.000', '39.800']"
      ]
     },
     "execution_count": 54,
     "metadata": {},
     "output_type": "execute_result"
    }
   ],
   "source": [
    "newlist = ['%.3f' % j for j in c]\n",
    "newlist"
   ]
  },
  {
   "cell_type": "code",
   "execution_count": null,
   "id": "50c33b08",
   "metadata": {},
   "outputs": [],
   "source": []
  },
  {
   "cell_type": "code",
   "execution_count": 57,
   "id": "967da1a8",
   "metadata": {},
   "outputs": [
    {
     "data": {
      "text/plain": [
       "[12, 5, 5, 6]"
      ]
     },
     "execution_count": 57,
     "metadata": {},
     "output_type": "execute_result"
    }
   ],
   "source": [
    "mylist=[12,3,4,5,5,6,1,2]\n",
    "list(filter(lambda x:x>4, mylist))"
   ]
  },
  {
   "cell_type": "code",
   "execution_count": 2,
   "id": "dc263078",
   "metadata": {},
   "outputs": [
    {
     "data": {
      "text/plain": [
       "[0, 2, 4, 6, 8, 10, 12]"
      ]
     },
     "execution_count": 2,
     "metadata": {},
     "output_type": "execute_result"
    }
   ],
   "source": [
    "even = lambda x :x%2 == 0\n",
    "list(filter(even,range(13)))"
   ]
  },
  {
   "cell_type": "code",
   "execution_count": 4,
   "id": "3bc8cbfa",
   "metadata": {},
   "outputs": [
    {
     "data": {
      "text/plain": [
       "[0, 2, 4, 6, 8, 10]"
      ]
     },
     "execution_count": 4,
     "metadata": {},
     "output_type": "execute_result"
    }
   ],
   "source": [
    "[x for x in range(11) if x%2 == 0]"
   ]
  },
  {
   "cell_type": "markdown",
   "id": "92e4838f",
   "metadata": {},
   "source": [
    "EXception Handling"
   ]
  },
  {
   "cell_type": "markdown",
   "id": "35c14ccb",
   "metadata": {},
   "source": [
    "syntax error "
   ]
  },
  {
   "cell_type": "code",
   "execution_count": 5,
   "id": "abb10cb1",
   "metadata": {},
   "outputs": [
    {
     "ename": "SyntaxError",
     "evalue": "invalid syntax (Temp/ipykernel_17640/3247333095.py, line 2)",
     "output_type": "error",
     "traceback": [
      "\u001b[1;36m  File \u001b[1;32m\"C:\\Users\\JASMEE~1\\AppData\\Local\\Temp/ipykernel_17640/3247333095.py\"\u001b[1;36m, line \u001b[1;32m2\u001b[0m\n\u001b[1;33m    while (p<10)\u001b[0m\n\u001b[1;37m                ^\u001b[0m\n\u001b[1;31mSyntaxError\u001b[0m\u001b[1;31m:\u001b[0m invalid syntax\n"
     ]
    }
   ],
   "source": [
    "p= 1\n",
    "while (p<10)\n",
    "print(p)"
   ]
  },
  {
   "cell_type": "code",
   "execution_count": 6,
   "id": "97bc66e1",
   "metadata": {},
   "outputs": [
    {
     "ename": "ZeroDivisionError",
     "evalue": "division by zero",
     "output_type": "error",
     "traceback": [
      "\u001b[1;31m---------------------------------------------------------------------------\u001b[0m",
      "\u001b[1;31mZeroDivisionError\u001b[0m                         Traceback (most recent call last)",
      "\u001b[1;32mC:\\Users\\JASMEE~1\\AppData\\Local\\Temp/ipykernel_17640/4191818490.py\u001b[0m in \u001b[0;36m<module>\u001b[1;34m\u001b[0m\n\u001b[1;32m----> 1\u001b[1;33m \u001b[1;36m11\u001b[0m\u001b[1;33m/\u001b[0m\u001b[1;36m0\u001b[0m\u001b[1;33m\u001b[0m\u001b[1;33m\u001b[0m\u001b[0m\n\u001b[0m",
      "\u001b[1;31mZeroDivisionError\u001b[0m: division by zero"
     ]
    }
   ],
   "source": [
    "11/0"
   ]
  },
  {
   "cell_type": "code",
   "execution_count": 7,
   "id": "2b24ef5e",
   "metadata": {},
   "outputs": [
    {
     "ename": "TypeError",
     "evalue": "can only concatenate str (not \"int\") to str",
     "output_type": "error",
     "traceback": [
      "\u001b[1;31m---------------------------------------------------------------------------\u001b[0m",
      "\u001b[1;31mTypeError\u001b[0m                                 Traceback (most recent call last)",
      "\u001b[1;32mC:\\Users\\JASMEE~1\\AppData\\Local\\Temp/ipykernel_17640/1074455573.py\u001b[0m in \u001b[0;36m<module>\u001b[1;34m\u001b[0m\n\u001b[1;32m----> 1\u001b[1;33m \u001b[1;34m'5'\u001b[0m\u001b[1;33m+\u001b[0m\u001b[1;36m7\u001b[0m\u001b[1;33m\u001b[0m\u001b[1;33m\u001b[0m\u001b[0m\n\u001b[0m",
      "\u001b[1;31mTypeError\u001b[0m: can only concatenate str (not \"int\") to str"
     ]
    }
   ],
   "source": [
    "'5'+7"
   ]
  },
  {
   "cell_type": "code",
   "execution_count": 8,
   "id": "d34604bb",
   "metadata": {},
   "outputs": [
    {
     "ename": "ZeroDivisionError",
     "evalue": "division by zero",
     "output_type": "error",
     "traceback": [
      "\u001b[1;31m---------------------------------------------------------------------------\u001b[0m",
      "\u001b[1;31mZeroDivisionError\u001b[0m                         Traceback (most recent call last)",
      "\u001b[1;32mC:\\Users\\JASMEE~1\\AppData\\Local\\Temp/ipykernel_17640/530406163.py\u001b[0m in \u001b[0;36m<module>\u001b[1;34m\u001b[0m\n\u001b[1;32m----> 1\u001b[1;33m \u001b[1;36m10\u001b[0m\u001b[1;33m/\u001b[0m\u001b[1;36m0\u001b[0m\u001b[1;33m\u001b[0m\u001b[1;33m\u001b[0m\u001b[0m\n\u001b[0m",
      "\u001b[1;31mZeroDivisionError\u001b[0m: division by zero"
     ]
    }
   ],
   "source": [
    "10/0"
   ]
  },
  {
   "cell_type": "code",
   "execution_count": 9,
   "id": "98c19431",
   "metadata": {},
   "outputs": [
    {
     "ename": "NameError",
     "evalue": "name 'number' is not defined",
     "output_type": "error",
     "traceback": [
      "\u001b[1;31m---------------------------------------------------------------------------\u001b[0m",
      "\u001b[1;31mNameError\u001b[0m                                 Traceback (most recent call last)",
      "\u001b[1;32mC:\\Users\\JASMEE~1\\AppData\\Local\\Temp/ipykernel_17640/1799749339.py\u001b[0m in \u001b[0;36m<module>\u001b[1;34m\u001b[0m\n\u001b[1;32m----> 1\u001b[1;33m \u001b[1;36m8\u001b[0m\u001b[1;33m+\u001b[0m\u001b[0mnumber\u001b[0m\u001b[1;33m*\u001b[0m\u001b[1;36m2\u001b[0m\u001b[1;33m\u001b[0m\u001b[1;33m\u001b[0m\u001b[0m\n\u001b[0m",
      "\u001b[1;31mNameError\u001b[0m: name 'number' is not defined"
     ]
    }
   ],
   "source": [
    "8+number*2"
   ]
  },
  {
   "cell_type": "code",
   "execution_count": 11,
   "id": "f6876a2a",
   "metadata": {},
   "outputs": [
    {
     "ename": "TypeError",
     "evalue": "can only concatenate str (not \"int\") to str",
     "output_type": "error",
     "traceback": [
      "\u001b[1;31m---------------------------------------------------------------------------\u001b[0m",
      "\u001b[1;31mTypeError\u001b[0m                                 Traceback (most recent call last)",
      "\u001b[1;32mC:\\Users\\JASMEE~1\\AppData\\Local\\Temp/ipykernel_17640/3639722995.py\u001b[0m in \u001b[0;36m<module>\u001b[1;34m\u001b[0m\n\u001b[1;32m----> 1\u001b[1;33m \u001b[1;34m'9'\u001b[0m\u001b[1;33m+\u001b[0m\u001b[1;36m9\u001b[0m\u001b[1;33m\u001b[0m\u001b[1;33m\u001b[0m\u001b[0m\n\u001b[0m",
      "\u001b[1;31mTypeError\u001b[0m: can only concatenate str (not \"int\") to str"
     ]
    }
   ],
   "source": [
    "'9'+9"
   ]
  },
  {
   "cell_type": "markdown",
   "id": "e3cad297",
   "metadata": {},
   "source": [
    "# Handling exceptions"
   ]
  },
  {
   "cell_type": "code",
   "execution_count": 19,
   "id": "6edba840",
   "metadata": {},
   "outputs": [
    {
     "name": "stdout",
     "output_type": "stream",
     "text": [
      "Handling run time error : division by zero\n"
     ]
    }
   ],
   "source": [
    "try:\n",
    "      9/0\n",
    "except ZeroDivisionError as err:\n",
    "    print(\"Handling run time error :\",err)"
   ]
  },
  {
   "cell_type": "code",
   "execution_count": 21,
   "id": "586e316c",
   "metadata": {},
   "outputs": [
    {
     "name": "stdout",
     "output_type": "stream",
     "text": [
      "handling run time error: name 'm' is not defined\n"
     ]
    }
   ],
   "source": [
    "try:\n",
    "    8+m*2\n",
    "except NameError as err:\n",
    "    print('handling run time error:', err)"
   ]
  },
  {
   "cell_type": "code",
   "execution_count": 39,
   "id": "de03b60b",
   "metadata": {},
   "outputs": [],
   "source": [
    "def divide(x,y):\n",
    "    try:\n",
    "        result=x/y\n",
    "    except ZeroDivisionError:\n",
    "        print(\"division by zero\")\n",
    "    else:\n",
    "        print(\"result is \", result)\n",
    "    finally:\n",
    "        print(\"executing finally clause\")"
   ]
  },
  {
   "cell_type": "code",
   "execution_count": 40,
   "id": "e5b53b6e",
   "metadata": {},
   "outputs": [
    {
     "name": "stdout",
     "output_type": "stream",
     "text": [
      "result is  5.0\n",
      "executing finally clause\n"
     ]
    }
   ],
   "source": [
    "divide(25,5)"
   ]
  },
  {
   "cell_type": "code",
   "execution_count": 41,
   "id": "f5735d42",
   "metadata": {},
   "outputs": [
    {
     "name": "stdout",
     "output_type": "stream",
     "text": [
      "result is  5.0\n",
      "executing finally clause\n"
     ]
    }
   ],
   "source": [
    "divide(60,12)"
   ]
  },
  {
   "cell_type": "code",
   "execution_count": 42,
   "id": "ee5ba533",
   "metadata": {},
   "outputs": [
    {
     "name": "stdout",
     "output_type": "stream",
     "text": [
      "division by zero\n",
      "executing finally clause\n"
     ]
    }
   ],
   "source": [
    "divide(30,0)"
   ]
  },
  {
   "cell_type": "code",
   "execution_count": null,
   "id": "c1508cdf",
   "metadata": {},
   "outputs": [],
   "source": []
  },
  {
   "cell_type": "code",
   "execution_count": null,
   "id": "ed9a41b9",
   "metadata": {},
   "outputs": [],
   "source": []
  }
 ],
 "metadata": {
  "kernelspec": {
   "display_name": "Python 3 (ipykernel)",
   "language": "python",
   "name": "python3"
  },
  "language_info": {
   "codemirror_mode": {
    "name": "ipython",
    "version": 3
   },
   "file_extension": ".py",
   "mimetype": "text/x-python",
   "name": "python",
   "nbconvert_exporter": "python",
   "pygments_lexer": "ipython3",
   "version": "3.9.7"
  }
 },
 "nbformat": 4,
 "nbformat_minor": 5
}
