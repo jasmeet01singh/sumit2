{
 "cells": [
  {
   "cell_type": "code",
   "execution_count": 82,
   "id": "d8cfbb55",
   "metadata": {},
   "outputs": [],
   "source": [
    "m = False\n",
    "n = True\n",
    "o = False"
   ]
  },
  {
   "cell_type": "code",
   "execution_count": 83,
   "id": "3f0b3671",
   "metadata": {},
   "outputs": [
    {
     "name": "stdout",
     "output_type": "stream",
     "text": [
      "False\n"
     ]
    }
   ],
   "source": [
    "print(m and n and o)\n",
    "\n"
   ]
  },
  {
   "cell_type": "code",
   "execution_count": 85,
   "id": "724ca2db",
   "metadata": {},
   "outputs": [
    {
     "name": "stdout",
     "output_type": "stream",
     "text": [
      "6\n",
      "7\n",
      "8\n"
     ]
    }
   ],
   "source": [
    "for m in range(6,9):\n",
    "    print(m,)"
   ]
  },
  {
   "cell_type": "code",
   "execution_count": 86,
   "id": "79c2bbc3",
   "metadata": {},
   "outputs": [
    {
     "name": "stdout",
     "output_type": "stream",
     "text": [
      "6\n"
     ]
    }
   ],
   "source": [
    "m = 90\n",
    "n = 7\n",
    "print(m % n)"
   ]
  },
  {
   "cell_type": "code",
   "execution_count": 87,
   "id": "17fc9966",
   "metadata": {},
   "outputs": [
    {
     "name": "stdout",
     "output_type": "stream",
     "text": [
      "me\n"
     ]
    }
   ],
   "source": [
    "m = 'Play Games'\n",
    "n = m[7:9]\n",
    "print(n)"
   ]
  },
  {
   "cell_type": "code",
   "execution_count": 89,
   "id": "d34d95aa",
   "metadata": {},
   "outputs": [
    {
     "name": "stdout",
     "output_type": "stream",
     "text": [
      "45 75 55 85 "
     ]
    }
   ],
   "source": [
    "m = {45 : 75, 55 : 85}\n",
    "for n, o in m.items():\n",
    "    print(n, o, end=' ')\n",
    "\n"
   ]
  },
  {
   "cell_type": "code",
   "execution_count": 3,
   "id": "870d97dd",
   "metadata": {},
   "outputs": [
    {
     "name": "stdout",
     "output_type": "stream",
     "text": [
      "Enter the principal amoout:11000\n",
      "Enter the number of years:2\n",
      "Enter the rate of interest:11\n",
      "Simple Interest:2420.0\n"
     ]
    }
   ],
   "source": [
    "P = int (input (\"Enter the principal amoout:\"))\n",
    "N = int (input (\"Enter the number of years:\"))\n",
    "R =int (input (\"Enter the rate of interest:\"))\n",
    "\n",
    "\n",
    "\n",
    "\n",
    "SI=(P*N*R)/100\n",
    "print(\"Simple Interest:{}\".format(SI))"
   ]
  },
  {
   "cell_type": "code",
   "execution_count": 16,
   "id": "076faa11",
   "metadata": {},
   "outputs": [],
   "source": [
    "def display():\n",
    "    count = 0\n",
    "    file = open (\"‪r\",\"india.TXT\",)\n",
    "    for LINE in file:\n",
    "        Words =LINE.split()\n",
    "        for W in Words:\n",
    "            if W == \"India\":\n",
    "                count = count + 1\n",
    "    print (count) \n",
    "    file.close()"
   ]
  },
  {
   "cell_type": "code",
   "execution_count": 21,
   "id": "265f9777",
   "metadata": {},
   "outputs": [],
   "source": [
    "def display1():\n",
    "    count = 0\n",
    "    file = open (\"‪r\",\"india.TXT\")\n",
    "    for LINE in file:\n",
    "        Words = LINE.split()\n",
    "        for W in Words:\n",
    "            if W == \"great\":\n",
    "                count = count + 1\n",
    "    print (count) \n",
    "    file.close()"
   ]
  },
  {
   "cell_type": "code",
   "execution_count": 24,
   "id": "1a81c982",
   "metadata": {},
   "outputs": [
    {
     "name": "stdout",
     "output_type": "stream",
     "text": [
      "-2 -32 -12 "
     ]
    }
   ],
   "source": [
    "lista= [12,-2,4,-32,-12]\n",
    "for num in lista:\n",
    "    if num < 0:\n",
    "        print(num,end= ' ')"
   ]
  },
  {
   "cell_type": "code",
   "execution_count": null,
   "id": "71198b60",
   "metadata": {},
   "outputs": [],
   "source": []
  }
 ],
 "metadata": {
  "kernelspec": {
   "display_name": "Python 3 (ipykernel)",
   "language": "python",
   "name": "python3"
  },
  "language_info": {
   "codemirror_mode": {
    "name": "ipython",
    "version": 3
   },
   "file_extension": ".py",
   "mimetype": "text/x-python",
   "name": "python",
   "nbconvert_exporter": "python",
   "pygments_lexer": "ipython3",
   "version": "3.9.7"
  }
 },
 "nbformat": 4,
 "nbformat_minor": 5
}
