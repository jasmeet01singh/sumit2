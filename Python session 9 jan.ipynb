{
 "cells": [
  {
   "cell_type": "markdown",
   "id": "47a9a0ad",
   "metadata": {},
   "source": [
    "exception handling"
   ]
  },
  {
   "cell_type": "markdown",
   "id": "f51320a6",
   "metadata": {},
   "source": [
    "Syntax errors"
   ]
  },
  {
   "cell_type": "code",
   "execution_count": 1,
   "id": "d6479b68",
   "metadata": {},
   "outputs": [
    {
     "ename": "SyntaxError",
     "evalue": "invalid syntax (Temp/ipykernel_29708/2487746612.py, line 2)",
     "output_type": "error",
     "traceback": [
      "\u001b[1;36m  File \u001b[1;32m\"C:\\Users\\JASMEE~1\\AppData\\Local\\Temp/ipykernel_29708/2487746612.py\"\u001b[1;36m, line \u001b[1;32m2\u001b[0m\n\u001b[1;33m    while(p<10)\u001b[0m\n\u001b[1;37m               ^\u001b[0m\n\u001b[1;31mSyntaxError\u001b[0m\u001b[1;31m:\u001b[0m invalid syntax\n"
     ]
    }
   ],
   "source": [
    "p=1\n",
    "while(p<10)\n",
    "print(p)"
   ]
  },
  {
   "cell_type": "code",
   "execution_count": 2,
   "id": "1d41743d",
   "metadata": {},
   "outputs": [
    {
     "ename": "ZeroDivisionError",
     "evalue": "division by zero",
     "output_type": "error",
     "traceback": [
      "\u001b[1;31m---------------------------------------------------------------------------\u001b[0m",
      "\u001b[1;31mZeroDivisionError\u001b[0m                         Traceback (most recent call last)",
      "\u001b[1;32mC:\\Users\\JASMEE~1\\AppData\\Local\\Temp/ipykernel_29708/2214808741.py\u001b[0m in \u001b[0;36m<module>\u001b[1;34m\u001b[0m\n\u001b[1;32m----> 1\u001b[1;33m \u001b[1;36m56\u001b[0m\u001b[1;33m/\u001b[0m\u001b[1;36m0\u001b[0m\u001b[1;33m\u001b[0m\u001b[1;33m\u001b[0m\u001b[0m\n\u001b[0m",
      "\u001b[1;31mZeroDivisionError\u001b[0m: division by zero"
     ]
    }
   ],
   "source": [
    "56/0"
   ]
  },
  {
   "cell_type": "code",
   "execution_count": 3,
   "id": "6239c4ed",
   "metadata": {},
   "outputs": [
    {
     "ename": "TypeError",
     "evalue": "can only concatenate str (not \"int\") to str",
     "output_type": "error",
     "traceback": [
      "\u001b[1;31m---------------------------------------------------------------------------\u001b[0m",
      "\u001b[1;31mTypeError\u001b[0m                                 Traceback (most recent call last)",
      "\u001b[1;32mC:\\Users\\JASMEE~1\\AppData\\Local\\Temp/ipykernel_29708/1074455573.py\u001b[0m in \u001b[0;36m<module>\u001b[1;34m\u001b[0m\n\u001b[1;32m----> 1\u001b[1;33m \u001b[1;34m'5'\u001b[0m\u001b[1;33m+\u001b[0m\u001b[1;36m7\u001b[0m\u001b[1;33m\u001b[0m\u001b[1;33m\u001b[0m\u001b[0m\n\u001b[0m",
      "\u001b[1;31mTypeError\u001b[0m: can only concatenate str (not \"int\") to str"
     ]
    }
   ],
   "source": [
    "'5'+7"
   ]
  },
  {
   "cell_type": "markdown",
   "id": "20094aae",
   "metadata": {},
   "source": [
    "# Exceptions"
   ]
  },
  {
   "cell_type": "code",
   "execution_count": 4,
   "id": "efa02e2d",
   "metadata": {},
   "outputs": [
    {
     "ename": "ZeroDivisionError",
     "evalue": "division by zero",
     "output_type": "error",
     "traceback": [
      "\u001b[1;31m---------------------------------------------------------------------------\u001b[0m",
      "\u001b[1;31mZeroDivisionError\u001b[0m                         Traceback (most recent call last)",
      "\u001b[1;32mC:\\Users\\JASMEE~1\\AppData\\Local\\Temp/ipykernel_29708/530406163.py\u001b[0m in \u001b[0;36m<module>\u001b[1;34m\u001b[0m\n\u001b[1;32m----> 1\u001b[1;33m \u001b[1;36m10\u001b[0m\u001b[1;33m/\u001b[0m\u001b[1;36m0\u001b[0m\u001b[1;33m\u001b[0m\u001b[1;33m\u001b[0m\u001b[0m\n\u001b[0m",
      "\u001b[1;31mZeroDivisionError\u001b[0m: division by zero"
     ]
    }
   ],
   "source": [
    "10/0"
   ]
  },
  {
   "cell_type": "code",
   "execution_count": 5,
   "id": "c0d4398c",
   "metadata": {},
   "outputs": [
    {
     "ename": "NameError",
     "evalue": "name 'number' is not defined",
     "output_type": "error",
     "traceback": [
      "\u001b[1;31m---------------------------------------------------------------------------\u001b[0m",
      "\u001b[1;31mNameError\u001b[0m                                 Traceback (most recent call last)",
      "\u001b[1;32mC:\\Users\\JASMEE~1\\AppData\\Local\\Temp/ipykernel_29708/1799749339.py\u001b[0m in \u001b[0;36m<module>\u001b[1;34m\u001b[0m\n\u001b[1;32m----> 1\u001b[1;33m \u001b[1;36m8\u001b[0m\u001b[1;33m+\u001b[0m\u001b[0mnumber\u001b[0m\u001b[1;33m*\u001b[0m\u001b[1;36m2\u001b[0m\u001b[1;33m\u001b[0m\u001b[1;33m\u001b[0m\u001b[0m\n\u001b[0m",
      "\u001b[1;31mNameError\u001b[0m: name 'number' is not defined"
     ]
    }
   ],
   "source": [
    "8+number*2"
   ]
  },
  {
   "cell_type": "code",
   "execution_count": 6,
   "id": "5c2b48da",
   "metadata": {},
   "outputs": [
    {
     "ename": "TypeError",
     "evalue": "can only concatenate str (not \"int\") to str",
     "output_type": "error",
     "traceback": [
      "\u001b[1;31m---------------------------------------------------------------------------\u001b[0m",
      "\u001b[1;31mTypeError\u001b[0m                                 Traceback (most recent call last)",
      "\u001b[1;32mC:\\Users\\JASMEE~1\\AppData\\Local\\Temp/ipykernel_29708/3639722995.py\u001b[0m in \u001b[0;36m<module>\u001b[1;34m\u001b[0m\n\u001b[1;32m----> 1\u001b[1;33m \u001b[1;34m'9'\u001b[0m\u001b[1;33m+\u001b[0m\u001b[1;36m9\u001b[0m\u001b[1;33m\u001b[0m\u001b[1;33m\u001b[0m\u001b[0m\n\u001b[0m",
      "\u001b[1;31mTypeError\u001b[0m: can only concatenate str (not \"int\") to str"
     ]
    }
   ],
   "source": [
    "'9'+9"
   ]
  },
  {
   "cell_type": "markdown",
   "id": "4bda0478",
   "metadata": {},
   "source": [
    "# Handling exceptions"
   ]
  },
  {
   "cell_type": "code",
   "execution_count": 7,
   "id": "1d5e023d",
   "metadata": {},
   "outputs": [
    {
     "name": "stdout",
     "output_type": "stream",
     "text": [
      "Handling run time error: division by zero\n"
     ]
    }
   ],
   "source": [
    "try:\n",
    "    79/0\n",
    "except ZeroDivisionError as err:\n",
    "    print('Handling run time error:',err)"
   ]
  },
  {
   "cell_type": "code",
   "execution_count": 8,
   "id": "903f697f",
   "metadata": {},
   "outputs": [
    {
     "name": "stdout",
     "output_type": "stream",
     "text": [
      "Handling run time error: name 'm' is not defined\n"
     ]
    }
   ],
   "source": [
    "try:\n",
    "    8+m*2\n",
    "except NameError as err:\n",
    "    print('Handling run time error:',err)"
   ]
  },
  {
   "cell_type": "code",
   "execution_count": 9,
   "id": "d4fa47da",
   "metadata": {},
   "outputs": [],
   "source": [
    "def divfunc():\n",
    "    a=80\n",
    "    b=0\n",
    "    c=a/b\n",
    "    print( \"The value of c=\",c)"
   ]
  },
  {
   "cell_type": "code",
   "execution_count": null,
   "id": "9cb76a7b",
   "metadata": {},
   "outputs": [],
   "source": []
  },
  {
   "cell_type": "code",
   "execution_count": 10,
   "id": "88ebba1e",
   "metadata": {},
   "outputs": [
    {
     "name": "stdout",
     "output_type": "stream",
     "text": [
      "Handling run time error: division by zero\n"
     ]
    }
   ],
   "source": [
    "try:\n",
    "    divfunc()\n",
    "except ZeroDivisionError as err:\n",
    "    print(\"Handling run time error:\",err)"
   ]
  },
  {
   "cell_type": "code",
   "execution_count": null,
   "id": "324ac494",
   "metadata": {},
   "outputs": [],
   "source": []
  },
  {
   "cell_type": "code",
   "execution_count": 11,
   "id": "50f203fd",
   "metadata": {},
   "outputs": [],
   "source": [
    "def divide(x,y):\n",
    "    try:\n",
    "        result=x/y\n",
    "    except ZeroDivisionError:\n",
    "        print(\"division by zero\")\n",
    "    else:\n",
    "        print(\"result is\", result)\n",
    "    finally:\n",
    "        print(\"executing finally clause\")"
   ]
  },
  {
   "cell_type": "code",
   "execution_count": 12,
   "id": "71b7e2e0",
   "metadata": {},
   "outputs": [
    {
     "name": "stdout",
     "output_type": "stream",
     "text": [
      "result is 5.0\n",
      "executing finally clause\n"
     ]
    }
   ],
   "source": [
    "divide(25,5)"
   ]
  },
  {
   "cell_type": "code",
   "execution_count": 13,
   "id": "15b8af8f",
   "metadata": {},
   "outputs": [
    {
     "name": "stdout",
     "output_type": "stream",
     "text": [
      "division by zero\n",
      "executing finally clause\n"
     ]
    }
   ],
   "source": [
    "divide(30,0)"
   ]
  },
  {
   "cell_type": "code",
   "execution_count": 14,
   "id": "c798e171",
   "metadata": {},
   "outputs": [],
   "source": [
    "class Car:\n",
    "    \n",
    "    \n",
    "    #attributes => data members\n",
    "    year = 2019    #car model's year\n",
    "    mpg = 22     #mileage\n",
    "    speed = 100  #current speed\n",
    "        \n",
    "      # methods ===> member functions\n",
    "    def accelerate(self):\n",
    "             return self.speed\n",
    "            \n",
    "    def brake(self):\n",
    "            return self.mpg\n",
    "   "
   ]
  },
  {
   "cell_type": "code",
   "execution_count": 15,
   "id": "29fbd171",
   "metadata": {},
   "outputs": [
    {
     "data": {
      "text/plain": [
       "100"
      ]
     },
     "execution_count": 15,
     "metadata": {},
     "output_type": "execute_result"
    }
   ],
   "source": [
    "# object or instance\n",
    "Car1=Car()\n",
    "Car1.accelerate()"
   ]
  },
  {
   "cell_type": "code",
   "execution_count": 16,
   "id": "a0679873",
   "metadata": {},
   "outputs": [
    {
     "data": {
      "text/plain": [
       "22"
      ]
     },
     "execution_count": 16,
     "metadata": {},
     "output_type": "execute_result"
    }
   ],
   "source": [
    "Car1.brake()"
   ]
  },
  {
   "cell_type": "code",
   "execution_count": 17,
   "id": "ca6c8352",
   "metadata": {},
   "outputs": [
    {
     "name": "stdout",
     "output_type": "stream",
     "text": [
      "2019\n",
      "22\n",
      "100\n"
     ]
    }
   ],
   "source": [
    "print(Car1.year)\n",
    " \n",
    "    \n",
    "print(Car1.mpg)\n",
    "\n",
    "print(Car1.speed)"
   ]
  },
  {
   "cell_type": "code",
   "execution_count": 18,
   "id": "4789d37a",
   "metadata": {},
   "outputs": [
    {
     "data": {
      "text/plain": [
       "100"
      ]
     },
     "execution_count": 18,
     "metadata": {},
     "output_type": "execute_result"
    }
   ],
   "source": [
    "car2=Car()\n",
    "car2.accelerate()"
   ]
  },
  {
   "cell_type": "code",
   "execution_count": 19,
   "id": "e8a6b15c",
   "metadata": {},
   "outputs": [
    {
     "name": "stdout",
     "output_type": "stream",
     "text": [
      "22\n"
     ]
    }
   ],
   "source": [
    "print(Car1.mpg)"
   ]
  },
  {
   "cell_type": "code",
   "execution_count": 1,
   "id": "9f7f0599",
   "metadata": {},
   "outputs": [
    {
     "name": "stdout",
     "output_type": "stream",
     "text": [
      "ID= 101 Name is John\n",
      "ID= 102 Name is Andrew\n",
      "ID= 103 Name is monica\n",
      "ID= 104 Name is Honey\n"
     ]
    }
   ],
   "source": [
    "class Person:\n",
    "    #constructor/initilzation      automatically called\n",
    "    def __init__(self,id,name):\n",
    "        self.id= id\n",
    "        self.name= name\n",
    "        \n",
    "    def display(self):\n",
    "        print(\"ID=\", self.id, \"Name is\",self.name)\n",
    "    \n",
    "p1=Person(101,\"John\")\n",
    "p1.display()\n",
    "\n",
    "p2=Person(102,\"Andrew\")\n",
    "p2.display()\n",
    "\n",
    "\n",
    "p3=Person(103,\"monica\")\n",
    "p3.display()\n",
    "\n",
    "p4=Person(104,\"Honey\")\n",
    "p4.display()"
   ]
  },
  {
   "cell_type": "code",
   "execution_count": null,
   "id": "0c4f846e",
   "metadata": {},
   "outputs": [],
   "source": []
  },
  {
   "cell_type": "code",
   "execution_count": null,
   "id": "c1519e96",
   "metadata": {},
   "outputs": [],
   "source": []
  },
  {
   "cell_type": "code",
   "execution_count": null,
   "id": "e0952498",
   "metadata": {},
   "outputs": [],
   "source": []
  },
  {
   "cell_type": "code",
   "execution_count": null,
   "id": "0740ec01",
   "metadata": {},
   "outputs": [],
   "source": []
  },
  {
   "cell_type": "code",
   "execution_count": null,
   "id": "4cf94821",
   "metadata": {},
   "outputs": [],
   "source": []
  },
  {
   "cell_type": "code",
   "execution_count": null,
   "id": "a63657ce",
   "metadata": {},
   "outputs": [],
   "source": []
  },
  {
   "cell_type": "code",
   "execution_count": null,
   "id": "5ccec131",
   "metadata": {},
   "outputs": [],
   "source": []
  },
  {
   "cell_type": "code",
   "execution_count": null,
   "id": "f227bc00",
   "metadata": {},
   "outputs": [],
   "source": []
  },
  {
   "cell_type": "code",
   "execution_count": null,
   "id": "bc03c854",
   "metadata": {},
   "outputs": [],
   "source": []
  },
  {
   "cell_type": "code",
   "execution_count": null,
   "id": "dde877b0",
   "metadata": {},
   "outputs": [],
   "source": []
  },
  {
   "cell_type": "code",
   "execution_count": null,
   "id": "3695ee4a",
   "metadata": {},
   "outputs": [],
   "source": []
  },
  {
   "cell_type": "code",
   "execution_count": null,
   "id": "932986e1",
   "metadata": {},
   "outputs": [],
   "source": []
  },
  {
   "cell_type": "code",
   "execution_count": null,
   "id": "c97b40ed",
   "metadata": {},
   "outputs": [],
   "source": []
  }
 ],
 "metadata": {
  "kernelspec": {
   "display_name": "Python 3 (ipykernel)",
   "language": "python",
   "name": "python3"
  },
  "language_info": {
   "codemirror_mode": {
    "name": "ipython",
    "version": 3
   },
   "file_extension": ".py",
   "mimetype": "text/x-python",
   "name": "python",
   "nbconvert_exporter": "python",
   "pygments_lexer": "ipython3",
   "version": "3.9.7"
  }
 },
 "nbformat": 4,
 "nbformat_minor": 5
}
