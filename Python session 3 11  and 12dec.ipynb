{
 "cells": [
  {
   "cell_type": "markdown",
   "id": "9be36e43",
   "metadata": {},
   "source": [
    "LIST"
   ]
  },
  {
   "cell_type": "code",
   "execution_count": 34,
   "id": "cd038590",
   "metadata": {},
   "outputs": [],
   "source": [
    "planetlist=[\"Mercury\",\"venus\",\"Earth\"]"
   ]
  },
  {
   "cell_type": "code",
   "execution_count": 35,
   "id": "df18277e",
   "metadata": {},
   "outputs": [
    {
     "data": {
      "text/plain": [
       "['Mercury', 'venus', 'Earth']"
      ]
     },
     "execution_count": 35,
     "metadata": {},
     "output_type": "execute_result"
    }
   ],
   "source": [
    "planetlist"
   ]
  },
  {
   "cell_type": "code",
   "execution_count": 36,
   "id": "48883948",
   "metadata": {},
   "outputs": [
    {
     "data": {
      "text/plain": [
       "3"
      ]
     },
     "execution_count": 36,
     "metadata": {},
     "output_type": "execute_result"
    }
   ],
   "source": [
    "len(planetlist)"
   ]
  },
  {
   "cell_type": "code",
   "execution_count": 37,
   "id": "58f5c813",
   "metadata": {},
   "outputs": [],
   "source": [
    "planetlist.append(\"mars\")"
   ]
  },
  {
   "cell_type": "code",
   "execution_count": 38,
   "id": "5fcda0b4",
   "metadata": {},
   "outputs": [
    {
     "data": {
      "text/plain": [
       "['Mercury', 'venus', 'Earth', 'mars']"
      ]
     },
     "execution_count": 38,
     "metadata": {},
     "output_type": "execute_result"
    }
   ],
   "source": [
    "planetlist"
   ]
  },
  {
   "cell_type": "code",
   "execution_count": 45,
   "id": "34ef7dee",
   "metadata": {},
   "outputs": [],
   "source": [
    "planetlist.append(\"jupiter\")"
   ]
  },
  {
   "cell_type": "code",
   "execution_count": 46,
   "id": "c5e45650",
   "metadata": {},
   "outputs": [
    {
     "data": {
      "text/plain": [
       "['Earth', 'Mercury', 'jupiter', 'jupiter', 'mars', 'venus', 'jupiter']"
      ]
     },
     "execution_count": 46,
     "metadata": {},
     "output_type": "execute_result"
    }
   ],
   "source": [
    "planetlist"
   ]
  },
  {
   "cell_type": "code",
   "execution_count": 47,
   "id": "1d487ed3",
   "metadata": {},
   "outputs": [
    {
     "data": {
      "text/plain": [
       "7"
      ]
     },
     "execution_count": 47,
     "metadata": {},
     "output_type": "execute_result"
    }
   ],
   "source": [
    "len(planetlist)"
   ]
  },
  {
   "cell_type": "code",
   "execution_count": 48,
   "id": "63655583",
   "metadata": {},
   "outputs": [],
   "source": [
    "planetlist.sort()"
   ]
  },
  {
   "cell_type": "code",
   "execution_count": 49,
   "id": "8ccd9717",
   "metadata": {},
   "outputs": [
    {
     "data": {
      "text/plain": [
       "['Earth', 'Mercury', 'jupiter', 'jupiter', 'jupiter', 'mars', 'venus']"
      ]
     },
     "execution_count": 49,
     "metadata": {},
     "output_type": "execute_result"
    }
   ],
   "source": [
    "planetlist"
   ]
  },
  {
   "cell_type": "code",
   "execution_count": 51,
   "id": "5ad59856",
   "metadata": {},
   "outputs": [],
   "source": [
    "planetlist.reverse()"
   ]
  },
  {
   "cell_type": "code",
   "execution_count": 53,
   "id": "6317afb3",
   "metadata": {},
   "outputs": [
    {
     "data": {
      "text/plain": [
       "['Earth', 'Mercury', 'jupiter', 'jupiter', 'jupiter', 'mars', 'venus']"
      ]
     },
     "execution_count": 53,
     "metadata": {},
     "output_type": "execute_result"
    }
   ],
   "source": [
    "planetlist"
   ]
  },
  {
   "cell_type": "code",
   "execution_count": 54,
   "id": "894d2f2a",
   "metadata": {},
   "outputs": [],
   "source": [
    "planetlist.insert(2,\"pluto\")"
   ]
  },
  {
   "cell_type": "code",
   "execution_count": 55,
   "id": "ffd53dde",
   "metadata": {},
   "outputs": [
    {
     "data": {
      "text/plain": [
       "['Earth', 'Mercury', 'pluto', 'jupiter', 'jupiter', 'jupiter', 'mars', 'venus']"
      ]
     },
     "execution_count": 55,
     "metadata": {},
     "output_type": "execute_result"
    }
   ],
   "source": [
    "planetlist"
   ]
  },
  {
   "cell_type": "code",
   "execution_count": 56,
   "id": "2efc8b4d",
   "metadata": {},
   "outputs": [
    {
     "data": {
      "text/plain": [
       "['Earth', 'Mercury', 'pluto', 'jupiter', 'jupiter', 'jupiter', 'mars', 'venus']"
      ]
     },
     "execution_count": 56,
     "metadata": {},
     "output_type": "execute_result"
    }
   ],
   "source": [
    "planetlist[0:]\n"
   ]
  },
  {
   "cell_type": "code",
   "execution_count": 57,
   "id": "bdef9bf6",
   "metadata": {},
   "outputs": [
    {
     "data": {
      "text/plain": [
       "'venus'"
      ]
     },
     "execution_count": 57,
     "metadata": {},
     "output_type": "execute_result"
    }
   ],
   "source": [
    "planetlist.pop()"
   ]
  },
  {
   "cell_type": "code",
   "execution_count": 58,
   "id": "cf3370be",
   "metadata": {},
   "outputs": [
    {
     "data": {
      "text/plain": [
       "'pluto'"
      ]
     },
     "execution_count": 58,
     "metadata": {},
     "output_type": "execute_result"
    }
   ],
   "source": [
    "planetlist.pop(2)"
   ]
  },
  {
   "cell_type": "code",
   "execution_count": 65,
   "id": "7cd4d48f",
   "metadata": {},
   "outputs": [
    {
     "data": {
      "text/plain": [
       "['Earth', 'Mercury', 'jupiter', 'jupiter', 'jupiter']"
      ]
     },
     "execution_count": 65,
     "metadata": {},
     "output_type": "execute_result"
    }
   ],
   "source": [
    "planetlist"
   ]
  },
  {
   "cell_type": "code",
   "execution_count": 69,
   "id": "4b9a2418",
   "metadata": {},
   "outputs": [],
   "source": [
    "planetlist.remove(\"Mercury\")"
   ]
  },
  {
   "cell_type": "code",
   "execution_count": 70,
   "id": "8ead5589",
   "metadata": {},
   "outputs": [
    {
     "data": {
      "text/plain": [
       "['Earth', 'jupiter', 'jupiter', 'jupiter']"
      ]
     },
     "execution_count": 70,
     "metadata": {},
     "output_type": "execute_result"
    }
   ],
   "source": [
    "planetlist"
   ]
  },
  {
   "cell_type": "code",
   "execution_count": 71,
   "id": "6e828ae6",
   "metadata": {},
   "outputs": [],
   "source": [
    "planetlist.sort()"
   ]
  },
  {
   "cell_type": "code",
   "execution_count": 72,
   "id": "d3b34b77",
   "metadata": {},
   "outputs": [
    {
     "data": {
      "text/plain": [
       "['Earth', 'jupiter', 'jupiter', 'jupiter']"
      ]
     },
     "execution_count": 72,
     "metadata": {},
     "output_type": "execute_result"
    }
   ],
   "source": [
    "planetlist"
   ]
  },
  {
   "cell_type": "code",
   "execution_count": 74,
   "id": "1231bffc",
   "metadata": {},
   "outputs": [],
   "source": [
    "planetlist.reverse()"
   ]
  },
  {
   "cell_type": "code",
   "execution_count": 75,
   "id": "5df4b7fa",
   "metadata": {},
   "outputs": [
    {
     "data": {
      "text/plain": [
       "['jupiter', 'jupiter', 'jupiter', 'Earth']"
      ]
     },
     "execution_count": 75,
     "metadata": {},
     "output_type": "execute_result"
    }
   ],
   "source": [
    "planetlist"
   ]
  },
  {
   "cell_type": "code",
   "execution_count": 78,
   "id": "781b8d1b",
   "metadata": {},
   "outputs": [],
   "source": [
    "planetlist.remove(\"jupiter\")"
   ]
  },
  {
   "cell_type": "code",
   "execution_count": 79,
   "id": "872aafbd",
   "metadata": {},
   "outputs": [
    {
     "data": {
      "text/plain": [
       "['jupiter', 'jupiter', 'Earth']"
      ]
     },
     "execution_count": 79,
     "metadata": {},
     "output_type": "execute_result"
    }
   ],
   "source": [
    "planetlist"
   ]
  },
  {
   "cell_type": "code",
   "execution_count": 80,
   "id": "99c5476b",
   "metadata": {},
   "outputs": [
    {
     "data": {
      "text/plain": [
       "'jupiter'"
      ]
     },
     "execution_count": 80,
     "metadata": {},
     "output_type": "execute_result"
    }
   ],
   "source": [
    "planetlist.pop(0)"
   ]
  },
  {
   "cell_type": "code",
   "execution_count": 81,
   "id": "c5bba0f2",
   "metadata": {},
   "outputs": [
    {
     "data": {
      "text/plain": [
       "['jupiter', 'Earth']"
      ]
     },
     "execution_count": 81,
     "metadata": {},
     "output_type": "execute_result"
    }
   ],
   "source": [
    "planetlist"
   ]
  },
  {
   "cell_type": "code",
   "execution_count": 83,
   "id": "67b87784",
   "metadata": {},
   "outputs": [],
   "source": [
    "planetlist.clear()"
   ]
  },
  {
   "cell_type": "code",
   "execution_count": 84,
   "id": "2ea18153",
   "metadata": {},
   "outputs": [
    {
     "data": {
      "text/plain": [
       "[]"
      ]
     },
     "execution_count": 84,
     "metadata": {},
     "output_type": "execute_result"
    }
   ],
   "source": [
    "planetlist"
   ]
  },
  {
   "cell_type": "code",
   "execution_count": 85,
   "id": "6218e02b",
   "metadata": {},
   "outputs": [],
   "source": [
    "planetlist.append(\"Uranus\")"
   ]
  },
  {
   "cell_type": "code",
   "execution_count": 86,
   "id": "a7f9fb37",
   "metadata": {},
   "outputs": [
    {
     "data": {
      "text/plain": [
       "['Uranus']"
      ]
     },
     "execution_count": 86,
     "metadata": {},
     "output_type": "execute_result"
    }
   ],
   "source": [
    "planetlist"
   ]
  },
  {
   "cell_type": "code",
   "execution_count": 87,
   "id": "50610efe",
   "metadata": {},
   "outputs": [],
   "source": [
    "del planetlist"
   ]
  },
  {
   "cell_type": "code",
   "execution_count": 89,
   "id": "568ba482",
   "metadata": {},
   "outputs": [
    {
     "data": {
      "text/plain": [
       "[1, 2, 3, 4, 5, [77, 88, 99]]"
      ]
     },
     "execution_count": 89,
     "metadata": {},
     "output_type": "execute_result"
    }
   ],
   "source": [
    "l1=[1,2,3,4,5]\n",
    "l1.append([77,88,99])\n",
    "l1"
   ]
  },
  {
   "cell_type": "code",
   "execution_count": 90,
   "id": "b1202bc0",
   "metadata": {},
   "outputs": [
    {
     "data": {
      "text/plain": [
       "[1, 2, 3, 4, 5, 77, 88, 99]"
      ]
     },
     "execution_count": 90,
     "metadata": {},
     "output_type": "execute_result"
    }
   ],
   "source": [
    "l1=[1,2,3,4,5]\n",
    "l1.extend([77,88,99])\n",
    "l1"
   ]
  },
  {
   "cell_type": "code",
   "execution_count": 100,
   "id": "0a691077",
   "metadata": {},
   "outputs": [
    {
     "data": {
      "text/plain": [
       "8"
      ]
     },
     "execution_count": 100,
     "metadata": {},
     "output_type": "execute_result"
    }
   ],
   "source": [
    "len(l1)"
   ]
  },
  {
   "cell_type": "code",
   "execution_count": 131,
   "id": "2c7805b2",
   "metadata": {},
   "outputs": [],
   "source": [
    "fruits=[\"apple\",\"grapes\",\"orange\",\"bannana\"]\n",
    "fruits.append([\"mango\",\"kiwi\"])"
   ]
  },
  {
   "cell_type": "code",
   "execution_count": 132,
   "id": "7cef11a3",
   "metadata": {
    "scrolled": true
   },
   "outputs": [
    {
     "data": {
      "text/plain": [
       "['apple', 'grapes', 'orange', 'bannana', ['mango', 'kiwi']]"
      ]
     },
     "execution_count": 132,
     "metadata": {},
     "output_type": "execute_result"
    }
   ],
   "source": [
    "fruits"
   ]
  },
  {
   "cell_type": "code",
   "execution_count": 164,
   "id": "f247ed6a",
   "metadata": {},
   "outputs": [
    {
     "data": {
      "text/plain": [
       "['mango', 'lemon', 'abc', 'xyz', ['potato', 'onion']]"
      ]
     },
     "execution_count": 164,
     "metadata": {},
     "output_type": "execute_result"
    }
   ],
   "source": [
    "fruits1=[\"mango\",\"lemon\",\"abc\",\"xyz\"]\n",
    "veggies1=[\"potato\",\"onion\"]\n",
    "fruits1.append(veggies1)\n",
    "fruits1"
   ]
  },
  {
   "cell_type": "code",
   "execution_count": 166,
   "id": "606731bf",
   "metadata": {},
   "outputs": [
    {
     "data": {
      "text/plain": [
       "['mango', 'lemon', 'abc', 'xyz', 'potato', 'onion']"
      ]
     },
     "execution_count": 166,
     "metadata": {},
     "output_type": "execute_result"
    }
   ],
   "source": [
    "fruits1=[\"mango\",\"lemon\",\"abc\",\"xyz\"]\n",
    "fruits1.extend(veggies1)\n",
    "fruits1"
   ]
  },
  {
   "cell_type": "code",
   "execution_count": 168,
   "id": "0284d026",
   "metadata": {},
   "outputs": [],
   "source": [
    "numlist=[1,2,3,4,5,6,7,8,9]"
   ]
  },
  {
   "cell_type": "code",
   "execution_count": 169,
   "id": "b3a3f171",
   "metadata": {},
   "outputs": [
    {
     "data": {
      "text/plain": [
       "[1, 2, 3, 4, 5, 6, 7, 8, 9]"
      ]
     },
     "execution_count": 169,
     "metadata": {},
     "output_type": "execute_result"
    }
   ],
   "source": [
    "numlist"
   ]
  },
  {
   "cell_type": "code",
   "execution_count": 170,
   "id": "393be8cc",
   "metadata": {},
   "outputs": [],
   "source": [
    "numlist.append(11)"
   ]
  },
  {
   "cell_type": "code",
   "execution_count": 171,
   "id": "39770897",
   "metadata": {},
   "outputs": [
    {
     "data": {
      "text/plain": [
       "[1, 2, 3, 4, 5, 6, 7, 8, 9, 11]"
      ]
     },
     "execution_count": 171,
     "metadata": {},
     "output_type": "execute_result"
    }
   ],
   "source": [
    "numlist"
   ]
  },
  {
   "cell_type": "code",
   "execution_count": 172,
   "id": "2ed29a68",
   "metadata": {},
   "outputs": [],
   "source": [
    "mobilelist=[\"samsung\",\"apple\",\"nokia\"]"
   ]
  },
  {
   "cell_type": "code",
   "execution_count": 173,
   "id": "6588438a",
   "metadata": {},
   "outputs": [
    {
     "data": {
      "text/plain": [
       "['samsung', 'apple', 'nokia']"
      ]
     },
     "execution_count": 173,
     "metadata": {},
     "output_type": "execute_result"
    }
   ],
   "source": [
    "mobilelist"
   ]
  },
  {
   "cell_type": "code",
   "execution_count": 174,
   "id": "a7f763cd",
   "metadata": {},
   "outputs": [
    {
     "data": {
      "text/plain": [
       "'apple'"
      ]
     },
     "execution_count": 174,
     "metadata": {},
     "output_type": "execute_result"
    }
   ],
   "source": [
    "mobilelist[1]"
   ]
  },
  {
   "cell_type": "markdown",
   "id": "56bfc565",
   "metadata": {},
   "source": [
    "property- mutuable mean changing"
   ]
  },
  {
   "cell_type": "code",
   "execution_count": 176,
   "id": "f3a69d79",
   "metadata": {},
   "outputs": [],
   "source": [
    "mobilelist[1]=\"teslapi\""
   ]
  },
  {
   "cell_type": "code",
   "execution_count": 177,
   "id": "eba8d750",
   "metadata": {},
   "outputs": [
    {
     "data": {
      "text/plain": [
       "['samsung', 'teslapi', 'nokia']"
      ]
     },
     "execution_count": 177,
     "metadata": {},
     "output_type": "execute_result"
    }
   ],
   "source": [
    "mobilelist"
   ]
  },
  {
   "cell_type": "code",
   "execution_count": 178,
   "id": "aa79018c",
   "metadata": {},
   "outputs": [
    {
     "data": {
      "text/plain": [
       "'teslapi'"
      ]
     },
     "execution_count": 178,
     "metadata": {},
     "output_type": "execute_result"
    }
   ],
   "source": [
    "mobilelist[1]"
   ]
  },
  {
   "cell_type": "code",
   "execution_count": 187,
   "id": "b2f7af12",
   "metadata": {},
   "outputs": [],
   "source": [
    "list12=[100,200,300,400]"
   ]
  },
  {
   "cell_type": "code",
   "execution_count": 188,
   "id": "ef53b63a",
   "metadata": {},
   "outputs": [
    {
     "data": {
      "text/plain": [
       "[100, 200, 300, 400]"
      ]
     },
     "execution_count": 188,
     "metadata": {},
     "output_type": "execute_result"
    }
   ],
   "source": [
    "list12"
   ]
  },
  {
   "cell_type": "code",
   "execution_count": 189,
   "id": "9084fa14",
   "metadata": {},
   "outputs": [
    {
     "data": {
      "text/plain": [
       "300"
      ]
     },
     "execution_count": 189,
     "metadata": {},
     "output_type": "execute_result"
    }
   ],
   "source": [
    "list12[2]"
   ]
  },
  {
   "cell_type": "code",
   "execution_count": 190,
   "id": "064125f3",
   "metadata": {},
   "outputs": [],
   "source": [
    "list12[2]=333"
   ]
  },
  {
   "cell_type": "code",
   "execution_count": 191,
   "id": "ebbfcb49",
   "metadata": {},
   "outputs": [
    {
     "data": {
      "text/plain": [
       "[100, 200, 333, 400]"
      ]
     },
     "execution_count": 191,
     "metadata": {},
     "output_type": "execute_result"
    }
   ],
   "source": [
    "list12"
   ]
  },
  {
   "cell_type": "markdown",
   "id": "f020cd23",
   "metadata": {},
   "source": [
    "TUPLES"
   ]
  },
  {
   "cell_type": "markdown",
   "id": "56312d4a",
   "metadata": {},
   "source": [
    "tuples are similar to list, but are immutable- which means they cannot be changed "
   ]
  },
  {
   "cell_type": "code",
   "execution_count": 193,
   "id": "46b3248d",
   "metadata": {},
   "outputs": [],
   "source": [
    "my_tuple = (\"michleal\",\"herman\", 31 , \"software developer\")"
   ]
  },
  {
   "cell_type": "code",
   "execution_count": 195,
   "id": "1bd03eb0",
   "metadata": {},
   "outputs": [
    {
     "data": {
      "text/plain": [
       "'herman'"
      ]
     },
     "execution_count": 195,
     "metadata": {},
     "output_type": "execute_result"
    }
   ],
   "source": [
    "my_tuple[1]"
   ]
  },
  {
   "cell_type": "code",
   "execution_count": 196,
   "id": "45bff565",
   "metadata": {},
   "outputs": [],
   "source": [
    "tuple1=(1,2,3,4)\n",
    "tuple2=(5,6,7,8)"
   ]
  },
  {
   "cell_type": "code",
   "execution_count": 197,
   "id": "1ae27c18",
   "metadata": {},
   "outputs": [],
   "source": [
    "tuple3=tuple1+tuple2"
   ]
  },
  {
   "cell_type": "code",
   "execution_count": 198,
   "id": "351f9397",
   "metadata": {},
   "outputs": [
    {
     "data": {
      "text/plain": [
       "(1, 2, 3, 4, 5, 6, 7, 8)"
      ]
     },
     "execution_count": 198,
     "metadata": {},
     "output_type": "execute_result"
    }
   ],
   "source": [
    "tuple3"
   ]
  },
  {
   "cell_type": "code",
   "execution_count": 199,
   "id": "a8319617",
   "metadata": {},
   "outputs": [
    {
     "data": {
      "text/plain": [
       "3"
      ]
     },
     "execution_count": 199,
     "metadata": {},
     "output_type": "execute_result"
    }
   ],
   "source": [
    "# accessing the element\n",
    "tuple3[2]"
   ]
  },
  {
   "cell_type": "code",
   "execution_count": 201,
   "id": "e5ab4e28",
   "metadata": {},
   "outputs": [
    {
     "ename": "TypeError",
     "evalue": "'tuple' object does not support item assignment",
     "output_type": "error",
     "traceback": [
      "\u001b[1;31m---------------------------------------------------------------------------\u001b[0m",
      "\u001b[1;31mTypeError\u001b[0m                                 Traceback (most recent call last)",
      "\u001b[1;32mC:\\Users\\JASMEE~1\\AppData\\Local\\Temp/ipykernel_25084/3987191423.py\u001b[0m in \u001b[0;36m<module>\u001b[1;34m\u001b[0m\n\u001b[0;32m      1\u001b[0m \u001b[1;31m# tuple values can not be changed after creation, it is immutable\u001b[0m\u001b[1;33m\u001b[0m\u001b[1;33m\u001b[0m\u001b[0m\n\u001b[1;32m----> 2\u001b[1;33m \u001b[0mtuple3\u001b[0m\u001b[1;33m[\u001b[0m\u001b[1;36m2\u001b[0m\u001b[1;33m]\u001b[0m\u001b[1;33m=\u001b[0m\u001b[1;36m85\u001b[0m\u001b[1;33m\u001b[0m\u001b[1;33m\u001b[0m\u001b[0m\n\u001b[0m",
      "\u001b[1;31mTypeError\u001b[0m: 'tuple' object does not support item assignment"
     ]
    }
   ],
   "source": [
    "# tuple values can not be changed after creation, it is immutable\n",
    "tuple3[2]=85"
   ]
  },
  {
   "cell_type": "markdown",
   "id": "f1834545",
   "metadata": {},
   "source": [
    "# dictionary "
   ]
  },
  {
   "cell_type": "code",
   "execution_count": 202,
   "id": "8af16699",
   "metadata": {},
   "outputs": [],
   "source": [
    "d1={'id':1,'name':'vaau','class':2}"
   ]
  },
  {
   "cell_type": "code",
   "execution_count": 203,
   "id": "62f4e1e7",
   "metadata": {},
   "outputs": [
    {
     "data": {
      "text/plain": [
       "{'id': 1, 'name': 'vaau', 'class': 2}"
      ]
     },
     "execution_count": 203,
     "metadata": {},
     "output_type": "execute_result"
    }
   ],
   "source": [
    "d1"
   ]
  },
  {
   "cell_type": "code",
   "execution_count": 205,
   "id": "3cd29758",
   "metadata": {},
   "outputs": [
    {
     "data": {
      "text/plain": [
       "1"
      ]
     },
     "execution_count": 205,
     "metadata": {},
     "output_type": "execute_result"
    }
   ],
   "source": [
    "d1['id']"
   ]
  },
  {
   "cell_type": "code",
   "execution_count": 206,
   "id": "182f0465",
   "metadata": {},
   "outputs": [
    {
     "data": {
      "text/plain": [
       "'vaau'"
      ]
     },
     "execution_count": 206,
     "metadata": {},
     "output_type": "execute_result"
    }
   ],
   "source": [
    "d1['name']"
   ]
  },
  {
   "cell_type": "code",
   "execution_count": 207,
   "id": "fde9ac6d",
   "metadata": {},
   "outputs": [
    {
     "data": {
      "text/plain": [
       "2"
      ]
     },
     "execution_count": 207,
     "metadata": {},
     "output_type": "execute_result"
    }
   ],
   "source": [
    "d1['class']"
   ]
  },
  {
   "cell_type": "code",
   "execution_count": 208,
   "id": "18ed6abf",
   "metadata": {},
   "outputs": [
    {
     "data": {
      "text/plain": [
       "dict_keys(['id', 'name', 'class'])"
      ]
     },
     "execution_count": 208,
     "metadata": {},
     "output_type": "execute_result"
    }
   ],
   "source": [
    "d1.keys()"
   ]
  },
  {
   "cell_type": "code",
   "execution_count": 212,
   "id": "4de72f44",
   "metadata": {},
   "outputs": [
    {
     "data": {
      "text/plain": [
       "dict_values([1, 'vaau', 2])"
      ]
     },
     "execution_count": 212,
     "metadata": {},
     "output_type": "execute_result"
    }
   ],
   "source": [
    "d1.values()"
   ]
  },
  {
   "cell_type": "code",
   "execution_count": 213,
   "id": "d273baa3",
   "metadata": {},
   "outputs": [
    {
     "data": {
      "text/plain": [
       "dict_items([('id', 1), ('name', 'vaau'), ('class', 2)])"
      ]
     },
     "execution_count": 213,
     "metadata": {},
     "output_type": "execute_result"
    }
   ],
   "source": [
    "d1.items()"
   ]
  },
  {
   "cell_type": "code",
   "execution_count": 220,
   "id": "49901a8d",
   "metadata": {},
   "outputs": [],
   "source": [
    "numdict={1:100,2:200,3:300,4:400}"
   ]
  },
  {
   "cell_type": "code",
   "execution_count": 223,
   "id": "50af7e60",
   "metadata": {},
   "outputs": [
    {
     "data": {
      "text/plain": [
       "{1: 100, 2: 200, 3: 300, 4: 400}"
      ]
     },
     "execution_count": 223,
     "metadata": {},
     "output_type": "execute_result"
    }
   ],
   "source": [
    "numdict"
   ]
  },
  {
   "cell_type": "code",
   "execution_count": 221,
   "id": "a3713fee",
   "metadata": {},
   "outputs": [
    {
     "data": {
      "text/plain": [
       "100"
      ]
     },
     "execution_count": 221,
     "metadata": {},
     "output_type": "execute_result"
    }
   ],
   "source": [
    "numdict[1]"
   ]
  },
  {
   "cell_type": "code",
   "execution_count": 222,
   "id": "f752f9a6",
   "metadata": {},
   "outputs": [
    {
     "data": {
      "text/plain": [
       "200"
      ]
     },
     "execution_count": 222,
     "metadata": {},
     "output_type": "execute_result"
    }
   ],
   "source": [
    "numdict[2]"
   ]
  },
  {
   "cell_type": "code",
   "execution_count": 224,
   "id": "115b5e49",
   "metadata": {},
   "outputs": [
    {
     "data": {
      "text/plain": [
       "300"
      ]
     },
     "execution_count": 224,
     "metadata": {},
     "output_type": "execute_result"
    }
   ],
   "source": [
    "numdict[3]"
   ]
  },
  {
   "cell_type": "code",
   "execution_count": 225,
   "id": "eebb3bc8",
   "metadata": {},
   "outputs": [
    {
     "data": {
      "text/plain": [
       "dict_keys([1, 2, 3, 4])"
      ]
     },
     "execution_count": 225,
     "metadata": {},
     "output_type": "execute_result"
    }
   ],
   "source": [
    "numdict.keys()"
   ]
  },
  {
   "cell_type": "code",
   "execution_count": 226,
   "id": "5511b291",
   "metadata": {},
   "outputs": [
    {
     "data": {
      "text/plain": [
       "dict_values([100, 200, 300, 400])"
      ]
     },
     "execution_count": 226,
     "metadata": {},
     "output_type": "execute_result"
    }
   ],
   "source": [
    "numdict.values()"
   ]
  },
  {
   "cell_type": "code",
   "execution_count": 227,
   "id": "9e505865",
   "metadata": {},
   "outputs": [
    {
     "data": {
      "text/plain": [
       "dict_items([(1, 100), (2, 200), (3, 300), (4, 400)])"
      ]
     },
     "execution_count": 227,
     "metadata": {},
     "output_type": "execute_result"
    }
   ],
   "source": [
    "numdict.items()"
   ]
  },
  {
   "cell_type": "code",
   "execution_count": 233,
   "id": "2137b31a",
   "metadata": {},
   "outputs": [],
   "source": [
    "dict1 = {'Name': 'Zara', 'age' : 14, 'class' : 'first'}"
   ]
  },
  {
   "cell_type": "code",
   "execution_count": 235,
   "id": "6dfa42dc",
   "metadata": {},
   "outputs": [
    {
     "data": {
      "text/plain": [
       "'Zara'"
      ]
     },
     "execution_count": 235,
     "metadata": {},
     "output_type": "execute_result"
    }
   ],
   "source": [
    "dict1['Name']"
   ]
  },
  {
   "cell_type": "code",
   "execution_count": 237,
   "id": "527c02c0",
   "metadata": {},
   "outputs": [
    {
     "name": "stdout",
     "output_type": "stream",
     "text": [
      "14\n"
     ]
    }
   ],
   "source": [
    "print(dict1['age'])"
   ]
  },
  {
   "cell_type": "code",
   "execution_count": 239,
   "id": "bfdd5c9c",
   "metadata": {},
   "outputs": [],
   "source": [
    "dict1['age']=10"
   ]
  },
  {
   "cell_type": "code",
   "execution_count": 240,
   "id": "24ffe1ca",
   "metadata": {},
   "outputs": [
    {
     "data": {
      "text/plain": [
       "{'Name': 'Zara', 'age': 10, 'class': 'first'}"
      ]
     },
     "execution_count": 240,
     "metadata": {},
     "output_type": "execute_result"
    }
   ],
   "source": [
    "dict1"
   ]
  },
  {
   "cell_type": "code",
   "execution_count": 241,
   "id": "e5f4678a",
   "metadata": {},
   "outputs": [
    {
     "name": "stdout",
     "output_type": "stream",
     "text": [
      "dict1['Name']: Zara\n"
     ]
    }
   ],
   "source": [
    "print(\"dict1['Name']:\",dict1['Name'])"
   ]
  },
  {
   "cell_type": "code",
   "execution_count": 242,
   "id": "50e69746",
   "metadata": {},
   "outputs": [
    {
     "data": {
      "text/plain": [
       "3"
      ]
     },
     "execution_count": 242,
     "metadata": {},
     "output_type": "execute_result"
    }
   ],
   "source": [
    "len(dict1)"
   ]
  },
  {
   "cell_type": "code",
   "execution_count": 243,
   "id": "2920d7e6",
   "metadata": {},
   "outputs": [
    {
     "data": {
      "text/plain": [
       "dict_keys(['Name', 'age', 'class'])"
      ]
     },
     "execution_count": 243,
     "metadata": {},
     "output_type": "execute_result"
    }
   ],
   "source": [
    "dict1.keys()"
   ]
  },
  {
   "cell_type": "code",
   "execution_count": 244,
   "id": "d8d7fe5f",
   "metadata": {},
   "outputs": [
    {
     "data": {
      "text/plain": [
       "dict_values(['Zara', 10, 'first'])"
      ]
     },
     "execution_count": 244,
     "metadata": {},
     "output_type": "execute_result"
    }
   ],
   "source": [
    "dict1.values()"
   ]
  },
  {
   "cell_type": "code",
   "execution_count": 245,
   "id": "40c4920a",
   "metadata": {},
   "outputs": [
    {
     "data": {
      "text/plain": [
       "dict_items([('Name', 'Zara'), ('age', 10), ('class', 'first')])"
      ]
     },
     "execution_count": 245,
     "metadata": {},
     "output_type": "execute_result"
    }
   ],
   "source": [
    "dict1.items()"
   ]
  },
  {
   "cell_type": "code",
   "execution_count": 248,
   "id": "5f15d54b",
   "metadata": {},
   "outputs": [],
   "source": [
    "dict1['Name']='Ashu'"
   ]
  },
  {
   "cell_type": "code",
   "execution_count": 249,
   "id": "ed59397d",
   "metadata": {},
   "outputs": [
    {
     "data": {
      "text/plain": [
       "{'Name': 'Ashu', 'age': 10, 'class': 'first'}"
      ]
     },
     "execution_count": 249,
     "metadata": {},
     "output_type": "execute_result"
    }
   ],
   "source": [
    "dict1"
   ]
  },
  {
   "cell_type": "code",
   "execution_count": 250,
   "id": "67951dc1",
   "metadata": {},
   "outputs": [],
   "source": [
    "dict1.update({'Fee':500})"
   ]
  },
  {
   "cell_type": "code",
   "execution_count": 251,
   "id": "351134fa",
   "metadata": {},
   "outputs": [
    {
     "data": {
      "text/plain": [
       "{'Name': 'Ashu', 'age': 10, 'class': 'first', 'Fee': 500}"
      ]
     },
     "execution_count": 251,
     "metadata": {},
     "output_type": "execute_result"
    }
   ],
   "source": [
    "dict1"
   ]
  },
  {
   "cell_type": "code",
   "execution_count": 253,
   "id": "fcda8262",
   "metadata": {},
   "outputs": [],
   "source": [
    "dict1['Fee']=560"
   ]
  },
  {
   "cell_type": "code",
   "execution_count": 254,
   "id": "438367f0",
   "metadata": {},
   "outputs": [
    {
     "data": {
      "text/plain": [
       "{'Name': 'Ashu', 'age': 10, 'class': 'first', 'Fee': 560}"
      ]
     },
     "execution_count": 254,
     "metadata": {},
     "output_type": "execute_result"
    }
   ],
   "source": [
    "dict1"
   ]
  },
  {
   "cell_type": "code",
   "execution_count": 256,
   "id": "b88b66ed",
   "metadata": {},
   "outputs": [
    {
     "name": "stdout",
     "output_type": "stream",
     "text": [
      "{'Name': 'Ashu', 'age': 10, 'class': 'first', 'Fee': 7600}\n"
     ]
    }
   ],
   "source": [
    "dict1['Fee']= 7600\n",
    "\n",
    "print(dict1)"
   ]
  },
  {
   "cell_type": "code",
   "execution_count": 261,
   "id": "b6f1f353",
   "metadata": {},
   "outputs": [
    {
     "name": "stdout",
     "output_type": "stream",
     "text": [
      "{'rock': 'brown', 'apple': 'red', 'bike': 'black'}\n"
     ]
    }
   ],
   "source": [
    "colordict={'rock':'brown', 'apple': 'red','bike':'black'}\n",
    "\n",
    "print(colordict)"
   ]
  },
  {
   "cell_type": "code",
   "execution_count": 294,
   "id": "d9a38662",
   "metadata": {},
   "outputs": [],
   "source": [
    "intdict = {10 : 'C++', 20 : 'JAVA', 30 :'Phyton', 40 : 'ruby'}"
   ]
  },
  {
   "cell_type": "code",
   "execution_count": 295,
   "id": "ece5236d",
   "metadata": {},
   "outputs": [
    {
     "data": {
      "text/plain": [
       "dict_keys([10, 20, 30, 40])"
      ]
     },
     "execution_count": 295,
     "metadata": {},
     "output_type": "execute_result"
    }
   ],
   "source": [
    "intdict.keys()"
   ]
  },
  {
   "cell_type": "code",
   "execution_count": 296,
   "id": "e4c2950c",
   "metadata": {},
   "outputs": [
    {
     "data": {
      "text/plain": [
       "dict_values(['C++', 'JAVA', 'Phyton', 'ruby'])"
      ]
     },
     "execution_count": 296,
     "metadata": {},
     "output_type": "execute_result"
    }
   ],
   "source": [
    "intdict.values()"
   ]
  },
  {
   "cell_type": "code",
   "execution_count": 297,
   "id": "faacfcad",
   "metadata": {},
   "outputs": [
    {
     "data": {
      "text/plain": [
       "dict_items([(10, 'C++'), (20, 'JAVA'), (30, 'Phyton'), (40, 'ruby')])"
      ]
     },
     "execution_count": 297,
     "metadata": {},
     "output_type": "execute_result"
    }
   ],
   "source": [
    "intdict.items()"
   ]
  },
  {
   "cell_type": "code",
   "execution_count": 298,
   "id": "dca8a67d",
   "metadata": {},
   "outputs": [],
   "source": [
    "intdict.update({30:'xyz'})\n"
   ]
  },
  {
   "cell_type": "code",
   "execution_count": 299,
   "id": "03771740",
   "metadata": {},
   "outputs": [
    {
     "data": {
      "text/plain": [
       "{10: 'C++', 20: 'JAVA', 30: 'xyz', 40: 'ruby'}"
      ]
     },
     "execution_count": 299,
     "metadata": {},
     "output_type": "execute_result"
    }
   ],
   "source": [
    "intdict"
   ]
  },
  {
   "cell_type": "code",
   "execution_count": 300,
   "id": "abd629ad",
   "metadata": {},
   "outputs": [],
   "source": [
    "intdict.update({50:\"rails\"})"
   ]
  },
  {
   "cell_type": "code",
   "execution_count": 301,
   "id": "b5584a4c",
   "metadata": {},
   "outputs": [
    {
     "data": {
      "text/plain": [
       "{10: 'C++', 20: 'JAVA', 30: 'xyz', 40: 'ruby', 50: 'rails'}"
      ]
     },
     "execution_count": 301,
     "metadata": {},
     "output_type": "execute_result"
    }
   ],
   "source": [
    "intdict"
   ]
  },
  {
   "cell_type": "code",
   "execution_count": 302,
   "id": "76b327a5",
   "metadata": {},
   "outputs": [],
   "source": [
    "intdict[40]='Csharp'"
   ]
  },
  {
   "cell_type": "code",
   "execution_count": 303,
   "id": "e9d6e0a9",
   "metadata": {},
   "outputs": [
    {
     "data": {
      "text/plain": [
       "{10: 'C++', 20: 'JAVA', 30: 'xyz', 40: 'Csharp', 50: 'rails'}"
      ]
     },
     "execution_count": 303,
     "metadata": {},
     "output_type": "execute_result"
    }
   ],
   "source": [
    "intdict"
   ]
  },
  {
   "cell_type": "code",
   "execution_count": 304,
   "id": "eea33887",
   "metadata": {},
   "outputs": [],
   "source": [
    "intdict[10]='ashu'"
   ]
  },
  {
   "cell_type": "code",
   "execution_count": 305,
   "id": "e18fd4fd",
   "metadata": {},
   "outputs": [
    {
     "data": {
      "text/plain": [
       "{10: 'ashu', 20: 'JAVA', 30: 'xyz', 40: 'Csharp', 50: 'rails'}"
      ]
     },
     "execution_count": 305,
     "metadata": {},
     "output_type": "execute_result"
    }
   ],
   "source": [
    "intdict"
   ]
  },
  {
   "cell_type": "code",
   "execution_count": 311,
   "id": "8eab171d",
   "metadata": {},
   "outputs": [],
   "source": [
    "intdict.update({60:\"net\"})"
   ]
  },
  {
   "cell_type": "code",
   "execution_count": 312,
   "id": "6e115e9a",
   "metadata": {},
   "outputs": [
    {
     "data": {
      "text/plain": [
       "{10: 'ashu', 20: 'JAVA', 30: 'xyz', 40: 'Csharp', 50: 'rails', 60: 'net'}"
      ]
     },
     "execution_count": 312,
     "metadata": {},
     "output_type": "execute_result"
    }
   ],
   "source": [
    "intdict"
   ]
  },
  {
   "cell_type": "code",
   "execution_count": 313,
   "id": "2bcb9939",
   "metadata": {},
   "outputs": [],
   "source": [
    "intdict[40]='C**'"
   ]
  },
  {
   "cell_type": "code",
   "execution_count": 314,
   "id": "e422c56f",
   "metadata": {},
   "outputs": [
    {
     "data": {
      "text/plain": [
       "{10: 'ashu', 20: 'JAVA', 30: 'xyz', 40: 'C**', 50: 'rails', 60: 'net'}"
      ]
     },
     "execution_count": 314,
     "metadata": {},
     "output_type": "execute_result"
    }
   ],
   "source": [
    "intdict"
   ]
  },
  {
   "cell_type": "code",
   "execution_count": 315,
   "id": "9dfab86e",
   "metadata": {},
   "outputs": [],
   "source": [
    "del intdict[40]"
   ]
  },
  {
   "cell_type": "code",
   "execution_count": 316,
   "id": "76a23d53",
   "metadata": {},
   "outputs": [
    {
     "data": {
      "text/plain": [
       "{10: 'ashu', 20: 'JAVA', 30: 'xyz', 50: 'rails', 60: 'net'}"
      ]
     },
     "execution_count": 316,
     "metadata": {},
     "output_type": "execute_result"
    }
   ],
   "source": [
    "intdict"
   ]
  },
  {
   "cell_type": "code",
   "execution_count": 317,
   "id": "88b7dd5c",
   "metadata": {},
   "outputs": [
    {
     "data": {
      "text/plain": [
       "'JAVA'"
      ]
     },
     "execution_count": 317,
     "metadata": {},
     "output_type": "execute_result"
    }
   ],
   "source": [
    "intdict.pop(20)"
   ]
  },
  {
   "cell_type": "code",
   "execution_count": 318,
   "id": "eb425d3d",
   "metadata": {},
   "outputs": [
    {
     "data": {
      "text/plain": [
       "{10: 'ashu', 30: 'xyz', 50: 'rails', 60: 'net'}"
      ]
     },
     "execution_count": 318,
     "metadata": {},
     "output_type": "execute_result"
    }
   ],
   "source": [
    "intdict"
   ]
  },
  {
   "cell_type": "code",
   "execution_count": 319,
   "id": "61feab6d",
   "metadata": {},
   "outputs": [
    {
     "data": {
      "text/plain": [
       "dict_items([(10, 'ashu'), (30, 'xyz'), (50, 'rails'), (60, 'net')])"
      ]
     },
     "execution_count": 319,
     "metadata": {},
     "output_type": "execute_result"
    }
   ],
   "source": [
    "intdict.items()"
   ]
  },
  {
   "cell_type": "code",
   "execution_count": 320,
   "id": "2623c12f",
   "metadata": {},
   "outputs": [
    {
     "data": {
      "text/plain": [
       "dict_keys([10, 30, 50, 60])"
      ]
     },
     "execution_count": 320,
     "metadata": {},
     "output_type": "execute_result"
    }
   ],
   "source": [
    "intdict.keys()"
   ]
  },
  {
   "cell_type": "code",
   "execution_count": 334,
   "id": "883f3f12",
   "metadata": {},
   "outputs": [
    {
     "data": {
      "text/plain": [
       "{'id': [1, 2, 3],\n",
       " 'Name': ['Jack', 'John', 'Andrew'],\n",
       " 'grade': ['first', 'second', 'third']}"
      ]
     },
     "execution_count": 334,
     "metadata": {},
     "output_type": "execute_result"
    }
   ],
   "source": [
    "dict2={'id':[1,2,3],'Name':['Jack','John','Andrew'],'grade':['first','second','third']}\n",
    "dict2"
   ]
  },
  {
   "cell_type": "code",
   "execution_count": 337,
   "id": "0f536bb2",
   "metadata": {},
   "outputs": [],
   "source": [
    "newdict={1:['Red','Green','Blue'],2:['white','Pink','Purple'],3:['Orange','brown','yellow']}"
   ]
  },
  {
   "cell_type": "code",
   "execution_count": 338,
   "id": "c8bbc64d",
   "metadata": {},
   "outputs": [
    {
     "data": {
      "text/plain": [
       "{1: ['Red', 'Green', 'Blue'],\n",
       " 2: ['white', 'Pink', 'Purple'],\n",
       " 3: ['Orange', 'brown', 'yellow']}"
      ]
     },
     "execution_count": 338,
     "metadata": {},
     "output_type": "execute_result"
    }
   ],
   "source": [
    "newdict"
   ]
  },
  {
   "cell_type": "code",
   "execution_count": 339,
   "id": "0a2981a6",
   "metadata": {},
   "outputs": [
    {
     "data": {
      "text/plain": [
       "dict_keys([1, 2, 3])"
      ]
     },
     "execution_count": 339,
     "metadata": {},
     "output_type": "execute_result"
    }
   ],
   "source": [
    "newdict.keys()"
   ]
  },
  {
   "cell_type": "code",
   "execution_count": 340,
   "id": "c0b4081d",
   "metadata": {},
   "outputs": [
    {
     "data": {
      "text/plain": [
       "dict_values([['Red', 'Green', 'Blue'], ['white', 'Pink', 'Purple'], ['Orange', 'brown', 'yellow']])"
      ]
     },
     "execution_count": 340,
     "metadata": {},
     "output_type": "execute_result"
    }
   ],
   "source": [
    "newdict.values()"
   ]
  },
  {
   "cell_type": "code",
   "execution_count": 341,
   "id": "d4b094fc",
   "metadata": {},
   "outputs": [
    {
     "data": {
      "text/plain": [
       "dict_values([['Red', 'Green', 'Blue'], ['white', 'Pink', 'Purple'], ['Orange', 'brown', 'yellow']])"
      ]
     },
     "execution_count": 341,
     "metadata": {},
     "output_type": "execute_result"
    }
   ],
   "source": [
    "newdict.values()"
   ]
  },
  {
   "cell_type": "code",
   "execution_count": 348,
   "id": "f6577e6f",
   "metadata": {},
   "outputs": [
    {
     "ename": "NameError",
     "evalue": "name 'newdict' is not defined",
     "output_type": "error",
     "traceback": [
      "\u001b[1;31m---------------------------------------------------------------------------\u001b[0m",
      "\u001b[1;31mNameError\u001b[0m                                 Traceback (most recent call last)",
      "\u001b[1;32mC:\\Users\\JASMEE~1\\AppData\\Local\\Temp/ipykernel_25084/500375045.py\u001b[0m in \u001b[0;36m<module>\u001b[1;34m\u001b[0m\n\u001b[1;32m----> 1\u001b[1;33m \u001b[0mnewdict\u001b[0m\u001b[1;33m.\u001b[0m\u001b[0mclear\u001b[0m\u001b[1;33m(\u001b[0m\u001b[1;33m)\u001b[0m\u001b[1;33m\u001b[0m\u001b[1;33m\u001b[0m\u001b[0m\n\u001b[0m",
      "\u001b[1;31mNameError\u001b[0m: name 'newdict' is not defined"
     ]
    }
   ],
   "source": [
    "newdict.clear()"
   ]
  },
  {
   "cell_type": "code",
   "execution_count": 343,
   "id": "08d936bb",
   "metadata": {},
   "outputs": [
    {
     "data": {
      "text/plain": [
       "{}"
      ]
     },
     "execution_count": 343,
     "metadata": {},
     "output_type": "execute_result"
    }
   ],
   "source": [
    "newdict"
   ]
  },
  {
   "cell_type": "code",
   "execution_count": 346,
   "id": "37cae846",
   "metadata": {},
   "outputs": [
    {
     "ename": "NameError",
     "evalue": "name 'newdict' is not defined",
     "output_type": "error",
     "traceback": [
      "\u001b[1;31m---------------------------------------------------------------------------\u001b[0m",
      "\u001b[1;31mNameError\u001b[0m                                 Traceback (most recent call last)",
      "\u001b[1;32mC:\\Users\\JASMEE~1\\AppData\\Local\\Temp/ipykernel_25084/1602567964.py\u001b[0m in \u001b[0;36m<module>\u001b[1;34m\u001b[0m\n\u001b[1;32m----> 1\u001b[1;33m \u001b[0mnewdict\u001b[0m\u001b[1;33m\u001b[0m\u001b[1;33m\u001b[0m\u001b[0m\n\u001b[0m",
      "\u001b[1;31mNameError\u001b[0m: name 'newdict' is not defined"
     ]
    }
   ],
   "source": [
    "newdict"
   ]
  },
  {
   "cell_type": "code",
   "execution_count": 349,
   "id": "0f212885",
   "metadata": {},
   "outputs": [],
   "source": [
    "d2={'id':[1,2,3],'Name':['ABC','DEF','GGG'],'AGE':[12,23,34,]}"
   ]
  },
  {
   "cell_type": "code",
   "execution_count": 351,
   "id": "66620737",
   "metadata": {},
   "outputs": [
    {
     "data": {
      "text/plain": [
       "{'id': [1, 2, 3], 'Name': ['ABC', 'DEF', 'GGG'], 'AGE': [12, 23, 34]}"
      ]
     },
     "execution_count": 351,
     "metadata": {},
     "output_type": "execute_result"
    }
   ],
   "source": [
    "d2"
   ]
  },
  {
   "cell_type": "code",
   "execution_count": 352,
   "id": "dffaefa1",
   "metadata": {},
   "outputs": [
    {
     "data": {
      "text/plain": [
       "dict_keys(['id', 'Name', 'AGE'])"
      ]
     },
     "execution_count": 352,
     "metadata": {},
     "output_type": "execute_result"
    }
   ],
   "source": [
    "d2.keys()"
   ]
  },
  {
   "cell_type": "code",
   "execution_count": 366,
   "id": "60c425f3",
   "metadata": {},
   "outputs": [
    {
     "data": {
      "text/plain": [
       "[1, 2, 3]"
      ]
     },
     "execution_count": 366,
     "metadata": {},
     "output_type": "execute_result"
    }
   ],
   "source": [
    "d2['id']"
   ]
  },
  {
   "cell_type": "code",
   "execution_count": 368,
   "id": "d5e00a58",
   "metadata": {},
   "outputs": [
    {
     "data": {
      "text/plain": [
       "['ABC', 'DEF', 'GGG']"
      ]
     },
     "execution_count": 368,
     "metadata": {},
     "output_type": "execute_result"
    }
   ],
   "source": [
    "d2 [\"Name\"]"
   ]
  },
  {
   "cell_type": "code",
   "execution_count": 369,
   "id": "1abe5c50",
   "metadata": {},
   "outputs": [
    {
     "data": {
      "text/plain": [
       "[12, 23, 34]"
      ]
     },
     "execution_count": 369,
     "metadata": {},
     "output_type": "execute_result"
    }
   ],
   "source": [
    "d2[\"AGE\"]"
   ]
  },
  {
   "cell_type": "code",
   "execution_count": 370,
   "id": "3f53dbe5",
   "metadata": {},
   "outputs": [
    {
     "data": {
      "text/plain": [
       "1"
      ]
     },
     "execution_count": 370,
     "metadata": {},
     "output_type": "execute_result"
    }
   ],
   "source": [
    "d2['id'][0]"
   ]
  },
  {
   "cell_type": "code",
   "execution_count": 371,
   "id": "6f2ced18",
   "metadata": {},
   "outputs": [
    {
     "data": {
      "text/plain": [
       "2"
      ]
     },
     "execution_count": 371,
     "metadata": {},
     "output_type": "execute_result"
    }
   ],
   "source": [
    "d2['id'][1]"
   ]
  },
  {
   "cell_type": "code",
   "execution_count": 372,
   "id": "483d6d0c",
   "metadata": {},
   "outputs": [
    {
     "data": {
      "text/plain": [
       "3"
      ]
     },
     "execution_count": 372,
     "metadata": {},
     "output_type": "execute_result"
    }
   ],
   "source": [
    "d2['id'][2]"
   ]
  },
  {
   "cell_type": "code",
   "execution_count": 377,
   "id": "ee1ac926",
   "metadata": {},
   "outputs": [
    {
     "data": {
      "text/plain": [
       "['ABC', 'DEF', 'GGG']"
      ]
     },
     "execution_count": 377,
     "metadata": {},
     "output_type": "execute_result"
    }
   ],
   "source": [
    "d2['Name']"
   ]
  },
  {
   "cell_type": "code",
   "execution_count": 378,
   "id": "52d90da6",
   "metadata": {},
   "outputs": [
    {
     "data": {
      "text/plain": [
       "'ABC'"
      ]
     },
     "execution_count": 378,
     "metadata": {},
     "output_type": "execute_result"
    }
   ],
   "source": [
    "d2['Name'][0]"
   ]
  },
  {
   "cell_type": "code",
   "execution_count": 391,
   "id": "9b7a9b60",
   "metadata": {},
   "outputs": [
    {
     "data": {
      "text/plain": [
       "{'id': [1, 2, 300], 'Name': ['qqq', 'DEF', 'GGG'], 'AGE': [12, 666, 34]}"
      ]
     },
     "execution_count": 391,
     "metadata": {},
     "output_type": "execute_result"
    }
   ],
   "source": [
    "d2['id'][2]=300\n",
    "d2"
   ]
  },
  {
   "cell_type": "code",
   "execution_count": 385,
   "id": "578e5a96",
   "metadata": {},
   "outputs": [
    {
     "data": {
      "text/plain": [
       "[1, 2, 300]"
      ]
     },
     "execution_count": 385,
     "metadata": {},
     "output_type": "execute_result"
    }
   ],
   "source": [
    "d2['id']"
   ]
  },
  {
   "cell_type": "code",
   "execution_count": 382,
   "id": "7c67939e",
   "metadata": {},
   "outputs": [],
   "source": [
    "d2['Name'][0]='qqq'"
   ]
  },
  {
   "cell_type": "code",
   "execution_count": 384,
   "id": "659149e1",
   "metadata": {},
   "outputs": [
    {
     "data": {
      "text/plain": [
       "['qqq', 'DEF', 'GGG']"
      ]
     },
     "execution_count": 384,
     "metadata": {},
     "output_type": "execute_result"
    }
   ],
   "source": [
    "d2['Name']"
   ]
  },
  {
   "cell_type": "code",
   "execution_count": 387,
   "id": "bd87693d",
   "metadata": {},
   "outputs": [
    {
     "data": {
      "text/plain": [
       "[12, 23, 34]"
      ]
     },
     "execution_count": 387,
     "metadata": {},
     "output_type": "execute_result"
    }
   ],
   "source": [
    "d2['AGE']"
   ]
  },
  {
   "cell_type": "code",
   "execution_count": 388,
   "id": "9e568225",
   "metadata": {},
   "outputs": [
    {
     "data": {
      "text/plain": [
       "23"
      ]
     },
     "execution_count": 388,
     "metadata": {},
     "output_type": "execute_result"
    }
   ],
   "source": [
    "d2['AGE'][1]"
   ]
  },
  {
   "cell_type": "code",
   "execution_count": 389,
   "id": "a94dca73",
   "metadata": {},
   "outputs": [],
   "source": [
    "d2['AGE'][1]=666"
   ]
  },
  {
   "cell_type": "code",
   "execution_count": 390,
   "id": "13b6150d",
   "metadata": {},
   "outputs": [
    {
     "data": {
      "text/plain": [
       "[12, 666, 34]"
      ]
     },
     "execution_count": 390,
     "metadata": {},
     "output_type": "execute_result"
    }
   ],
   "source": [
    "d2['AGE']"
   ]
  },
  {
   "cell_type": "code",
   "execution_count": 392,
   "id": "8015aa5b",
   "metadata": {},
   "outputs": [
    {
     "data": {
      "text/plain": [
       "['qqq', 'DEF', 'GGG']"
      ]
     },
     "execution_count": 392,
     "metadata": {},
     "output_type": "execute_result"
    }
   ],
   "source": [
    "d2['Name']"
   ]
  },
  {
   "cell_type": "code",
   "execution_count": 393,
   "id": "490d1dab",
   "metadata": {},
   "outputs": [
    {
     "data": {
      "text/plain": [
       "'qqq'"
      ]
     },
     "execution_count": 393,
     "metadata": {},
     "output_type": "execute_result"
    }
   ],
   "source": [
    "d2['Name'][0]"
   ]
  },
  {
   "cell_type": "code",
   "execution_count": 394,
   "id": "40dfad7b",
   "metadata": {},
   "outputs": [
    {
     "data": {
      "text/plain": [
       "'DEF'"
      ]
     },
     "execution_count": 394,
     "metadata": {},
     "output_type": "execute_result"
    }
   ],
   "source": [
    "d2['Name'][1]"
   ]
  },
  {
   "cell_type": "code",
   "execution_count": 395,
   "id": "8b3448cd",
   "metadata": {},
   "outputs": [
    {
     "data": {
      "text/plain": [
       "'GGG'"
      ]
     },
     "execution_count": 395,
     "metadata": {},
     "output_type": "execute_result"
    }
   ],
   "source": [
    "d2['Name'][2]"
   ]
  },
  {
   "cell_type": "code",
   "execution_count": 397,
   "id": "0aa24c84",
   "metadata": {},
   "outputs": [
    {
     "data": {
      "text/plain": [
       "666"
      ]
     },
     "execution_count": 397,
     "metadata": {},
     "output_type": "execute_result"
    }
   ],
   "source": [
    "d2['AGE'][1]"
   ]
  },
  {
   "cell_type": "code",
   "execution_count": 402,
   "id": "c40f8b6b",
   "metadata": {},
   "outputs": [],
   "source": [
    "d2.update({'id':222, 'Name':'wwww', 'AGE':'66'})"
   ]
  },
  {
   "cell_type": "code",
   "execution_count": 403,
   "id": "229bb5b4",
   "metadata": {},
   "outputs": [
    {
     "data": {
      "text/plain": [
       "{'id': 222, 'Name': 'wwww', 'AGE': '66'}"
      ]
     },
     "execution_count": 403,
     "metadata": {},
     "output_type": "execute_result"
    }
   ],
   "source": [
    "d2"
   ]
  },
  {
   "cell_type": "code",
   "execution_count": 404,
   "id": "a92c001c",
   "metadata": {},
   "outputs": [
    {
     "data": {
      "text/plain": [
       "{'id': 222, 'Name': 'wwww', 'AGE': '66'}"
      ]
     },
     "execution_count": 404,
     "metadata": {},
     "output_type": "execute_result"
    }
   ],
   "source": [
    "d2"
   ]
  },
  {
   "cell_type": "markdown",
   "id": "769e5541",
   "metadata": {},
   "source": [
    "# SETS"
   ]
  },
  {
   "cell_type": "code",
   "execution_count": 405,
   "id": "da460d44",
   "metadata": {},
   "outputs": [
    {
     "data": {
      "text/plain": [
       "{22, 33, 44, 55}"
      ]
     },
     "execution_count": 405,
     "metadata": {},
     "output_type": "execute_result"
    }
   ],
   "source": [
    "x={22,33,44,55}\n",
    "x"
   ]
  },
  {
   "cell_type": "code",
   "execution_count": 412,
   "id": "3978bae0",
   "metadata": {},
   "outputs": [
    {
     "data": {
      "text/plain": [
       "{33, 44, 55, 66, 77}"
      ]
     },
     "execution_count": 412,
     "metadata": {},
     "output_type": "execute_result"
    }
   ],
   "source": [
    "y=set([33,44,55,66,77])\n",
    "\n",
    "y"
   ]
  },
  {
   "cell_type": "code",
   "execution_count": 413,
   "id": "520beaa7",
   "metadata": {},
   "outputs": [
    {
     "data": {
      "text/plain": [
       "{22, 33, 44, 45, 55, 67}"
      ]
     },
     "execution_count": 413,
     "metadata": {},
     "output_type": "execute_result"
    }
   ],
   "source": [
    "x={22,33,44,55,67,45}\n",
    "x"
   ]
  },
  {
   "cell_type": "code",
   "execution_count": 414,
   "id": "70211653",
   "metadata": {},
   "outputs": [
    {
     "data": {
      "text/plain": [
       "set"
      ]
     },
     "execution_count": 414,
     "metadata": {},
     "output_type": "execute_result"
    }
   ],
   "source": [
    "days={\"Monday\",\"Tuesday\",\"Wednesday\",\"Thursday\"}\n",
    "type(days)"
   ]
  },
  {
   "cell_type": "code",
   "execution_count": 417,
   "id": "1fa821b7",
   "metadata": {},
   "outputs": [
    {
     "data": {
      "text/plain": [
       "{'Monday', 'Sunday', 'Thursday', 'Tuesday', 'Wednesday'}"
      ]
     },
     "execution_count": 417,
     "metadata": {},
     "output_type": "execute_result"
    }
   ],
   "source": [
    "days.add(\"Sunday\")\n",
    "days"
   ]
  },
  {
   "cell_type": "code",
   "execution_count": 1,
   "id": "3cc85234",
   "metadata": {},
   "outputs": [
    {
     "ename": "NameError",
     "evalue": "name 'days' is not defined",
     "output_type": "error",
     "traceback": [
      "\u001b[1;31m---------------------------------------------------------------------------\u001b[0m",
      "\u001b[1;31mNameError\u001b[0m                                 Traceback (most recent call last)",
      "\u001b[1;32mC:\\Users\\JASMEE~1\\AppData\\Local\\Temp/ipykernel_25984/393391452.py\u001b[0m in \u001b[0;36m<module>\u001b[1;34m\u001b[0m\n\u001b[1;32m----> 1\u001b[1;33m \u001b[0mprint\u001b[0m\u001b[1;33m(\u001b[0m\u001b[0mdays\u001b[0m\u001b[1;33m[\u001b[0m\u001b[1;36m0\u001b[0m\u001b[1;33m]\u001b[0m\u001b[1;33m)\u001b[0m\u001b[1;33m\u001b[0m\u001b[1;33m\u001b[0m\u001b[0m\n\u001b[0m",
      "\u001b[1;31mNameError\u001b[0m: name 'days' is not defined"
     ]
    }
   ],
   "source": [
    "print(days[0])"
   ]
  },
  {
   "cell_type": "code",
   "execution_count": 2,
   "id": "dca8805d",
   "metadata": {},
   "outputs": [
    {
     "ename": "NameError",
     "evalue": "name 'days' is not defined",
     "output_type": "error",
     "traceback": [
      "\u001b[1;31m---------------------------------------------------------------------------\u001b[0m",
      "\u001b[1;31mNameError\u001b[0m                                 Traceback (most recent call last)",
      "\u001b[1;32mC:\\Users\\JASMEE~1\\AppData\\Local\\Temp/ipykernel_25984/1774244467.py\u001b[0m in \u001b[0;36m<module>\u001b[1;34m\u001b[0m\n\u001b[1;32m----> 1\u001b[1;33m \u001b[0mdays\u001b[0m\u001b[1;33m[\u001b[0m\u001b[1;36m1\u001b[0m\u001b[1;33m]\u001b[0m\u001b[1;33m=\u001b[0m\u001b[1;34m\"June\"\u001b[0m\u001b[1;33m\u001b[0m\u001b[1;33m\u001b[0m\u001b[0m\n\u001b[0m",
      "\u001b[1;31mNameError\u001b[0m: name 'days' is not defined"
     ]
    }
   ],
   "source": [
    "days[1]=\"June\"\n"
   ]
  },
  {
   "cell_type": "code",
   "execution_count": 423,
   "id": "5fbc14e7",
   "metadata": {},
   "outputs": [],
   "source": [
    "days.remove(\"Sunday\")"
   ]
  },
  {
   "cell_type": "code",
   "execution_count": 424,
   "id": "d7c33898",
   "metadata": {},
   "outputs": [
    {
     "data": {
      "text/plain": [
       "{'Monday', 'Thursday', 'Tuesday', 'Wednesday'}"
      ]
     },
     "execution_count": 424,
     "metadata": {},
     "output_type": "execute_result"
    }
   ],
   "source": [
    "days"
   ]
  },
  {
   "cell_type": "code",
   "execution_count": 426,
   "id": "7379a922",
   "metadata": {},
   "outputs": [
    {
     "data": {
      "text/plain": [
       "set()"
      ]
     },
     "execution_count": 426,
     "metadata": {},
     "output_type": "execute_result"
    }
   ],
   "source": [
    "days.clear()\n",
    "days"
   ]
  },
  {
   "cell_type": "code",
   "execution_count": null,
   "id": "f201ad57",
   "metadata": {},
   "outputs": [],
   "source": []
  }
 ],
 "metadata": {
  "kernelspec": {
   "display_name": "Python 3 (ipykernel)",
   "language": "python",
   "name": "python3"
  },
  "language_info": {
   "codemirror_mode": {
    "name": "ipython",
    "version": 3
   },
   "file_extension": ".py",
   "mimetype": "text/x-python",
   "name": "python",
   "nbconvert_exporter": "python",
   "pygments_lexer": "ipython3",
   "version": "3.9.7"
  }
 },
 "nbformat": 4,
 "nbformat_minor": 5
}
